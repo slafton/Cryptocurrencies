{
 "cells": [
  {
   "cell_type": "markdown",
   "metadata": {},
   "source": [
    "# Clustering Crypto"
   ]
  },
  {
   "cell_type": "code",
   "execution_count": 19,
   "metadata": {},
   "outputs": [],
   "source": [
    "# Initial imports\n",
    "import pandas as pd\n",
    "import hvplot.pandas\n",
    "from pathlib import Path\n",
    "import plotly.express as px\n",
    "from sklearn.preprocessing import StandardScaler, MinMaxScaler\n",
    "from sklearn.decomposition import PCA\n",
    "from sklearn.cluster import KMeans\n",
    "import matplotlib.pyplot as plt\n",
    "from scipy.cluster.hierarchy import fcluster, linkage, dendrogram\n"
   ]
  },
  {
   "cell_type": "markdown",
   "metadata": {},
   "source": [
    "### Deliverable 1: Preprocessing the Data for PCA"
   ]
  },
  {
   "cell_type": "code",
   "execution_count": 3,
   "metadata": {},
   "outputs": [
    {
     "data": {
      "text/html": [
       "<div>\n",
       "<style scoped>\n",
       "    .dataframe tbody tr th:only-of-type {\n",
       "        vertical-align: middle;\n",
       "    }\n",
       "\n",
       "    .dataframe tbody tr th {\n",
       "        vertical-align: top;\n",
       "    }\n",
       "\n",
       "    .dataframe thead th {\n",
       "        text-align: right;\n",
       "    }\n",
       "</style>\n",
       "<table border=\"1\" class=\"dataframe\">\n",
       "  <thead>\n",
       "    <tr style=\"text-align: right;\">\n",
       "      <th></th>\n",
       "      <th>CoinName</th>\n",
       "      <th>Algorithm</th>\n",
       "      <th>IsTrading</th>\n",
       "      <th>ProofType</th>\n",
       "      <th>TotalCoinsMined</th>\n",
       "      <th>TotalCoinSupply</th>\n",
       "    </tr>\n",
       "  </thead>\n",
       "  <tbody>\n",
       "    <tr>\n",
       "      <th>42</th>\n",
       "      <td>42 Coin</td>\n",
       "      <td>Scrypt</td>\n",
       "      <td>True</td>\n",
       "      <td>PoW/PoS</td>\n",
       "      <td>4.199995e+01</td>\n",
       "      <td>42</td>\n",
       "    </tr>\n",
       "    <tr>\n",
       "      <th>365</th>\n",
       "      <td>365Coin</td>\n",
       "      <td>X11</td>\n",
       "      <td>True</td>\n",
       "      <td>PoW/PoS</td>\n",
       "      <td>NaN</td>\n",
       "      <td>2300000000</td>\n",
       "    </tr>\n",
       "    <tr>\n",
       "      <th>404</th>\n",
       "      <td>404Coin</td>\n",
       "      <td>Scrypt</td>\n",
       "      <td>True</td>\n",
       "      <td>PoW/PoS</td>\n",
       "      <td>1.055185e+09</td>\n",
       "      <td>532000000</td>\n",
       "    </tr>\n",
       "    <tr>\n",
       "      <th>611</th>\n",
       "      <td>SixEleven</td>\n",
       "      <td>SHA-256</td>\n",
       "      <td>True</td>\n",
       "      <td>PoW</td>\n",
       "      <td>NaN</td>\n",
       "      <td>611000</td>\n",
       "    </tr>\n",
       "    <tr>\n",
       "      <th>808</th>\n",
       "      <td>808</td>\n",
       "      <td>SHA-256</td>\n",
       "      <td>True</td>\n",
       "      <td>PoW/PoS</td>\n",
       "      <td>0.000000e+00</td>\n",
       "      <td>0</td>\n",
       "    </tr>\n",
       "  </tbody>\n",
       "</table>\n",
       "</div>"
      ],
      "text/plain": [
       "      CoinName Algorithm  IsTrading ProofType  TotalCoinsMined TotalCoinSupply\n",
       "42     42 Coin    Scrypt       True   PoW/PoS     4.199995e+01              42\n",
       "365    365Coin       X11       True   PoW/PoS              NaN      2300000000\n",
       "404    404Coin    Scrypt       True   PoW/PoS     1.055185e+09       532000000\n",
       "611  SixEleven   SHA-256       True       PoW              NaN          611000\n",
       "808        808   SHA-256       True   PoW/PoS     0.000000e+00               0"
      ]
     },
     "execution_count": 3,
     "metadata": {},
     "output_type": "execute_result"
    }
   ],
   "source": [
    "# Load the crypto_data.csv dataset.\n",
    "file_path = \"crypto_data.csv\"\n",
    "df = pd.read_csv(file_path, index_col=0)\n",
    "df.head()"
   ]
  },
  {
   "cell_type": "code",
   "execution_count": 45,
   "metadata": {},
   "outputs": [
    {
     "data": {
      "text/html": [
       "<div>\n",
       "<style scoped>\n",
       "    .dataframe tbody tr th:only-of-type {\n",
       "        vertical-align: middle;\n",
       "    }\n",
       "\n",
       "    .dataframe tbody tr th {\n",
       "        vertical-align: top;\n",
       "    }\n",
       "\n",
       "    .dataframe thead th {\n",
       "        text-align: right;\n",
       "    }\n",
       "</style>\n",
       "<table border=\"1\" class=\"dataframe\">\n",
       "  <thead>\n",
       "    <tr style=\"text-align: right;\">\n",
       "      <th></th>\n",
       "      <th>CoinName</th>\n",
       "      <th>Algorithm</th>\n",
       "      <th>IsTrading</th>\n",
       "      <th>ProofType</th>\n",
       "      <th>TotalCoinsMined</th>\n",
       "      <th>TotalCoinSupply</th>\n",
       "    </tr>\n",
       "  </thead>\n",
       "  <tbody>\n",
       "    <tr>\n",
       "      <th>42</th>\n",
       "      <td>42 Coin</td>\n",
       "      <td>Scrypt</td>\n",
       "      <td>True</td>\n",
       "      <td>PoW/PoS</td>\n",
       "      <td>4.199995e+01</td>\n",
       "      <td>42</td>\n",
       "    </tr>\n",
       "    <tr>\n",
       "      <th>365</th>\n",
       "      <td>365Coin</td>\n",
       "      <td>X11</td>\n",
       "      <td>True</td>\n",
       "      <td>PoW/PoS</td>\n",
       "      <td>NaN</td>\n",
       "      <td>2300000000</td>\n",
       "    </tr>\n",
       "    <tr>\n",
       "      <th>404</th>\n",
       "      <td>404Coin</td>\n",
       "      <td>Scrypt</td>\n",
       "      <td>True</td>\n",
       "      <td>PoW/PoS</td>\n",
       "      <td>1.055185e+09</td>\n",
       "      <td>532000000</td>\n",
       "    </tr>\n",
       "    <tr>\n",
       "      <th>611</th>\n",
       "      <td>SixEleven</td>\n",
       "      <td>SHA-256</td>\n",
       "      <td>True</td>\n",
       "      <td>PoW</td>\n",
       "      <td>NaN</td>\n",
       "      <td>611000</td>\n",
       "    </tr>\n",
       "    <tr>\n",
       "      <th>808</th>\n",
       "      <td>808</td>\n",
       "      <td>SHA-256</td>\n",
       "      <td>True</td>\n",
       "      <td>PoW/PoS</td>\n",
       "      <td>0.000000e+00</td>\n",
       "      <td>0</td>\n",
       "    </tr>\n",
       "    <tr>\n",
       "      <th>1337</th>\n",
       "      <td>EliteCoin</td>\n",
       "      <td>X13</td>\n",
       "      <td>True</td>\n",
       "      <td>PoW/PoS</td>\n",
       "      <td>2.927942e+10</td>\n",
       "      <td>314159265359</td>\n",
       "    </tr>\n",
       "    <tr>\n",
       "      <th>2015</th>\n",
       "      <td>2015 coin</td>\n",
       "      <td>X11</td>\n",
       "      <td>True</td>\n",
       "      <td>PoW/PoS</td>\n",
       "      <td>NaN</td>\n",
       "      <td>0</td>\n",
       "    </tr>\n",
       "    <tr>\n",
       "      <th>BTC</th>\n",
       "      <td>Bitcoin</td>\n",
       "      <td>SHA-256</td>\n",
       "      <td>True</td>\n",
       "      <td>PoW</td>\n",
       "      <td>1.792718e+07</td>\n",
       "      <td>21000000</td>\n",
       "    </tr>\n",
       "    <tr>\n",
       "      <th>ETH</th>\n",
       "      <td>Ethereum</td>\n",
       "      <td>Ethash</td>\n",
       "      <td>True</td>\n",
       "      <td>PoW</td>\n",
       "      <td>1.076842e+08</td>\n",
       "      <td>0</td>\n",
       "    </tr>\n",
       "    <tr>\n",
       "      <th>LTC</th>\n",
       "      <td>Litecoin</td>\n",
       "      <td>Scrypt</td>\n",
       "      <td>True</td>\n",
       "      <td>PoW</td>\n",
       "      <td>6.303924e+07</td>\n",
       "      <td>84000000</td>\n",
       "    </tr>\n",
       "  </tbody>\n",
       "</table>\n",
       "</div>"
      ],
      "text/plain": [
       "       CoinName Algorithm  IsTrading ProofType  TotalCoinsMined  \\\n",
       "42      42 Coin    Scrypt       True   PoW/PoS     4.199995e+01   \n",
       "365     365Coin       X11       True   PoW/PoS              NaN   \n",
       "404     404Coin    Scrypt       True   PoW/PoS     1.055185e+09   \n",
       "611   SixEleven   SHA-256       True       PoW              NaN   \n",
       "808         808   SHA-256       True   PoW/PoS     0.000000e+00   \n",
       "1337  EliteCoin       X13       True   PoW/PoS     2.927942e+10   \n",
       "2015  2015 coin       X11       True   PoW/PoS              NaN   \n",
       "BTC     Bitcoin   SHA-256       True       PoW     1.792718e+07   \n",
       "ETH    Ethereum    Ethash       True       PoW     1.076842e+08   \n",
       "LTC    Litecoin    Scrypt       True       PoW     6.303924e+07   \n",
       "\n",
       "     TotalCoinSupply  \n",
       "42                42  \n",
       "365       2300000000  \n",
       "404        532000000  \n",
       "611           611000  \n",
       "808                0  \n",
       "1337    314159265359  \n",
       "2015               0  \n",
       "BTC         21000000  \n",
       "ETH                0  \n",
       "LTC         84000000  "
      ]
     },
     "execution_count": 45,
     "metadata": {},
     "output_type": "execute_result"
    }
   ],
   "source": [
    "# Keep all the cryptocurrencies that are being traded.\n",
    "crypto_df = df[df.IsTrading != 0]\n",
    "crypto_df.head(10)"
   ]
  },
  {
   "cell_type": "code",
   "execution_count": 46,
   "metadata": {},
   "outputs": [
    {
     "data": {
      "text/plain": [
       "(1144, 6)"
      ]
     },
     "execution_count": 46,
     "metadata": {},
     "output_type": "execute_result"
    }
   ],
   "source": [
    "crypto_df = crypto_df[crypto_df[\"IsTrading\"]==True]\n",
    "crypto_df.shape"
   ]
  },
  {
   "cell_type": "code",
   "execution_count": 47,
   "metadata": {},
   "outputs": [
    {
     "data": {
      "text/plain": [
       "(1144, 6)"
      ]
     },
     "execution_count": 47,
     "metadata": {},
     "output_type": "execute_result"
    }
   ],
   "source": [
    "# Keep all the cryptocurrencies that have a working algorithm.\n",
    "crypto_df = crypto_df.dropna(subset =[\"Algorithm\"])\n",
    "crypto_df.shape"
   ]
  },
  {
   "cell_type": "code",
   "execution_count": 49,
   "metadata": {},
   "outputs": [
    {
     "data": {
      "text/plain": [
       "(685, 5)"
      ]
     },
     "execution_count": 49,
     "metadata": {},
     "output_type": "execute_result"
    }
   ],
   "source": [
    "# Remove the \"IsTrading\" column. \n",
    "crypto_df = crypto_df.dropna()\n",
    "crypto_df.shape"
   ]
  },
  {
   "cell_type": "code",
   "execution_count": 7,
   "metadata": {},
   "outputs": [
    {
     "data": {
      "text/html": [
       "<div>\n",
       "<style scoped>\n",
       "    .dataframe tbody tr th:only-of-type {\n",
       "        vertical-align: middle;\n",
       "    }\n",
       "\n",
       "    .dataframe tbody tr th {\n",
       "        vertical-align: top;\n",
       "    }\n",
       "\n",
       "    .dataframe thead th {\n",
       "        text-align: right;\n",
       "    }\n",
       "</style>\n",
       "<table border=\"1\" class=\"dataframe\">\n",
       "  <thead>\n",
       "    <tr style=\"text-align: right;\">\n",
       "      <th></th>\n",
       "      <th>CoinName</th>\n",
       "      <th>Algorithm</th>\n",
       "      <th>ProofType</th>\n",
       "      <th>TotalCoinsMined</th>\n",
       "      <th>TotalCoinSupply</th>\n",
       "    </tr>\n",
       "  </thead>\n",
       "  <tbody>\n",
       "    <tr>\n",
       "      <th>42</th>\n",
       "      <td>42 Coin</td>\n",
       "      <td>Scrypt</td>\n",
       "      <td>PoW/PoS</td>\n",
       "      <td>4.199995e+01</td>\n",
       "      <td>42</td>\n",
       "    </tr>\n",
       "    <tr>\n",
       "      <th>404</th>\n",
       "      <td>404Coin</td>\n",
       "      <td>Scrypt</td>\n",
       "      <td>PoW/PoS</td>\n",
       "      <td>1.055185e+09</td>\n",
       "      <td>532000000</td>\n",
       "    </tr>\n",
       "    <tr>\n",
       "      <th>808</th>\n",
       "      <td>808</td>\n",
       "      <td>SHA-256</td>\n",
       "      <td>PoW/PoS</td>\n",
       "      <td>0.000000e+00</td>\n",
       "      <td>0</td>\n",
       "    </tr>\n",
       "    <tr>\n",
       "      <th>1337</th>\n",
       "      <td>EliteCoin</td>\n",
       "      <td>X13</td>\n",
       "      <td>PoW/PoS</td>\n",
       "      <td>2.927942e+10</td>\n",
       "      <td>314159265359</td>\n",
       "    </tr>\n",
       "    <tr>\n",
       "      <th>BTC</th>\n",
       "      <td>Bitcoin</td>\n",
       "      <td>SHA-256</td>\n",
       "      <td>PoW</td>\n",
       "      <td>1.792718e+07</td>\n",
       "      <td>21000000</td>\n",
       "    </tr>\n",
       "    <tr>\n",
       "      <th>ETH</th>\n",
       "      <td>Ethereum</td>\n",
       "      <td>Ethash</td>\n",
       "      <td>PoW</td>\n",
       "      <td>1.076842e+08</td>\n",
       "      <td>0</td>\n",
       "    </tr>\n",
       "    <tr>\n",
       "      <th>LTC</th>\n",
       "      <td>Litecoin</td>\n",
       "      <td>Scrypt</td>\n",
       "      <td>PoW</td>\n",
       "      <td>6.303924e+07</td>\n",
       "      <td>84000000</td>\n",
       "    </tr>\n",
       "    <tr>\n",
       "      <th>DASH</th>\n",
       "      <td>Dash</td>\n",
       "      <td>X11</td>\n",
       "      <td>PoW/PoS</td>\n",
       "      <td>9.031294e+06</td>\n",
       "      <td>22000000</td>\n",
       "    </tr>\n",
       "    <tr>\n",
       "      <th>XMR</th>\n",
       "      <td>Monero</td>\n",
       "      <td>CryptoNight-V7</td>\n",
       "      <td>PoW</td>\n",
       "      <td>1.720114e+07</td>\n",
       "      <td>0</td>\n",
       "    </tr>\n",
       "    <tr>\n",
       "      <th>ETC</th>\n",
       "      <td>Ethereum Classic</td>\n",
       "      <td>Ethash</td>\n",
       "      <td>PoW</td>\n",
       "      <td>1.133597e+08</td>\n",
       "      <td>210000000</td>\n",
       "    </tr>\n",
       "  </tbody>\n",
       "</table>\n",
       "</div>"
      ],
      "text/plain": [
       "              CoinName       Algorithm ProofType  TotalCoinsMined  \\\n",
       "42             42 Coin          Scrypt   PoW/PoS     4.199995e+01   \n",
       "404            404Coin          Scrypt   PoW/PoS     1.055185e+09   \n",
       "808                808         SHA-256   PoW/PoS     0.000000e+00   \n",
       "1337         EliteCoin             X13   PoW/PoS     2.927942e+10   \n",
       "BTC            Bitcoin         SHA-256       PoW     1.792718e+07   \n",
       "ETH           Ethereum          Ethash       PoW     1.076842e+08   \n",
       "LTC           Litecoin          Scrypt       PoW     6.303924e+07   \n",
       "DASH              Dash             X11   PoW/PoS     9.031294e+06   \n",
       "XMR             Monero  CryptoNight-V7       PoW     1.720114e+07   \n",
       "ETC   Ethereum Classic          Ethash       PoW     1.133597e+08   \n",
       "\n",
       "     TotalCoinSupply  \n",
       "42                42  \n",
       "404        532000000  \n",
       "808                0  \n",
       "1337    314159265359  \n",
       "BTC         21000000  \n",
       "ETH                0  \n",
       "LTC         84000000  \n",
       "DASH        22000000  \n",
       "XMR                0  \n",
       "ETC        210000000  "
      ]
     },
     "execution_count": 7,
     "metadata": {},
     "output_type": "execute_result"
    }
   ],
   "source": [
    "# Remove rows that have at least 1 null value.\n",
    "clean_df = dropped_df[~(dropped_df.isna() == True).any(axis=1)]\n",
    "clean_df.head(10)"
   ]
  },
  {
   "cell_type": "code",
   "execution_count": 50,
   "metadata": {},
   "outputs": [
    {
     "data": {
      "text/plain": [
       "(532, 5)"
      ]
     },
     "execution_count": 50,
     "metadata": {},
     "output_type": "execute_result"
    }
   ],
   "source": [
    "# Keep the rows where coins are mined.\n",
    "crypto_df = crypto_df[crypto_df[\"TotalCoinsMined\"] >0]\n",
    "crypto_df.shape"
   ]
  },
  {
   "cell_type": "code",
   "execution_count": 51,
   "metadata": {},
   "outputs": [
    {
     "data": {
      "text/html": [
       "<div>\n",
       "<style scoped>\n",
       "    .dataframe tbody tr th:only-of-type {\n",
       "        vertical-align: middle;\n",
       "    }\n",
       "\n",
       "    .dataframe tbody tr th {\n",
       "        vertical-align: top;\n",
       "    }\n",
       "\n",
       "    .dataframe thead th {\n",
       "        text-align: right;\n",
       "    }\n",
       "</style>\n",
       "<table border=\"1\" class=\"dataframe\">\n",
       "  <thead>\n",
       "    <tr style=\"text-align: right;\">\n",
       "      <th></th>\n",
       "      <th>CoinName</th>\n",
       "    </tr>\n",
       "  </thead>\n",
       "  <tbody>\n",
       "    <tr>\n",
       "      <th>42</th>\n",
       "      <td>42 Coin</td>\n",
       "    </tr>\n",
       "    <tr>\n",
       "      <th>404</th>\n",
       "      <td>404Coin</td>\n",
       "    </tr>\n",
       "    <tr>\n",
       "      <th>1337</th>\n",
       "      <td>EliteCoin</td>\n",
       "    </tr>\n",
       "    <tr>\n",
       "      <th>BTC</th>\n",
       "      <td>Bitcoin</td>\n",
       "    </tr>\n",
       "    <tr>\n",
       "      <th>ETH</th>\n",
       "      <td>Ethereum</td>\n",
       "    </tr>\n",
       "  </tbody>\n",
       "</table>\n",
       "</div>"
      ],
      "text/plain": [
       "       CoinName\n",
       "42      42 Coin\n",
       "404     404Coin\n",
       "1337  EliteCoin\n",
       "BTC     Bitcoin\n",
       "ETH    Ethereum"
      ]
     },
     "execution_count": 51,
     "metadata": {},
     "output_type": "execute_result"
    }
   ],
   "source": [
    "# Create a new DataFrame that holds only the cryptocurrencies names.\n",
    "crypto_name_df = crypto_df.filter(['CoinName']) \n",
    "crypto_name_df.head()"
   ]
  },
  {
   "cell_type": "code",
   "execution_count": 52,
   "metadata": {},
   "outputs": [
    {
     "data": {
      "text/html": [
       "<div>\n",
       "<style scoped>\n",
       "    .dataframe tbody tr th:only-of-type {\n",
       "        vertical-align: middle;\n",
       "    }\n",
       "\n",
       "    .dataframe tbody tr th {\n",
       "        vertical-align: top;\n",
       "    }\n",
       "\n",
       "    .dataframe thead th {\n",
       "        text-align: right;\n",
       "    }\n",
       "</style>\n",
       "<table border=\"1\" class=\"dataframe\">\n",
       "  <thead>\n",
       "    <tr style=\"text-align: right;\">\n",
       "      <th></th>\n",
       "      <th>Algorithm</th>\n",
       "      <th>ProofType</th>\n",
       "      <th>TotalCoinsMined</th>\n",
       "      <th>TotalCoinSupply</th>\n",
       "    </tr>\n",
       "  </thead>\n",
       "  <tbody>\n",
       "    <tr>\n",
       "      <th>42</th>\n",
       "      <td>Scrypt</td>\n",
       "      <td>PoW/PoS</td>\n",
       "      <td>4.199995e+01</td>\n",
       "      <td>42</td>\n",
       "    </tr>\n",
       "    <tr>\n",
       "      <th>404</th>\n",
       "      <td>Scrypt</td>\n",
       "      <td>PoW/PoS</td>\n",
       "      <td>1.055185e+09</td>\n",
       "      <td>532000000</td>\n",
       "    </tr>\n",
       "    <tr>\n",
       "      <th>1337</th>\n",
       "      <td>X13</td>\n",
       "      <td>PoW/PoS</td>\n",
       "      <td>2.927942e+10</td>\n",
       "      <td>314159265359</td>\n",
       "    </tr>\n",
       "    <tr>\n",
       "      <th>BTC</th>\n",
       "      <td>SHA-256</td>\n",
       "      <td>PoW</td>\n",
       "      <td>1.792718e+07</td>\n",
       "      <td>21000000</td>\n",
       "    </tr>\n",
       "    <tr>\n",
       "      <th>ETH</th>\n",
       "      <td>Ethash</td>\n",
       "      <td>PoW</td>\n",
       "      <td>1.076842e+08</td>\n",
       "      <td>0</td>\n",
       "    </tr>\n",
       "  </tbody>\n",
       "</table>\n",
       "</div>"
      ],
      "text/plain": [
       "     Algorithm ProofType  TotalCoinsMined TotalCoinSupply\n",
       "42      Scrypt   PoW/PoS     4.199995e+01              42\n",
       "404     Scrypt   PoW/PoS     1.055185e+09       532000000\n",
       "1337       X13   PoW/PoS     2.927942e+10    314159265359\n",
       "BTC    SHA-256       PoW     1.792718e+07        21000000\n",
       "ETH     Ethash       PoW     1.076842e+08               0"
      ]
     },
     "execution_count": 52,
     "metadata": {},
     "output_type": "execute_result"
    }
   ],
   "source": [
    "# Drop the 'CoinName' column since it's not going to be used on the clustering algorithm.\n",
    "crypto_df.drop(columns=[\"CoinName\"], inplace = True)\n",
    "crypto_df.head()"
   ]
  },
  {
   "cell_type": "code",
   "execution_count": 53,
   "metadata": {},
   "outputs": [
    {
     "data": {
      "text/plain": [
       "Index(['Algorithm', 'ProofType', 'TotalCoinsMined', 'TotalCoinSupply'], dtype='object')"
      ]
     },
     "execution_count": 53,
     "metadata": {},
     "output_type": "execute_result"
    }
   ],
   "source": [
    "crypto_df.columns"
   ]
  },
  {
   "cell_type": "code",
   "execution_count": 54,
   "metadata": {},
   "outputs": [
    {
     "data": {
      "text/html": [
       "<div>\n",
       "<style scoped>\n",
       "    .dataframe tbody tr th:only-of-type {\n",
       "        vertical-align: middle;\n",
       "    }\n",
       "\n",
       "    .dataframe tbody tr th {\n",
       "        vertical-align: top;\n",
       "    }\n",
       "\n",
       "    .dataframe thead th {\n",
       "        text-align: right;\n",
       "    }\n",
       "</style>\n",
       "<table border=\"1\" class=\"dataframe\">\n",
       "  <thead>\n",
       "    <tr style=\"text-align: right;\">\n",
       "      <th></th>\n",
       "      <th>TotalCoinsMined</th>\n",
       "      <th>TotalCoinSupply</th>\n",
       "      <th>Algorithm_1GB AES Pattern Search</th>\n",
       "      <th>Algorithm_536</th>\n",
       "      <th>Algorithm_Argon2d</th>\n",
       "      <th>Algorithm_BLAKE256</th>\n",
       "      <th>Algorithm_Blake</th>\n",
       "      <th>Algorithm_Blake2S</th>\n",
       "      <th>Algorithm_Blake2b</th>\n",
       "      <th>Algorithm_C11</th>\n",
       "      <th>...</th>\n",
       "      <th>ProofType_PoW/PoS</th>\n",
       "      <th>ProofType_PoW/PoS</th>\n",
       "      <th>ProofType_PoW/PoW</th>\n",
       "      <th>ProofType_PoW/nPoS</th>\n",
       "      <th>ProofType_Pos</th>\n",
       "      <th>ProofType_Proof of Authority</th>\n",
       "      <th>ProofType_Proof of Trust</th>\n",
       "      <th>ProofType_TPoS</th>\n",
       "      <th>ProofType_Zero-Knowledge Proof</th>\n",
       "      <th>ProofType_dPoW/PoW</th>\n",
       "    </tr>\n",
       "  </thead>\n",
       "  <tbody>\n",
       "    <tr>\n",
       "      <th>42</th>\n",
       "      <td>4.199995e+01</td>\n",
       "      <td>42</td>\n",
       "      <td>0</td>\n",
       "      <td>0</td>\n",
       "      <td>0</td>\n",
       "      <td>0</td>\n",
       "      <td>0</td>\n",
       "      <td>0</td>\n",
       "      <td>0</td>\n",
       "      <td>0</td>\n",
       "      <td>...</td>\n",
       "      <td>1</td>\n",
       "      <td>0</td>\n",
       "      <td>0</td>\n",
       "      <td>0</td>\n",
       "      <td>0</td>\n",
       "      <td>0</td>\n",
       "      <td>0</td>\n",
       "      <td>0</td>\n",
       "      <td>0</td>\n",
       "      <td>0</td>\n",
       "    </tr>\n",
       "    <tr>\n",
       "      <th>404</th>\n",
       "      <td>1.055185e+09</td>\n",
       "      <td>532000000</td>\n",
       "      <td>0</td>\n",
       "      <td>0</td>\n",
       "      <td>0</td>\n",
       "      <td>0</td>\n",
       "      <td>0</td>\n",
       "      <td>0</td>\n",
       "      <td>0</td>\n",
       "      <td>0</td>\n",
       "      <td>...</td>\n",
       "      <td>1</td>\n",
       "      <td>0</td>\n",
       "      <td>0</td>\n",
       "      <td>0</td>\n",
       "      <td>0</td>\n",
       "      <td>0</td>\n",
       "      <td>0</td>\n",
       "      <td>0</td>\n",
       "      <td>0</td>\n",
       "      <td>0</td>\n",
       "    </tr>\n",
       "    <tr>\n",
       "      <th>1337</th>\n",
       "      <td>2.927942e+10</td>\n",
       "      <td>314159265359</td>\n",
       "      <td>0</td>\n",
       "      <td>0</td>\n",
       "      <td>0</td>\n",
       "      <td>0</td>\n",
       "      <td>0</td>\n",
       "      <td>0</td>\n",
       "      <td>0</td>\n",
       "      <td>0</td>\n",
       "      <td>...</td>\n",
       "      <td>1</td>\n",
       "      <td>0</td>\n",
       "      <td>0</td>\n",
       "      <td>0</td>\n",
       "      <td>0</td>\n",
       "      <td>0</td>\n",
       "      <td>0</td>\n",
       "      <td>0</td>\n",
       "      <td>0</td>\n",
       "      <td>0</td>\n",
       "    </tr>\n",
       "    <tr>\n",
       "      <th>BTC</th>\n",
       "      <td>1.792718e+07</td>\n",
       "      <td>21000000</td>\n",
       "      <td>0</td>\n",
       "      <td>0</td>\n",
       "      <td>0</td>\n",
       "      <td>0</td>\n",
       "      <td>0</td>\n",
       "      <td>0</td>\n",
       "      <td>0</td>\n",
       "      <td>0</td>\n",
       "      <td>...</td>\n",
       "      <td>0</td>\n",
       "      <td>0</td>\n",
       "      <td>0</td>\n",
       "      <td>0</td>\n",
       "      <td>0</td>\n",
       "      <td>0</td>\n",
       "      <td>0</td>\n",
       "      <td>0</td>\n",
       "      <td>0</td>\n",
       "      <td>0</td>\n",
       "    </tr>\n",
       "    <tr>\n",
       "      <th>ETH</th>\n",
       "      <td>1.076842e+08</td>\n",
       "      <td>0</td>\n",
       "      <td>0</td>\n",
       "      <td>0</td>\n",
       "      <td>0</td>\n",
       "      <td>0</td>\n",
       "      <td>0</td>\n",
       "      <td>0</td>\n",
       "      <td>0</td>\n",
       "      <td>0</td>\n",
       "      <td>...</td>\n",
       "      <td>0</td>\n",
       "      <td>0</td>\n",
       "      <td>0</td>\n",
       "      <td>0</td>\n",
       "      <td>0</td>\n",
       "      <td>0</td>\n",
       "      <td>0</td>\n",
       "      <td>0</td>\n",
       "      <td>0</td>\n",
       "      <td>0</td>\n",
       "    </tr>\n",
       "  </tbody>\n",
       "</table>\n",
       "<p>5 rows × 98 columns</p>\n",
       "</div>"
      ],
      "text/plain": [
       "      TotalCoinsMined TotalCoinSupply  Algorithm_1GB AES Pattern Search  \\\n",
       "42       4.199995e+01              42                                 0   \n",
       "404      1.055185e+09       532000000                                 0   \n",
       "1337     2.927942e+10    314159265359                                 0   \n",
       "BTC      1.792718e+07        21000000                                 0   \n",
       "ETH      1.076842e+08               0                                 0   \n",
       "\n",
       "      Algorithm_536  Algorithm_Argon2d  Algorithm_BLAKE256  Algorithm_Blake  \\\n",
       "42                0                  0                   0                0   \n",
       "404               0                  0                   0                0   \n",
       "1337              0                  0                   0                0   \n",
       "BTC               0                  0                   0                0   \n",
       "ETH               0                  0                   0                0   \n",
       "\n",
       "      Algorithm_Blake2S  Algorithm_Blake2b  Algorithm_C11  ...  \\\n",
       "42                    0                  0              0  ...   \n",
       "404                   0                  0              0  ...   \n",
       "1337                  0                  0              0  ...   \n",
       "BTC                   0                  0              0  ...   \n",
       "ETH                   0                  0              0  ...   \n",
       "\n",
       "      ProofType_PoW/PoS  ProofType_PoW/PoS   ProofType_PoW/PoW  \\\n",
       "42                    1                   0                  0   \n",
       "404                   1                   0                  0   \n",
       "1337                  1                   0                  0   \n",
       "BTC                   0                   0                  0   \n",
       "ETH                   0                   0                  0   \n",
       "\n",
       "      ProofType_PoW/nPoS  ProofType_Pos  ProofType_Proof of Authority  \\\n",
       "42                     0              0                             0   \n",
       "404                    0              0                             0   \n",
       "1337                   0              0                             0   \n",
       "BTC                    0              0                             0   \n",
       "ETH                    0              0                             0   \n",
       "\n",
       "      ProofType_Proof of Trust  ProofType_TPoS  \\\n",
       "42                           0               0   \n",
       "404                          0               0   \n",
       "1337                         0               0   \n",
       "BTC                          0               0   \n",
       "ETH                          0               0   \n",
       "\n",
       "      ProofType_Zero-Knowledge Proof  ProofType_dPoW/PoW  \n",
       "42                                 0                   0  \n",
       "404                                0                   0  \n",
       "1337                               0                   0  \n",
       "BTC                                0                   0  \n",
       "ETH                                0                   0  \n",
       "\n",
       "[5 rows x 98 columns]"
      ]
     },
     "execution_count": 54,
     "metadata": {},
     "output_type": "execute_result"
    }
   ],
   "source": [
    "# Use get_dummies() to create variables for text features.\n",
    "X = pd.get_dummies(crypto_df, columns=[\"Algorithm\", \"ProofType\"])\n",
    "X.head()"
   ]
  },
  {
   "cell_type": "code",
   "execution_count": 55,
   "metadata": {},
   "outputs": [
    {
     "name": "stdout",
     "output_type": "stream",
     "text": [
      "[[-0.11710817 -0.1528703  -0.0433963  -0.0433963  -0.0433963  -0.06142951\n",
      "  -0.07530656 -0.0433963  -0.06142951 -0.06142951 -0.0433963  -0.0433963\n",
      "  -0.19245009 -0.06142951 -0.09740465 -0.0433963  -0.11547005 -0.07530656\n",
      "  -0.0433963  -0.0433963  -0.15191091 -0.0433963  -0.13118084 -0.0433963\n",
      "  -0.0433963  -0.08703883 -0.0433963  -0.0433963  -0.0433963  -0.0433963\n",
      "  -0.06142951 -0.0433963  -0.08703883 -0.08703883 -0.08703883 -0.0433963\n",
      "  -0.13118084 -0.13840913 -0.13840913 -0.0433963  -0.06142951 -0.0433963\n",
      "  -0.07530656 -0.18168574 -0.0433963  -0.0433963  -0.0433963  -0.07530656\n",
      "  -0.15826614 -0.31491833 -0.0433963  -0.08703883 -0.07530656 -0.06142951\n",
      "   1.38675049 -0.0433963  -0.0433963  -0.06142951 -0.0433963  -0.0433963\n",
      "  -0.0433963  -0.0433963  -0.0433963  -0.0433963  -0.0433963  -0.0433963\n",
      "  -0.39879994 -0.0433963  -0.18168574 -0.0433963  -0.08703883 -0.08703883\n",
      "  -0.10680283 -0.0433963  -0.13118084 -0.0433963  -0.0433963  -0.0433963\n",
      "  -0.0433963  -0.07530656 -0.43911856 -0.0433963  -0.06142951 -0.0433963\n",
      "  -0.0433963  -0.89632016 -0.0433963  -0.0433963   1.42222617 -0.0433963\n",
      "  -0.0433963  -0.0433963  -0.0433963  -0.0433963  -0.0433963  -0.0433963\n",
      "  -0.0433963  -0.0433963 ]\n",
      " [-0.09396955 -0.145009   -0.0433963  -0.0433963  -0.0433963  -0.06142951\n",
      "  -0.07530656 -0.0433963  -0.06142951 -0.06142951 -0.0433963  -0.0433963\n",
      "  -0.19245009 -0.06142951 -0.09740465 -0.0433963  -0.11547005 -0.07530656\n",
      "  -0.0433963  -0.0433963  -0.15191091 -0.0433963  -0.13118084 -0.0433963\n",
      "  -0.0433963  -0.08703883 -0.0433963  -0.0433963  -0.0433963  -0.0433963\n",
      "  -0.06142951 -0.0433963  -0.08703883 -0.08703883 -0.08703883 -0.0433963\n",
      "  -0.13118084 -0.13840913 -0.13840913 -0.0433963  -0.06142951 -0.0433963\n",
      "  -0.07530656 -0.18168574 -0.0433963  -0.0433963  -0.0433963  -0.07530656\n",
      "  -0.15826614 -0.31491833 -0.0433963  -0.08703883 -0.07530656 -0.06142951\n",
      "   1.38675049 -0.0433963  -0.0433963  -0.06142951 -0.0433963  -0.0433963\n",
      "  -0.0433963  -0.0433963  -0.0433963  -0.0433963  -0.0433963  -0.0433963\n",
      "  -0.39879994 -0.0433963  -0.18168574 -0.0433963  -0.08703883 -0.08703883\n",
      "  -0.10680283 -0.0433963  -0.13118084 -0.0433963  -0.0433963  -0.0433963\n",
      "  -0.0433963  -0.07530656 -0.43911856 -0.0433963  -0.06142951 -0.0433963\n",
      "  -0.0433963  -0.89632016 -0.0433963  -0.0433963   1.42222617 -0.0433963\n",
      "  -0.0433963  -0.0433963  -0.0433963  -0.0433963  -0.0433963  -0.0433963\n",
      "  -0.0433963  -0.0433963 ]\n",
      " [ 0.52494561  4.48942416 -0.0433963  -0.0433963  -0.0433963  -0.06142951\n",
      "  -0.07530656 -0.0433963  -0.06142951 -0.06142951 -0.0433963  -0.0433963\n",
      "  -0.19245009 -0.06142951 -0.09740465 -0.0433963  -0.11547005 -0.07530656\n",
      "  -0.0433963  -0.0433963  -0.15191091 -0.0433963  -0.13118084 -0.0433963\n",
      "  -0.0433963  -0.08703883 -0.0433963  -0.0433963  -0.0433963  -0.0433963\n",
      "  -0.06142951 -0.0433963  -0.08703883 -0.08703883 -0.08703883 -0.0433963\n",
      "  -0.13118084 -0.13840913 -0.13840913 -0.0433963  -0.06142951 -0.0433963\n",
      "  -0.07530656 -0.18168574 -0.0433963  -0.0433963  -0.0433963  -0.07530656\n",
      "  -0.15826614 -0.31491833 -0.0433963  -0.08703883 -0.07530656 -0.06142951\n",
      "  -0.72111026 -0.0433963  -0.0433963  -0.06142951 -0.0433963  -0.0433963\n",
      "  -0.0433963  -0.0433963  -0.0433963  -0.0433963  -0.0433963  -0.0433963\n",
      "  -0.39879994 -0.0433963   5.50400923 -0.0433963  -0.08703883 -0.08703883\n",
      "  -0.10680283 -0.0433963  -0.13118084 -0.0433963  -0.0433963  -0.0433963\n",
      "  -0.0433963  -0.07530656 -0.43911856 -0.0433963  -0.06142951 -0.0433963\n",
      "  -0.0433963  -0.89632016 -0.0433963  -0.0433963   1.42222617 -0.0433963\n",
      "  -0.0433963  -0.0433963  -0.0433963  -0.0433963  -0.0433963  -0.0433963\n",
      "  -0.0433963  -0.0433963 ]\n",
      " [-0.11671506 -0.15255998 -0.0433963  -0.0433963  -0.0433963  -0.06142951\n",
      "  -0.07530656 -0.0433963  -0.06142951 -0.06142951 -0.0433963  -0.0433963\n",
      "  -0.19245009 -0.06142951 -0.09740465 -0.0433963  -0.11547005 -0.07530656\n",
      "  -0.0433963  -0.0433963  -0.15191091 -0.0433963  -0.13118084 -0.0433963\n",
      "  -0.0433963  -0.08703883 -0.0433963  -0.0433963  -0.0433963  -0.0433963\n",
      "  -0.06142951 -0.0433963  -0.08703883 -0.08703883 -0.08703883 -0.0433963\n",
      "  -0.13118084 -0.13840913 -0.13840913 -0.0433963  -0.06142951 -0.0433963\n",
      "  -0.07530656 -0.18168574 -0.0433963  -0.0433963  -0.0433963  -0.07530656\n",
      "  -0.15826614  3.17542648 -0.0433963  -0.08703883 -0.07530656 -0.06142951\n",
      "  -0.72111026 -0.0433963  -0.0433963  -0.06142951 -0.0433963  -0.0433963\n",
      "  -0.0433963  -0.0433963  -0.0433963  -0.0433963  -0.0433963  -0.0433963\n",
      "  -0.39879994 -0.0433963  -0.18168574 -0.0433963  -0.08703883 -0.08703883\n",
      "  -0.10680283 -0.0433963  -0.13118084 -0.0433963  -0.0433963  -0.0433963\n",
      "  -0.0433963  -0.07530656 -0.43911856 -0.0433963  -0.06142951 -0.0433963\n",
      "  -0.0433963   1.11567277 -0.0433963  -0.0433963  -0.70312305 -0.0433963\n",
      "  -0.0433963  -0.0433963  -0.0433963  -0.0433963  -0.0433963  -0.0433963\n",
      "  -0.0433963  -0.0433963 ]\n",
      " [-0.11474682 -0.1528703  -0.0433963  -0.0433963  -0.0433963  -0.06142951\n",
      "  -0.07530656 -0.0433963  -0.06142951 -0.06142951 -0.0433963  -0.0433963\n",
      "  -0.19245009 -0.06142951 -0.09740465 -0.0433963  -0.11547005 -0.07530656\n",
      "  -0.0433963  -0.0433963  -0.15191091 -0.0433963   7.62306442 -0.0433963\n",
      "  -0.0433963  -0.08703883 -0.0433963  -0.0433963  -0.0433963  -0.0433963\n",
      "  -0.06142951 -0.0433963  -0.08703883 -0.08703883 -0.08703883 -0.0433963\n",
      "  -0.13118084 -0.13840913 -0.13840913 -0.0433963  -0.06142951 -0.0433963\n",
      "  -0.07530656 -0.18168574 -0.0433963  -0.0433963  -0.0433963  -0.07530656\n",
      "  -0.15826614 -0.31491833 -0.0433963  -0.08703883 -0.07530656 -0.06142951\n",
      "  -0.72111026 -0.0433963  -0.0433963  -0.06142951 -0.0433963  -0.0433963\n",
      "  -0.0433963  -0.0433963  -0.0433963  -0.0433963  -0.0433963  -0.0433963\n",
      "  -0.39879994 -0.0433963  -0.18168574 -0.0433963  -0.08703883 -0.08703883\n",
      "  -0.10680283 -0.0433963  -0.13118084 -0.0433963  -0.0433963  -0.0433963\n",
      "  -0.0433963  -0.07530656 -0.43911856 -0.0433963  -0.06142951 -0.0433963\n",
      "  -0.0433963   1.11567277 -0.0433963  -0.0433963  -0.70312305 -0.0433963\n",
      "  -0.0433963  -0.0433963  -0.0433963  -0.0433963  -0.0433963  -0.0433963\n",
      "  -0.0433963  -0.0433963 ]]\n"
     ]
    }
   ],
   "source": [
    "# Standardize the data with StandardScaler().\n",
    "X_scaled = StandardScaler().fit_transform(X)\n",
    "print(X_scaled[0:5])"
   ]
  },
  {
   "cell_type": "markdown",
   "metadata": {},
   "source": [
    "### Deliverable 2: Reducing Data Dimensions Using PCA"
   ]
  },
  {
   "cell_type": "code",
   "execution_count": 56,
   "metadata": {},
   "outputs": [],
   "source": [
    "# Using PCA to reduce dimension to three principal components.\n",
    "pca = PCA(n_components=3)\n",
    "X_pca = pca.fit_transform(X_scaled)"
   ]
  },
  {
   "cell_type": "code",
   "execution_count": 57,
   "metadata": {},
   "outputs": [
    {
     "data": {
      "text/html": [
       "<div>\n",
       "<style scoped>\n",
       "    .dataframe tbody tr th:only-of-type {\n",
       "        vertical-align: middle;\n",
       "    }\n",
       "\n",
       "    .dataframe tbody tr th {\n",
       "        vertical-align: top;\n",
       "    }\n",
       "\n",
       "    .dataframe thead th {\n",
       "        text-align: right;\n",
       "    }\n",
       "</style>\n",
       "<table border=\"1\" class=\"dataframe\">\n",
       "  <thead>\n",
       "    <tr style=\"text-align: right;\">\n",
       "      <th></th>\n",
       "      <th>PC 1</th>\n",
       "      <th>PC 2</th>\n",
       "      <th>PC 3</th>\n",
       "    </tr>\n",
       "  </thead>\n",
       "  <tbody>\n",
       "    <tr>\n",
       "      <th>42</th>\n",
       "      <td>-0.323256</td>\n",
       "      <td>1.019908</td>\n",
       "      <td>-0.593163</td>\n",
       "    </tr>\n",
       "    <tr>\n",
       "      <th>404</th>\n",
       "      <td>-0.306654</td>\n",
       "      <td>1.020080</td>\n",
       "      <td>-0.593435</td>\n",
       "    </tr>\n",
       "    <tr>\n",
       "      <th>1337</th>\n",
       "      <td>2.334662</td>\n",
       "      <td>1.634620</td>\n",
       "      <td>-0.565490</td>\n",
       "    </tr>\n",
       "    <tr>\n",
       "      <th>BTC</th>\n",
       "      <td>-0.140775</td>\n",
       "      <td>-1.326379</td>\n",
       "      <td>0.186440</td>\n",
       "    </tr>\n",
       "    <tr>\n",
       "      <th>ETH</th>\n",
       "      <td>-0.162038</td>\n",
       "      <td>-2.060733</td>\n",
       "      <td>0.326364</td>\n",
       "    </tr>\n",
       "  </tbody>\n",
       "</table>\n",
       "</div>"
      ],
      "text/plain": [
       "          PC 1      PC 2      PC 3\n",
       "42   -0.323256  1.019908 -0.593163\n",
       "404  -0.306654  1.020080 -0.593435\n",
       "1337  2.334662  1.634620 -0.565490\n",
       "BTC  -0.140775 -1.326379  0.186440\n",
       "ETH  -0.162038 -2.060733  0.326364"
      ]
     },
     "execution_count": 57,
     "metadata": {},
     "output_type": "execute_result"
    }
   ],
   "source": [
    "# Create a DataFrame with the three principal components.\n",
    "pcs_df = pd.DataFrame(data=X_pca, columns = [\"PC 1\", \"PC 2\", \"PC 3\"],index=crypto_df.index)\n",
    "pcs_df.head()"
   ]
  },
  {
   "cell_type": "markdown",
   "metadata": {},
   "source": [
    "### Deliverable 3: Clustering Crytocurrencies Using K-Means\n",
    "\n",
    "#### Finding the Best Value for `k` Using the Elbow Curve"
   ]
  },
  {
   "cell_type": "code",
   "execution_count": 58,
   "metadata": {},
   "outputs": [
    {
     "name": "stderr",
     "output_type": "stream",
     "text": [
      "C:\\Users\\asnid\\anaconda3\\lib\\site-packages\\sklearn\\cluster\\_kmeans.py:1334: UserWarning:\n",
      "\n",
      "KMeans is known to have a memory leak on Windows with MKL, when there are less chunks than available threads. You can avoid it by setting the environment variable OMP_NUM_THREADS=3.\n",
      "\n",
      "C:\\Users\\asnid\\anaconda3\\lib\\site-packages\\sklearn\\cluster\\_kmeans.py:1334: UserWarning:\n",
      "\n",
      "KMeans is known to have a memory leak on Windows with MKL, when there are less chunks than available threads. You can avoid it by setting the environment variable OMP_NUM_THREADS=3.\n",
      "\n",
      "C:\\Users\\asnid\\anaconda3\\lib\\site-packages\\sklearn\\cluster\\_kmeans.py:1334: UserWarning:\n",
      "\n",
      "KMeans is known to have a memory leak on Windows with MKL, when there are less chunks than available threads. You can avoid it by setting the environment variable OMP_NUM_THREADS=3.\n",
      "\n",
      "C:\\Users\\asnid\\anaconda3\\lib\\site-packages\\sklearn\\cluster\\_kmeans.py:1334: UserWarning:\n",
      "\n",
      "KMeans is known to have a memory leak on Windows with MKL, when there are less chunks than available threads. You can avoid it by setting the environment variable OMP_NUM_THREADS=3.\n",
      "\n",
      "C:\\Users\\asnid\\anaconda3\\lib\\site-packages\\sklearn\\cluster\\_kmeans.py:1334: UserWarning:\n",
      "\n",
      "KMeans is known to have a memory leak on Windows with MKL, when there are less chunks than available threads. You can avoid it by setting the environment variable OMP_NUM_THREADS=3.\n",
      "\n",
      "C:\\Users\\asnid\\anaconda3\\lib\\site-packages\\sklearn\\cluster\\_kmeans.py:1334: UserWarning:\n",
      "\n",
      "KMeans is known to have a memory leak on Windows with MKL, when there are less chunks than available threads. You can avoid it by setting the environment variable OMP_NUM_THREADS=3.\n",
      "\n",
      "C:\\Users\\asnid\\anaconda3\\lib\\site-packages\\sklearn\\cluster\\_kmeans.py:1334: UserWarning:\n",
      "\n",
      "KMeans is known to have a memory leak on Windows with MKL, when there are less chunks than available threads. You can avoid it by setting the environment variable OMP_NUM_THREADS=3.\n",
      "\n",
      "C:\\Users\\asnid\\anaconda3\\lib\\site-packages\\sklearn\\cluster\\_kmeans.py:1334: UserWarning:\n",
      "\n",
      "KMeans is known to have a memory leak on Windows with MKL, when there are less chunks than available threads. You can avoid it by setting the environment variable OMP_NUM_THREADS=3.\n",
      "\n",
      "C:\\Users\\asnid\\anaconda3\\lib\\site-packages\\sklearn\\cluster\\_kmeans.py:1334: UserWarning:\n",
      "\n",
      "KMeans is known to have a memory leak on Windows with MKL, when there are less chunks than available threads. You can avoid it by setting the environment variable OMP_NUM_THREADS=3.\n",
      "\n",
      "C:\\Users\\asnid\\anaconda3\\lib\\site-packages\\sklearn\\cluster\\_kmeans.py:1334: UserWarning:\n",
      "\n",
      "KMeans is known to have a memory leak on Windows with MKL, when there are less chunks than available threads. You can avoid it by setting the environment variable OMP_NUM_THREADS=3.\n",
      "\n"
     ]
    },
    {
     "data": {},
     "metadata": {},
     "output_type": "display_data"
    },
    {
     "data": {
      "application/vnd.holoviews_exec.v0+json": "",
      "text/html": [
       "<div id='1415'>\n",
       "\n",
       "\n",
       "\n",
       "\n",
       "\n",
       "  <div class=\"bk-root\" id=\"f9c592c5-56eb-492b-8a07-891ff33239a0\" data-root-id=\"1415\"></div>\n",
       "</div>\n",
       "<script type=\"application/javascript\">(function(root) {\n",
       "  function embed_document(root) {\n",
       "    var docs_json = {\"8fe37eca-4b9a-40b0-8bc9-cc112aa6b26e\":{\"defs\":[{\"extends\":null,\"module\":null,\"name\":\"ReactiveHTML1\",\"overrides\":[],\"properties\":[]},{\"extends\":null,\"module\":null,\"name\":\"FlexBox1\",\"overrides\":[],\"properties\":[{\"default\":\"flex-start\",\"kind\":null,\"name\":\"align_content\"},{\"default\":\"flex-start\",\"kind\":null,\"name\":\"align_items\"},{\"default\":\"row\",\"kind\":null,\"name\":\"flex_direction\"},{\"default\":\"wrap\",\"kind\":null,\"name\":\"flex_wrap\"},{\"default\":\"flex-start\",\"kind\":null,\"name\":\"justify_content\"}]},{\"extends\":null,\"module\":null,\"name\":\"GridStack1\",\"overrides\":[],\"properties\":[{\"default\":\"warn\",\"kind\":null,\"name\":\"mode\"},{\"default\":null,\"kind\":null,\"name\":\"ncols\"},{\"default\":null,\"kind\":null,\"name\":\"nrows\"},{\"default\":true,\"kind\":null,\"name\":\"allow_resize\"},{\"default\":true,\"kind\":null,\"name\":\"allow_drag\"},{\"default\":[],\"kind\":null,\"name\":\"state\"}]},{\"extends\":null,\"module\":null,\"name\":\"click1\",\"overrides\":[],\"properties\":[{\"default\":\"\",\"kind\":null,\"name\":\"terminal_output\"},{\"default\":\"\",\"kind\":null,\"name\":\"debug_name\"},{\"default\":0,\"kind\":null,\"name\":\"clears\"}]},{\"extends\":null,\"module\":null,\"name\":\"TemplateActions1\",\"overrides\":[],\"properties\":[{\"default\":0,\"kind\":null,\"name\":\"open_modal\"},{\"default\":0,\"kind\":null,\"name\":\"close_modal\"}]},{\"extends\":null,\"module\":null,\"name\":\"MaterialTemplateActions1\",\"overrides\":[],\"properties\":[{\"default\":0,\"kind\":null,\"name\":\"open_modal\"},{\"default\":0,\"kind\":null,\"name\":\"close_modal\"}]}],\"roots\":{\"references\":[{\"attributes\":{},\"id\":\"1425\",\"type\":\"LinearScale\"},{\"attributes\":{},\"id\":\"1466\",\"type\":\"BasicTickFormatter\"},{\"attributes\":{\"end\":10.0,\"reset_end\":10.0,\"reset_start\":1.0,\"start\":1.0,\"tags\":[[[\"k\",\"k\",null]]]},\"id\":\"1417\",\"type\":\"Range1d\"},{\"attributes\":{\"bottom_units\":\"screen\",\"coordinates\":null,\"fill_alpha\":0.5,\"fill_color\":\"lightgrey\",\"group\":null,\"left_units\":\"screen\",\"level\":\"overlay\",\"line_alpha\":1.0,\"line_color\":\"black\",\"line_dash\":[4,4],\"line_width\":2,\"right_units\":\"screen\",\"syncable\":false,\"top_units\":\"screen\"},\"id\":\"1442\",\"type\":\"BoxAnnotation\"},{\"attributes\":{\"line_color\":\"#30a2da\",\"line_width\":2,\"x\":{\"field\":\"k\"},\"y\":{\"field\":\"inertia\"}},\"id\":\"1453\",\"type\":\"Line\"},{\"attributes\":{},\"id\":\"1462\",\"type\":\"AllLabels\"},{\"attributes\":{\"end\":3993.2215125946195,\"reset_end\":3993.2215125946195,\"reset_start\":-245.58898752200508,\"start\":-245.58898752200508,\"tags\":[[[\"inertia\",\"inertia\",null]]]},\"id\":\"1418\",\"type\":\"Range1d\"},{\"attributes\":{\"below\":[{\"id\":\"1429\"}],\"center\":[{\"id\":\"1432\"},{\"id\":\"1436\"}],\"height\":300,\"left\":[{\"id\":\"1433\"}],\"margin\":[5,5,5,5],\"min_border_bottom\":10,\"min_border_left\":10,\"min_border_right\":10,\"min_border_top\":10,\"renderers\":[{\"id\":\"1456\"}],\"sizing_mode\":\"fixed\",\"title\":{\"id\":\"1421\"},\"toolbar\":{\"id\":\"1443\"},\"width\":700,\"x_range\":{\"id\":\"1417\"},\"x_scale\":{\"id\":\"1425\"},\"y_range\":{\"id\":\"1418\"},\"y_scale\":{\"id\":\"1427\"}},\"id\":\"1420\",\"subtype\":\"Figure\",\"type\":\"Plot\"},{\"attributes\":{\"line_alpha\":0.1,\"line_color\":\"#30a2da\",\"line_width\":2,\"x\":{\"field\":\"k\"},\"y\":{\"field\":\"inertia\"}},\"id\":\"1454\",\"type\":\"Line\"},{\"attributes\":{},\"id\":\"1441\",\"type\":\"ResetTool\"},{\"attributes\":{\"axis\":{\"id\":\"1433\"},\"coordinates\":null,\"dimension\":1,\"grid_line_color\":null,\"group\":null,\"ticker\":null},\"id\":\"1436\",\"type\":\"Grid\"},{\"attributes\":{\"callback\":null,\"renderers\":[{\"id\":\"1456\"}],\"tags\":[\"hv_created\"],\"tooltips\":[[\"k\",\"@{k}\"],[\"inertia\",\"@{inertia}\"]]},\"id\":\"1419\",\"type\":\"HoverTool\"},{\"attributes\":{},\"id\":\"1439\",\"type\":\"WheelZoomTool\"},{\"attributes\":{\"line_color\":\"#30a2da\",\"line_width\":2,\"x\":{\"field\":\"k\"},\"y\":{\"field\":\"inertia\"}},\"id\":\"1458\",\"type\":\"Line\"},{\"attributes\":{},\"id\":\"1451\",\"type\":\"Selection\"},{\"attributes\":{\"coordinates\":null,\"data_source\":{\"id\":\"1450\"},\"glyph\":{\"id\":\"1453\"},\"group\":null,\"hover_glyph\":null,\"muted_glyph\":{\"id\":\"1455\"},\"nonselection_glyph\":{\"id\":\"1454\"},\"selection_glyph\":{\"id\":\"1458\"},\"view\":{\"id\":\"1457\"}},\"id\":\"1456\",\"type\":\"GlyphRenderer\"},{\"attributes\":{\"axis_label\":\"k\",\"coordinates\":null,\"formatter\":{\"id\":\"1461\"},\"group\":null,\"major_label_policy\":{\"id\":\"1462\"},\"ticker\":{\"id\":\"1459\"}},\"id\":\"1429\",\"type\":\"LinearAxis\"},{\"attributes\":{},\"id\":\"1437\",\"type\":\"SaveTool\"},{\"attributes\":{\"margin\":[5,5,5,5],\"name\":\"HSpacer02938\",\"sizing_mode\":\"stretch_width\"},\"id\":\"1416\",\"type\":\"Spacer\"},{\"attributes\":{\"line_alpha\":0.2,\"line_color\":\"#30a2da\",\"line_width\":2,\"x\":{\"field\":\"k\"},\"y\":{\"field\":\"inertia\"}},\"id\":\"1455\",\"type\":\"Line\"},{\"attributes\":{},\"id\":\"1474\",\"type\":\"UnionRenderers\"},{\"attributes\":{\"source\":{\"id\":\"1450\"}},\"id\":\"1457\",\"type\":\"CDSView\"},{\"attributes\":{\"data\":{\"inertia\":{\"__ndarray__\":\"Xl/xf/lvrEC1HsCuDGajQEZpsQJNSZdAmtodJCY2f0BGzE97tvRyQP1STrnXHm5AXPazILxPaEAIJdf3xeBjQLLKIwAmS2BAFEZFTEvpWkA=\",\"dtype\":\"float64\",\"order\":\"little\",\"shape\":[10]},\"k\":[1,2,3,4,5,6,7,8,9,10]},\"selected\":{\"id\":\"1451\"},\"selection_policy\":{\"id\":\"1474\"}},\"id\":\"1450\",\"type\":\"ColumnDataSource\"},{\"attributes\":{},\"id\":\"1434\",\"type\":\"BasicTicker\"},{\"attributes\":{},\"id\":\"1438\",\"type\":\"PanTool\"},{\"attributes\":{\"axis\":{\"id\":\"1429\"},\"coordinates\":null,\"grid_line_color\":null,\"group\":null,\"ticker\":null},\"id\":\"1432\",\"type\":\"Grid\"},{\"attributes\":{\"axis_label\":\"inertia\",\"coordinates\":null,\"formatter\":{\"id\":\"1466\"},\"group\":null,\"major_label_policy\":{\"id\":\"1467\"},\"ticker\":{\"id\":\"1434\"}},\"id\":\"1433\",\"type\":\"LinearAxis\"},{\"attributes\":{\"tools\":[{\"id\":\"1419\"},{\"id\":\"1437\"},{\"id\":\"1438\"},{\"id\":\"1439\"},{\"id\":\"1440\"},{\"id\":\"1441\"}]},\"id\":\"1443\",\"type\":\"Toolbar\"},{\"attributes\":{\"coordinates\":null,\"group\":null,\"text\":\"Elbow Curve\",\"text_color\":\"black\",\"text_font_size\":\"12pt\"},\"id\":\"1421\",\"type\":\"Title\"},{\"attributes\":{\"overlay\":{\"id\":\"1442\"}},\"id\":\"1440\",\"type\":\"BoxZoomTool\"},{\"attributes\":{},\"id\":\"1461\",\"type\":\"BasicTickFormatter\"},{\"attributes\":{\"ticks\":[1,2,3,4,5,6,7,8,9,10]},\"id\":\"1459\",\"type\":\"FixedTicker\"},{\"attributes\":{},\"id\":\"1467\",\"type\":\"AllLabels\"},{\"attributes\":{},\"id\":\"1427\",\"type\":\"LinearScale\"},{\"attributes\":{\"margin\":[5,5,5,5],\"name\":\"HSpacer02939\",\"sizing_mode\":\"stretch_width\"},\"id\":\"1486\",\"type\":\"Spacer\"},{\"attributes\":{\"children\":[{\"id\":\"1416\"},{\"id\":\"1420\"},{\"id\":\"1486\"}],\"margin\":[0,0,0,0],\"name\":\"Row02934\",\"tags\":[\"embedded\"]},\"id\":\"1415\",\"type\":\"Row\"}],\"root_ids\":[\"1415\"]},\"title\":\"Bokeh Application\",\"version\":\"2.4.2\"}};\n",
       "    var render_items = [{\"docid\":\"8fe37eca-4b9a-40b0-8bc9-cc112aa6b26e\",\"root_ids\":[\"1415\"],\"roots\":{\"1415\":\"f9c592c5-56eb-492b-8a07-891ff33239a0\"}}];\n",
       "    root.Bokeh.embed.embed_items_notebook(docs_json, render_items);\n",
       "  }\n",
       "  if (root.Bokeh !== undefined && root.Bokeh.Panel !== undefined) {\n",
       "    embed_document(root);\n",
       "  } else {\n",
       "    var attempts = 0;\n",
       "    var timer = setInterval(function(root) {\n",
       "      if (root.Bokeh !== undefined && root.Bokeh.Panel !== undefined) {\n",
       "        clearInterval(timer);\n",
       "        embed_document(root);\n",
       "      } else if (document.readyState == \"complete\") {\n",
       "        attempts++;\n",
       "        if (attempts > 200) {\n",
       "          clearInterval(timer);\n",
       "          console.log(\"Bokeh: ERROR: Unable to run BokehJS code because BokehJS library is missing\");\n",
       "        }\n",
       "      }\n",
       "    }, 25, root)\n",
       "  }\n",
       "})(window);</script>"
      ],
      "text/plain": [
       ":Curve   [k]   (inertia)"
      ]
     },
     "execution_count": 58,
     "metadata": {
      "application/vnd.holoviews_exec.v0+json": {
       "id": "1415"
      }
     },
     "output_type": "execute_result"
    }
   ],
   "source": [
    "# Create an elbow curve to find the best value for K.\n",
    "inertia = []\n",
    "k = list(range(1, 11))\n",
    "\n",
    "# Calculate the inertia for the range of K values\n",
    "for i in k:\n",
    "    km = KMeans(n_clusters=i, random_state=0)\n",
    "    km.fit(pcs_df)\n",
    "    inertia.append(km.inertia_)\n",
    "\n",
    "# Create the elbow curve\n",
    "elbow_data = {\"k\": k, \"inertia\": inertia}\n",
    "df_elbow = pd.DataFrame(elbow_data)\n",
    "df_elbow.hvplot.line(x=\"k\", y=\"inertia\", xticks=k, title=\"Elbow Curve\")\n"
   ]
  },
  {
   "cell_type": "markdown",
   "metadata": {},
   "source": [
    "Running K-Means with `k=4`"
   ]
  },
  {
   "cell_type": "code",
   "execution_count": 59,
   "metadata": {},
   "outputs": [
    {
     "name": "stderr",
     "output_type": "stream",
     "text": [
      "C:\\Users\\asnid\\anaconda3\\lib\\site-packages\\sklearn\\cluster\\_kmeans.py:1334: UserWarning:\n",
      "\n",
      "KMeans is known to have a memory leak on Windows with MKL, when there are less chunks than available threads. You can avoid it by setting the environment variable OMP_NUM_THREADS=3.\n",
      "\n"
     ]
    }
   ],
   "source": [
    "# Initialize the K-Means model.\n",
    "model = KMeans(n_clusters=4, random_state=0)\n",
    "\n",
    "# Fit the model\n",
    "model.fit(pcs_df)\n",
    "\n",
    "# Predict clusters\n",
    "predictions = model.predict(pcs_df)"
   ]
  },
  {
   "cell_type": "code",
   "execution_count": 60,
   "metadata": {},
   "outputs": [
    {
     "name": "stdout",
     "output_type": "stream",
     "text": [
      "(532, 9)\n"
     ]
    },
    {
     "data": {
      "text/html": [
       "<div>\n",
       "<style scoped>\n",
       "    .dataframe tbody tr th:only-of-type {\n",
       "        vertical-align: middle;\n",
       "    }\n",
       "\n",
       "    .dataframe tbody tr th {\n",
       "        vertical-align: top;\n",
       "    }\n",
       "\n",
       "    .dataframe thead th {\n",
       "        text-align: right;\n",
       "    }\n",
       "</style>\n",
       "<table border=\"1\" class=\"dataframe\">\n",
       "  <thead>\n",
       "    <tr style=\"text-align: right;\">\n",
       "      <th></th>\n",
       "      <th>Algorithm</th>\n",
       "      <th>ProofType</th>\n",
       "      <th>TotalCoinsMined</th>\n",
       "      <th>TotalCoinSupply</th>\n",
       "      <th>PC 1</th>\n",
       "      <th>PC 2</th>\n",
       "      <th>PC 3</th>\n",
       "      <th>CoinName</th>\n",
       "      <th>Class</th>\n",
       "    </tr>\n",
       "  </thead>\n",
       "  <tbody>\n",
       "    <tr>\n",
       "      <th>42</th>\n",
       "      <td>Scrypt</td>\n",
       "      <td>PoW/PoS</td>\n",
       "      <td>4.199995e+01</td>\n",
       "      <td>42</td>\n",
       "      <td>-0.323256</td>\n",
       "      <td>1.019908</td>\n",
       "      <td>-0.593163</td>\n",
       "      <td>42 Coin</td>\n",
       "      <td>0</td>\n",
       "    </tr>\n",
       "    <tr>\n",
       "      <th>404</th>\n",
       "      <td>Scrypt</td>\n",
       "      <td>PoW/PoS</td>\n",
       "      <td>1.055185e+09</td>\n",
       "      <td>532000000</td>\n",
       "      <td>-0.306654</td>\n",
       "      <td>1.020080</td>\n",
       "      <td>-0.593435</td>\n",
       "      <td>404Coin</td>\n",
       "      <td>0</td>\n",
       "    </tr>\n",
       "    <tr>\n",
       "      <th>1337</th>\n",
       "      <td>X13</td>\n",
       "      <td>PoW/PoS</td>\n",
       "      <td>2.927942e+10</td>\n",
       "      <td>314159265359</td>\n",
       "      <td>2.334662</td>\n",
       "      <td>1.634620</td>\n",
       "      <td>-0.565490</td>\n",
       "      <td>EliteCoin</td>\n",
       "      <td>0</td>\n",
       "    </tr>\n",
       "    <tr>\n",
       "      <th>BTC</th>\n",
       "      <td>SHA-256</td>\n",
       "      <td>PoW</td>\n",
       "      <td>1.792718e+07</td>\n",
       "      <td>21000000</td>\n",
       "      <td>-0.140775</td>\n",
       "      <td>-1.326379</td>\n",
       "      <td>0.186440</td>\n",
       "      <td>Bitcoin</td>\n",
       "      <td>3</td>\n",
       "    </tr>\n",
       "    <tr>\n",
       "      <th>ETH</th>\n",
       "      <td>Ethash</td>\n",
       "      <td>PoW</td>\n",
       "      <td>1.076842e+08</td>\n",
       "      <td>0</td>\n",
       "      <td>-0.162038</td>\n",
       "      <td>-2.060733</td>\n",
       "      <td>0.326364</td>\n",
       "      <td>Ethereum</td>\n",
       "      <td>3</td>\n",
       "    </tr>\n",
       "    <tr>\n",
       "      <th>LTC</th>\n",
       "      <td>Scrypt</td>\n",
       "      <td>PoW</td>\n",
       "      <td>6.303924e+07</td>\n",
       "      <td>84000000</td>\n",
       "      <td>-0.177945</td>\n",
       "      <td>-1.135646</td>\n",
       "      <td>-0.073981</td>\n",
       "      <td>Litecoin</td>\n",
       "      <td>3</td>\n",
       "    </tr>\n",
       "    <tr>\n",
       "      <th>DASH</th>\n",
       "      <td>X11</td>\n",
       "      <td>PoW/PoS</td>\n",
       "      <td>9.031294e+06</td>\n",
       "      <td>22000000</td>\n",
       "      <td>-0.362449</td>\n",
       "      <td>1.246072</td>\n",
       "      <td>-0.395960</td>\n",
       "      <td>Dash</td>\n",
       "      <td>0</td>\n",
       "    </tr>\n",
       "    <tr>\n",
       "      <th>XMR</th>\n",
       "      <td>CryptoNight-V7</td>\n",
       "      <td>PoW</td>\n",
       "      <td>1.720114e+07</td>\n",
       "      <td>0</td>\n",
       "      <td>-0.153512</td>\n",
       "      <td>-2.233597</td>\n",
       "      <td>0.444334</td>\n",
       "      <td>Monero</td>\n",
       "      <td>3</td>\n",
       "    </tr>\n",
       "    <tr>\n",
       "      <th>ETC</th>\n",
       "      <td>Ethash</td>\n",
       "      <td>PoW</td>\n",
       "      <td>1.133597e+08</td>\n",
       "      <td>210000000</td>\n",
       "      <td>-0.160483</td>\n",
       "      <td>-2.060831</td>\n",
       "      <td>0.326350</td>\n",
       "      <td>Ethereum Classic</td>\n",
       "      <td>3</td>\n",
       "    </tr>\n",
       "    <tr>\n",
       "      <th>ZEC</th>\n",
       "      <td>Equihash</td>\n",
       "      <td>PoW</td>\n",
       "      <td>7.383056e+06</td>\n",
       "      <td>21000000</td>\n",
       "      <td>-0.136359</td>\n",
       "      <td>-2.029159</td>\n",
       "      <td>0.388698</td>\n",
       "      <td>ZCash</td>\n",
       "      <td>3</td>\n",
       "    </tr>\n",
       "    <tr>\n",
       "      <th>BTS</th>\n",
       "      <td>SHA-512</td>\n",
       "      <td>PoS</td>\n",
       "      <td>2.741570e+09</td>\n",
       "      <td>3600570502</td>\n",
       "      <td>-0.356328</td>\n",
       "      <td>1.708704</td>\n",
       "      <td>0.150998</td>\n",
       "      <td>Bitshares</td>\n",
       "      <td>0</td>\n",
       "    </tr>\n",
       "    <tr>\n",
       "      <th>DGB</th>\n",
       "      <td>Multiple</td>\n",
       "      <td>PoW</td>\n",
       "      <td>1.140622e+10</td>\n",
       "      <td>21000000000</td>\n",
       "      <td>0.151046</td>\n",
       "      <td>-1.817655</td>\n",
       "      <td>0.342429</td>\n",
       "      <td>DigiByte</td>\n",
       "      <td>3</td>\n",
       "    </tr>\n",
       "    <tr>\n",
       "      <th>BTCD</th>\n",
       "      <td>SHA-256</td>\n",
       "      <td>PoW/PoS</td>\n",
       "      <td>1.288862e+06</td>\n",
       "      <td>22000000</td>\n",
       "      <td>-0.284920</td>\n",
       "      <td>0.829153</td>\n",
       "      <td>-0.332757</td>\n",
       "      <td>BitcoinDark</td>\n",
       "      <td>0</td>\n",
       "    </tr>\n",
       "    <tr>\n",
       "      <th>XPY</th>\n",
       "      <td>SHA-256</td>\n",
       "      <td>PoS</td>\n",
       "      <td>1.199533e+07</td>\n",
       "      <td>12500000</td>\n",
       "      <td>-0.295950</td>\n",
       "      <td>0.638677</td>\n",
       "      <td>-0.045805</td>\n",
       "      <td>PayCoin</td>\n",
       "      <td>0</td>\n",
       "    </tr>\n",
       "    <tr>\n",
       "      <th>PRC</th>\n",
       "      <td>Scrypt</td>\n",
       "      <td>PoW</td>\n",
       "      <td>5.768310e+06</td>\n",
       "      <td>21000000</td>\n",
       "      <td>-0.179088</td>\n",
       "      <td>-1.135639</td>\n",
       "      <td>-0.073965</td>\n",
       "      <td>ProsperCoin</td>\n",
       "      <td>3</td>\n",
       "    </tr>\n",
       "    <tr>\n",
       "      <th>KOBO</th>\n",
       "      <td>X15</td>\n",
       "      <td>PoW/PoS</td>\n",
       "      <td>2.554254e+07</td>\n",
       "      <td>350000000</td>\n",
       "      <td>-0.213994</td>\n",
       "      <td>1.868826</td>\n",
       "      <td>-0.643562</td>\n",
       "      <td>KoboCoin</td>\n",
       "      <td>0</td>\n",
       "    </tr>\n",
       "    <tr>\n",
       "      <th>SPR</th>\n",
       "      <td>X11</td>\n",
       "      <td>PoW</td>\n",
       "      <td>1.114973e+07</td>\n",
       "      <td>20000000</td>\n",
       "      <td>-0.218488</td>\n",
       "      <td>-0.909465</td>\n",
       "      <td>0.123240</td>\n",
       "      <td>Spreadcoin</td>\n",
       "      <td>3</td>\n",
       "    </tr>\n",
       "    <tr>\n",
       "      <th>ARG</th>\n",
       "      <td>Scrypt</td>\n",
       "      <td>PoW</td>\n",
       "      <td>1.220580e+07</td>\n",
       "      <td>64000000</td>\n",
       "      <td>-0.178705</td>\n",
       "      <td>-1.135657</td>\n",
       "      <td>-0.073969</td>\n",
       "      <td>Argentum</td>\n",
       "      <td>3</td>\n",
       "    </tr>\n",
       "    <tr>\n",
       "      <th>AUR</th>\n",
       "      <td>Scrypt</td>\n",
       "      <td>PoW/PoS</td>\n",
       "      <td>1.813510e+07</td>\n",
       "      <td>16768584</td>\n",
       "      <td>-0.322917</td>\n",
       "      <td>1.019907</td>\n",
       "      <td>-0.593168</td>\n",
       "      <td>Aurora Coin</td>\n",
       "      <td>0</td>\n",
       "    </tr>\n",
       "    <tr>\n",
       "      <th>BLU</th>\n",
       "      <td>Scrypt</td>\n",
       "      <td>PoW/PoS</td>\n",
       "      <td>6.354239e+08</td>\n",
       "      <td>0</td>\n",
       "      <td>-0.315524</td>\n",
       "      <td>1.020165</td>\n",
       "      <td>-0.593309</td>\n",
       "      <td>BlueCoin</td>\n",
       "      <td>0</td>\n",
       "    </tr>\n",
       "    <tr>\n",
       "      <th>XMY</th>\n",
       "      <td>Multiple</td>\n",
       "      <td>PoW</td>\n",
       "      <td>1.688254e+09</td>\n",
       "      <td>2000000000</td>\n",
       "      <td>-0.101603</td>\n",
       "      <td>-1.812505</td>\n",
       "      <td>0.345744</td>\n",
       "      <td>MyriadCoin</td>\n",
       "      <td>3</td>\n",
       "    </tr>\n",
       "    <tr>\n",
       "      <th>MOON</th>\n",
       "      <td>Scrypt</td>\n",
       "      <td>PoW</td>\n",
       "      <td>8.800000e+01</td>\n",
       "      <td>384000000000</td>\n",
       "      <td>2.537160</td>\n",
       "      <td>-1.319107</td>\n",
       "      <td>-0.095953</td>\n",
       "      <td>MoonCoin</td>\n",
       "      <td>3</td>\n",
       "    </tr>\n",
       "    <tr>\n",
       "      <th>ZET</th>\n",
       "      <td>SHA-256</td>\n",
       "      <td>PoW</td>\n",
       "      <td>1.702044e+08</td>\n",
       "      <td>169795588</td>\n",
       "      <td>-0.137870</td>\n",
       "      <td>-1.326388</td>\n",
       "      <td>0.186396</td>\n",
       "      <td>ZetaCoin</td>\n",
       "      <td>3</td>\n",
       "    </tr>\n",
       "    <tr>\n",
       "      <th>SXC</th>\n",
       "      <td>Scrypt</td>\n",
       "      <td>PoW</td>\n",
       "      <td>1.289410e+08</td>\n",
       "      <td>250000000</td>\n",
       "      <td>-0.175969</td>\n",
       "      <td>-1.135698</td>\n",
       "      <td>-0.074006</td>\n",
       "      <td>SexCoin</td>\n",
       "      <td>3</td>\n",
       "    </tr>\n",
       "    <tr>\n",
       "      <th>QTL</th>\n",
       "      <td>Scrypt</td>\n",
       "      <td>PoW</td>\n",
       "      <td>7.357795e+06</td>\n",
       "      <td>100000000</td>\n",
       "      <td>-0.178509</td>\n",
       "      <td>-1.135676</td>\n",
       "      <td>-0.073970</td>\n",
       "      <td>Quatloo</td>\n",
       "      <td>3</td>\n",
       "    </tr>\n",
       "    <tr>\n",
       "      <th>ENRG</th>\n",
       "      <td>Scrypt</td>\n",
       "      <td>PoW/PoS</td>\n",
       "      <td>1.230628e+08</td>\n",
       "      <td>0</td>\n",
       "      <td>-0.321759</td>\n",
       "      <td>1.019958</td>\n",
       "      <td>-0.593191</td>\n",
       "      <td>EnergyCoin</td>\n",
       "      <td>0</td>\n",
       "    </tr>\n",
       "    <tr>\n",
       "      <th>QRK</th>\n",
       "      <td>Quark</td>\n",
       "      <td>PoW</td>\n",
       "      <td>2.595572e+08</td>\n",
       "      <td>247000000</td>\n",
       "      <td>-0.243037</td>\n",
       "      <td>-0.410478</td>\n",
       "      <td>0.056287</td>\n",
       "      <td>QuarkCoin</td>\n",
       "      <td>3</td>\n",
       "    </tr>\n",
       "    <tr>\n",
       "      <th>RIC</th>\n",
       "      <td>Groestl</td>\n",
       "      <td>PoW</td>\n",
       "      <td>4.954859e+07</td>\n",
       "      <td>84000000</td>\n",
       "      <td>-0.182460</td>\n",
       "      <td>-1.214019</td>\n",
       "      <td>0.091471</td>\n",
       "      <td>Riecoin</td>\n",
       "      <td>3</td>\n",
       "    </tr>\n",
       "    <tr>\n",
       "      <th>DGC</th>\n",
       "      <td>Scrypt</td>\n",
       "      <td>PoW</td>\n",
       "      <td>3.344299e+07</td>\n",
       "      <td>48166000</td>\n",
       "      <td>-0.178559</td>\n",
       "      <td>-1.135640</td>\n",
       "      <td>-0.073973</td>\n",
       "      <td>Digitalcoin</td>\n",
       "      <td>3</td>\n",
       "    </tr>\n",
       "    <tr>\n",
       "      <th>BTB</th>\n",
       "      <td>Scrypt</td>\n",
       "      <td>PoW/PoS</td>\n",
       "      <td>4.257948e+04</td>\n",
       "      <td>500000</td>\n",
       "      <td>-0.323252</td>\n",
       "      <td>1.019908</td>\n",
       "      <td>-0.593163</td>\n",
       "      <td>BitBar</td>\n",
       "      <td>0</td>\n",
       "    </tr>\n",
       "    <tr>\n",
       "      <th>CAT</th>\n",
       "      <td>Scrypt</td>\n",
       "      <td>PoW</td>\n",
       "      <td>7.219957e+06</td>\n",
       "      <td>21000000</td>\n",
       "      <td>-0.179070</td>\n",
       "      <td>-1.135638</td>\n",
       "      <td>-0.073965</td>\n",
       "      <td>Catcoin</td>\n",
       "      <td>3</td>\n",
       "    </tr>\n",
       "    <tr>\n",
       "      <th>CBX</th>\n",
       "      <td>Scrypt</td>\n",
       "      <td>PoW/PoS</td>\n",
       "      <td>1.039117e+06</td>\n",
       "      <td>1000000</td>\n",
       "      <td>-0.323236</td>\n",
       "      <td>1.019908</td>\n",
       "      <td>-0.593163</td>\n",
       "      <td>CryptoBullion</td>\n",
       "      <td>0</td>\n",
       "    </tr>\n",
       "    <tr>\n",
       "      <th>CCN</th>\n",
       "      <td>Scrypt</td>\n",
       "      <td>PoW</td>\n",
       "      <td>4.703880e+06</td>\n",
       "      <td>13140000</td>\n",
       "      <td>-0.179156</td>\n",
       "      <td>-1.135635</td>\n",
       "      <td>-0.073964</td>\n",
       "      <td>CannaCoin</td>\n",
       "      <td>3</td>\n",
       "    </tr>\n",
       "    <tr>\n",
       "      <th>CRYPT</th>\n",
       "      <td>X11</td>\n",
       "      <td>PoW</td>\n",
       "      <td>4.996986e+06</td>\n",
       "      <td>18000000</td>\n",
       "      <td>-0.218577</td>\n",
       "      <td>-0.909467</td>\n",
       "      <td>0.123242</td>\n",
       "      <td>CryptCoin</td>\n",
       "      <td>3</td>\n",
       "    </tr>\n",
       "    <tr>\n",
       "      <th>CSC</th>\n",
       "      <td>Scrypt</td>\n",
       "      <td>PoC</td>\n",
       "      <td>4.000000e+10</td>\n",
       "      <td>40000000000</td>\n",
       "      <td>0.601419</td>\n",
       "      <td>0.413097</td>\n",
       "      <td>-0.479475</td>\n",
       "      <td>CasinoCoin</td>\n",
       "      <td>0</td>\n",
       "    </tr>\n",
       "    <tr>\n",
       "      <th>DMD</th>\n",
       "      <td>Groestl</td>\n",
       "      <td>PoW/PoS</td>\n",
       "      <td>3.304488e+06</td>\n",
       "      <td>4380000</td>\n",
       "      <td>-0.327536</td>\n",
       "      <td>0.941540</td>\n",
       "      <td>-0.427715</td>\n",
       "      <td>Diamond</td>\n",
       "      <td>0</td>\n",
       "    </tr>\n",
       "    <tr>\n",
       "      <th>XVG</th>\n",
       "      <td>Multiple</td>\n",
       "      <td>PoW</td>\n",
       "      <td>1.592953e+10</td>\n",
       "      <td>16555000000</td>\n",
       "      <td>0.174638</td>\n",
       "      <td>-1.813703</td>\n",
       "      <td>0.341647</td>\n",
       "      <td>Verge</td>\n",
       "      <td>3</td>\n",
       "    </tr>\n",
       "    <tr>\n",
       "      <th>DVC</th>\n",
       "      <td>SHA-256</td>\n",
       "      <td>PoW</td>\n",
       "      <td>1.877386e+10</td>\n",
       "      <td>21000000000</td>\n",
       "      <td>0.235842</td>\n",
       "      <td>-1.328821</td>\n",
       "      <td>0.180940</td>\n",
       "      <td>DevCoin</td>\n",
       "      <td>3</td>\n",
       "    </tr>\n",
       "    <tr>\n",
       "      <th>EAC</th>\n",
       "      <td>Scrypt</td>\n",
       "      <td>PoW</td>\n",
       "      <td>1.253902e+10</td>\n",
       "      <td>13500000000</td>\n",
       "      <td>0.068760</td>\n",
       "      <td>-1.137012</td>\n",
       "      <td>-0.077609</td>\n",
       "      <td>EarthCoin</td>\n",
       "      <td>3</td>\n",
       "    </tr>\n",
       "    <tr>\n",
       "      <th>EFL</th>\n",
       "      <td>Scrypt</td>\n",
       "      <td>PoW</td>\n",
       "      <td>2.091048e+07</td>\n",
       "      <td>21000000</td>\n",
       "      <td>-0.178903</td>\n",
       "      <td>-1.135633</td>\n",
       "      <td>-0.073968</td>\n",
       "      <td>E-Gulden</td>\n",
       "      <td>3</td>\n",
       "    </tr>\n",
       "    <tr>\n",
       "      <th>EMC2</th>\n",
       "      <td>Scrypt</td>\n",
       "      <td>PoW</td>\n",
       "      <td>2.188719e+08</td>\n",
       "      <td>299792458</td>\n",
       "      <td>-0.174523</td>\n",
       "      <td>-1.135686</td>\n",
       "      <td>-0.074030</td>\n",
       "      <td>Einsteinium</td>\n",
       "      <td>3</td>\n",
       "    </tr>\n",
       "    <tr>\n",
       "      <th>EMD</th>\n",
       "      <td>Scrypt</td>\n",
       "      <td>PoW</td>\n",
       "      <td>1.949679e+07</td>\n",
       "      <td>32000000</td>\n",
       "      <td>-0.178843</td>\n",
       "      <td>-1.135638</td>\n",
       "      <td>-0.073969</td>\n",
       "      <td>Emerald</td>\n",
       "      <td>3</td>\n",
       "    </tr>\n",
       "    <tr>\n",
       "      <th>EXCL</th>\n",
       "      <td>PoS</td>\n",
       "      <td>PoS</td>\n",
       "      <td>5.679705e+06</td>\n",
       "      <td>0</td>\n",
       "      <td>-0.441392</td>\n",
       "      <td>1.614703</td>\n",
       "      <td>-0.079874</td>\n",
       "      <td>Exclusive Coin</td>\n",
       "      <td>0</td>\n",
       "    </tr>\n",
       "    <tr>\n",
       "      <th>FLT</th>\n",
       "      <td>Scrypt</td>\n",
       "      <td>PoS/PoW/PoT</td>\n",
       "      <td>4.618299e+08</td>\n",
       "      <td>0</td>\n",
       "      <td>-0.340066</td>\n",
       "      <td>0.193791</td>\n",
       "      <td>-0.659759</td>\n",
       "      <td>FlutterCoin</td>\n",
       "      <td>0</td>\n",
       "    </tr>\n",
       "    <tr>\n",
       "      <th>FRK</th>\n",
       "      <td>Scrypt</td>\n",
       "      <td>PoW</td>\n",
       "      <td>1.142732e+06</td>\n",
       "      <td>11235813</td>\n",
       "      <td>-0.179213</td>\n",
       "      <td>-1.135636</td>\n",
       "      <td>-0.073963</td>\n",
       "      <td>Franko</td>\n",
       "      <td>3</td>\n",
       "    </tr>\n",
       "    <tr>\n",
       "      <th>FTC</th>\n",
       "      <td>NeoScrypt</td>\n",
       "      <td>PoW</td>\n",
       "      <td>2.086691e+08</td>\n",
       "      <td>336000000</td>\n",
       "      <td>-0.172730</td>\n",
       "      <td>-1.649492</td>\n",
       "      <td>0.251471</td>\n",
       "      <td>FeatherCoin</td>\n",
       "      <td>3</td>\n",
       "    </tr>\n",
       "    <tr>\n",
       "      <th>GDC</th>\n",
       "      <td>Scrypt</td>\n",
       "      <td>PoW</td>\n",
       "      <td>8.841258e+08</td>\n",
       "      <td>1420609614</td>\n",
       "      <td>-0.158499</td>\n",
       "      <td>-1.135952</td>\n",
       "      <td>-0.074246</td>\n",
       "      <td>GrandCoin</td>\n",
       "      <td>3</td>\n",
       "    </tr>\n",
       "    <tr>\n",
       "      <th>GLC</th>\n",
       "      <td>Scrypt</td>\n",
       "      <td>PoW</td>\n",
       "      <td>6.567272e+07</td>\n",
       "      <td>70000000</td>\n",
       "      <td>-0.178012</td>\n",
       "      <td>-1.135638</td>\n",
       "      <td>-0.073981</td>\n",
       "      <td>GlobalCoin</td>\n",
       "      <td>3</td>\n",
       "    </tr>\n",
       "    <tr>\n",
       "      <th>GLD</th>\n",
       "      <td>Scrypt</td>\n",
       "      <td>PoW</td>\n",
       "      <td>4.165865e+07</td>\n",
       "      <td>72245700</td>\n",
       "      <td>-0.178288</td>\n",
       "      <td>-1.135649</td>\n",
       "      <td>-0.073976</td>\n",
       "      <td>GoldCoin</td>\n",
       "      <td>3</td>\n",
       "    </tr>\n",
       "    <tr>\n",
       "      <th>HBN</th>\n",
       "      <td>Scrypt</td>\n",
       "      <td>PoW/PoS</td>\n",
       "      <td>8.926693e+07</td>\n",
       "      <td>120000000</td>\n",
       "      <td>-0.321321</td>\n",
       "      <td>1.019887</td>\n",
       "      <td>-0.593190</td>\n",
       "      <td>HoboNickels</td>\n",
       "      <td>0</td>\n",
       "    </tr>\n",
       "  </tbody>\n",
       "</table>\n",
       "</div>"
      ],
      "text/plain": [
       "            Algorithm    ProofType  TotalCoinsMined TotalCoinSupply      PC 1  \\\n",
       "42             Scrypt      PoW/PoS     4.199995e+01              42 -0.323256   \n",
       "404            Scrypt      PoW/PoS     1.055185e+09       532000000 -0.306654   \n",
       "1337              X13      PoW/PoS     2.927942e+10    314159265359  2.334662   \n",
       "BTC           SHA-256          PoW     1.792718e+07        21000000 -0.140775   \n",
       "ETH            Ethash          PoW     1.076842e+08               0 -0.162038   \n",
       "LTC            Scrypt          PoW     6.303924e+07        84000000 -0.177945   \n",
       "DASH              X11      PoW/PoS     9.031294e+06        22000000 -0.362449   \n",
       "XMR    CryptoNight-V7          PoW     1.720114e+07               0 -0.153512   \n",
       "ETC            Ethash          PoW     1.133597e+08       210000000 -0.160483   \n",
       "ZEC          Equihash          PoW     7.383056e+06        21000000 -0.136359   \n",
       "BTS           SHA-512          PoS     2.741570e+09      3600570502 -0.356328   \n",
       "DGB          Multiple          PoW     1.140622e+10     21000000000  0.151046   \n",
       "BTCD          SHA-256      PoW/PoS     1.288862e+06        22000000 -0.284920   \n",
       "XPY           SHA-256          PoS     1.199533e+07        12500000 -0.295950   \n",
       "PRC            Scrypt          PoW     5.768310e+06        21000000 -0.179088   \n",
       "KOBO              X15      PoW/PoS     2.554254e+07       350000000 -0.213994   \n",
       "SPR               X11          PoW     1.114973e+07        20000000 -0.218488   \n",
       "ARG            Scrypt          PoW     1.220580e+07        64000000 -0.178705   \n",
       "AUR            Scrypt      PoW/PoS     1.813510e+07        16768584 -0.322917   \n",
       "BLU            Scrypt      PoW/PoS     6.354239e+08               0 -0.315524   \n",
       "XMY          Multiple          PoW     1.688254e+09      2000000000 -0.101603   \n",
       "MOON           Scrypt          PoW     8.800000e+01    384000000000  2.537160   \n",
       "ZET           SHA-256          PoW     1.702044e+08       169795588 -0.137870   \n",
       "SXC            Scrypt          PoW     1.289410e+08       250000000 -0.175969   \n",
       "QTL            Scrypt          PoW     7.357795e+06       100000000 -0.178509   \n",
       "ENRG           Scrypt      PoW/PoS     1.230628e+08               0 -0.321759   \n",
       "QRK             Quark          PoW     2.595572e+08       247000000 -0.243037   \n",
       "RIC           Groestl          PoW     4.954859e+07        84000000 -0.182460   \n",
       "DGC            Scrypt          PoW     3.344299e+07        48166000 -0.178559   \n",
       "BTB            Scrypt      PoW/PoS     4.257948e+04          500000 -0.323252   \n",
       "CAT            Scrypt          PoW     7.219957e+06       21000000  -0.179070   \n",
       "CBX            Scrypt      PoW/PoS     1.039117e+06         1000000 -0.323236   \n",
       "CCN            Scrypt          PoW     4.703880e+06        13140000 -0.179156   \n",
       "CRYPT             X11          PoW     4.996986e+06        18000000 -0.218577   \n",
       "CSC            Scrypt          PoC     4.000000e+10     40000000000  0.601419   \n",
       "DMD           Groestl      PoW/PoS     3.304488e+06         4380000 -0.327536   \n",
       "XVG          Multiple          PoW     1.592953e+10     16555000000  0.174638   \n",
       "DVC           SHA-256          PoW     1.877386e+10     21000000000  0.235842   \n",
       "EAC            Scrypt          PoW     1.253902e+10     13500000000  0.068760   \n",
       "EFL            Scrypt          PoW     2.091048e+07       21000000  -0.178903   \n",
       "EMC2           Scrypt          PoW     2.188719e+08       299792458 -0.174523   \n",
       "EMD            Scrypt          PoW     1.949679e+07        32000000 -0.178843   \n",
       "EXCL              PoS          PoS     5.679705e+06               0 -0.441392   \n",
       "FLT            Scrypt  PoS/PoW/PoT     4.618299e+08               0 -0.340066   \n",
       "FRK            Scrypt          PoW     1.142732e+06        11235813 -0.179213   \n",
       "FTC         NeoScrypt          PoW     2.086691e+08       336000000 -0.172730   \n",
       "GDC            Scrypt          PoW     8.841258e+08      1420609614 -0.158499   \n",
       "GLC            Scrypt          PoW     6.567272e+07        70000000 -0.178012   \n",
       "GLD            Scrypt          PoW     4.165865e+07        72245700 -0.178288   \n",
       "HBN            Scrypt      PoW/PoS     8.926693e+07       120000000 -0.321321   \n",
       "\n",
       "           PC 2      PC 3          CoinName  Class  \n",
       "42     1.019908 -0.593163           42 Coin      0  \n",
       "404    1.020080 -0.593435           404Coin      0  \n",
       "1337   1.634620 -0.565490         EliteCoin      0  \n",
       "BTC   -1.326379  0.186440           Bitcoin      3  \n",
       "ETH   -2.060733  0.326364          Ethereum      3  \n",
       "LTC   -1.135646 -0.073981          Litecoin      3  \n",
       "DASH   1.246072 -0.395960              Dash      0  \n",
       "XMR   -2.233597  0.444334            Monero      3  \n",
       "ETC   -2.060831  0.326350  Ethereum Classic      3  \n",
       "ZEC   -2.029159  0.388698             ZCash      3  \n",
       "BTS    1.708704  0.150998         Bitshares      0  \n",
       "DGB   -1.817655  0.342429          DigiByte      3  \n",
       "BTCD   0.829153 -0.332757       BitcoinDark      0  \n",
       "XPY    0.638677 -0.045805           PayCoin      0  \n",
       "PRC   -1.135639 -0.073965       ProsperCoin      3  \n",
       "KOBO   1.868826 -0.643562          KoboCoin      0  \n",
       "SPR   -0.909465  0.123240        Spreadcoin      3  \n",
       "ARG   -1.135657 -0.073969          Argentum      3  \n",
       "AUR    1.019907 -0.593168       Aurora Coin      0  \n",
       "BLU    1.020165 -0.593309          BlueCoin      0  \n",
       "XMY   -1.812505  0.345744        MyriadCoin      3  \n",
       "MOON  -1.319107 -0.095953          MoonCoin      3  \n",
       "ZET   -1.326388  0.186396          ZetaCoin      3  \n",
       "SXC   -1.135698 -0.074006           SexCoin      3  \n",
       "QTL   -1.135676 -0.073970           Quatloo      3  \n",
       "ENRG   1.019958 -0.593191        EnergyCoin      0  \n",
       "QRK   -0.410478  0.056287         QuarkCoin      3  \n",
       "RIC   -1.214019  0.091471           Riecoin      3  \n",
       "DGC   -1.135640 -0.073973      Digitalcoin       3  \n",
       "BTB    1.019908 -0.593163            BitBar      0  \n",
       "CAT   -1.135638 -0.073965           Catcoin      3  \n",
       "CBX    1.019908 -0.593163     CryptoBullion      0  \n",
       "CCN   -1.135635 -0.073964         CannaCoin      3  \n",
       "CRYPT -0.909467  0.123242         CryptCoin      3  \n",
       "CSC    0.413097 -0.479475        CasinoCoin      0  \n",
       "DMD    0.941540 -0.427715           Diamond      0  \n",
       "XVG   -1.813703  0.341647             Verge      3  \n",
       "DVC   -1.328821  0.180940           DevCoin      3  \n",
       "EAC   -1.137012 -0.077609         EarthCoin      3  \n",
       "EFL   -1.135633 -0.073968          E-Gulden      3  \n",
       "EMC2  -1.135686 -0.074030       Einsteinium      3  \n",
       "EMD   -1.135638 -0.073969           Emerald      3  \n",
       "EXCL   1.614703 -0.079874    Exclusive Coin      0  \n",
       "FLT    0.193791 -0.659759       FlutterCoin      0  \n",
       "FRK   -1.135636 -0.073963            Franko      3  \n",
       "FTC   -1.649492  0.251471       FeatherCoin      3  \n",
       "GDC   -1.135952 -0.074246         GrandCoin      3  \n",
       "GLC   -1.135638 -0.073981        GlobalCoin      3  \n",
       "GLD   -1.135649 -0.073976          GoldCoin      3  \n",
       "HBN    1.019887 -0.593190       HoboNickels      0  "
      ]
     },
     "execution_count": 60,
     "metadata": {},
     "output_type": "execute_result"
    }
   ],
   "source": [
    "# Create a new DataFrame including predicted clusters and cryptocurrencies features.\n",
    "\n",
    "# Concatentate the crypto_df and pcs_df DataFrames on the same columns.\n",
    "clustered_df = pd.concat([crypto_df, pcs_df], axis =1)\n",
    "\n",
    "#  Add a new column, \"CoinName\" to the clustered_df DataFrame that holds the names of the cryptocurrencies. \n",
    "clustered_df[\"CoinName\"]= crypto_name_df\n",
    "\n",
    "#  Add a new column, \"Class\" to the clustered_df DataFrame that holds the predictions.\n",
    "\n",
    "clustered_df[\"Class\"]=predictions\n",
    "\n",
    "# Print the shape of the clustered_df\n",
    "print(clustered_df.shape)\n",
    "clustered_df.head(50)"
   ]
  },
  {
   "cell_type": "markdown",
   "metadata": {},
   "source": [
    "### Deliverable 4: Visualizing Cryptocurrencies Results\n",
    "\n",
    "#### 3D-Scatter with Clusters"
   ]
  },
  {
   "cell_type": "code",
   "execution_count": 61,
   "metadata": {},
   "outputs": [
    {
     "data": {
      "application/vnd.plotly.v1+json": {
       "config": {
        "plotlyServerURL": "https://plot.ly"
       },
       "data": [
        {
         "customdata": [
          [
           "Scrypt"
          ],
          [
           "Scrypt"
          ],
          [
           "X13"
          ],
          [
           "X11"
          ],
          [
           "SHA-512"
          ],
          [
           "SHA-256"
          ],
          [
           "SHA-256"
          ],
          [
           "X15"
          ],
          [
           "Scrypt"
          ],
          [
           "Scrypt"
          ],
          [
           "Scrypt"
          ],
          [
           "Scrypt"
          ],
          [
           "Scrypt"
          ],
          [
           "Scrypt"
          ],
          [
           "Groestl"
          ],
          [
           "PoS"
          ],
          [
           "Scrypt"
          ],
          [
           "Scrypt"
          ],
          [
           "X11"
          ],
          [
           "X11"
          ],
          [
           "SHA3"
          ],
          [
           "Scrypt"
          ],
          [
           "SHA-256"
          ],
          [
           "Scrypt"
          ],
          [
           "X13"
          ],
          [
           "X13"
          ],
          [
           "NeoScrypt"
          ],
          [
           "Scrypt"
          ],
          [
           "Scrypt"
          ],
          [
           "Scrypt"
          ],
          [
           "X11"
          ],
          [
           "X11"
          ],
          [
           "Multiple"
          ],
          [
           "PHI1612"
          ],
          [
           "X11"
          ],
          [
           "Scrypt"
          ],
          [
           "Scrypt"
          ],
          [
           "Scrypt"
          ],
          [
           "X11"
          ],
          [
           "Multiple"
          ],
          [
           "X13"
          ],
          [
           "Scrypt"
          ],
          [
           "Shabal256"
          ],
          [
           "Counterparty"
          ],
          [
           "SHA-256"
          ],
          [
           "Groestl"
          ],
          [
           "Scrypt"
          ],
          [
           "X13"
          ],
          [
           "Scrypt"
          ],
          [
           "Scrypt"
          ],
          [
           "X13"
          ],
          [
           "X11"
          ],
          [
           "Scrypt"
          ],
          [
           "X11"
          ],
          [
           "SHA3"
          ],
          [
           "QUAIT"
          ],
          [
           "X11"
          ],
          [
           "Scrypt"
          ],
          [
           "X13"
          ],
          [
           "SHA-256"
          ],
          [
           "X15"
          ],
          [
           "BLAKE256"
          ],
          [
           "SHA-256"
          ],
          [
           "X11"
          ],
          [
           "SHA-256"
          ],
          [
           "NIST5"
          ],
          [
           "Scrypt"
          ],
          [
           "Scrypt"
          ],
          [
           "X11"
          ],
          [
           "Scrypt"
          ],
          [
           "SHA-256"
          ],
          [
           "Scrypt"
          ],
          [
           "PoS"
          ],
          [
           "X11"
          ],
          [
           "SHA-256"
          ],
          [
           "SHA-256"
          ],
          [
           "NIST5"
          ],
          [
           "X11"
          ],
          [
           "POS 3.0"
          ],
          [
           "Scrypt"
          ],
          [
           "Scrypt"
          ],
          [
           "Scrypt"
          ],
          [
           "X13"
          ],
          [
           "X11"
          ],
          [
           "X11"
          ],
          [
           "Scrypt"
          ],
          [
           "SHA-256"
          ],
          [
           "X11"
          ],
          [
           "Scrypt"
          ],
          [
           "Scrypt"
          ],
          [
           "Scrypt"
          ],
          [
           "Scrypt"
          ],
          [
           "SHA-256D"
          ],
          [
           "PoS"
          ],
          [
           "Scrypt"
          ],
          [
           "X11"
          ],
          [
           "PoS"
          ],
          [
           "X13"
          ],
          [
           "X14"
          ],
          [
           "PoS"
          ],
          [
           "SHA-256D"
          ],
          [
           "DPoS"
          ],
          [
           "X11"
          ],
          [
           "X13"
          ],
          [
           "X11"
          ],
          [
           "PoS"
          ],
          [
           "Scrypt"
          ],
          [
           "Scrypt"
          ],
          [
           "PoS"
          ],
          [
           "X11"
          ],
          [
           "SHA-256"
          ],
          [
           "Scrypt"
          ],
          [
           "X11"
          ],
          [
           "Scrypt"
          ],
          [
           "Scrypt"
          ],
          [
           "X11"
          ],
          [
           "Scrypt"
          ],
          [
           "Scrypt"
          ],
          [
           "Scrypt"
          ],
          [
           "Scrypt"
          ],
          [
           "Quark"
          ],
          [
           "QuBit"
          ],
          [
           "Scrypt"
          ],
          [
           "SHA-256"
          ],
          [
           "X11"
          ],
          [
           "Scrypt"
          ],
          [
           "Scrypt"
          ],
          [
           "Scrypt"
          ],
          [
           "Scrypt"
          ],
          [
           "X13"
          ],
          [
           "Scrypt"
          ],
          [
           "Scrypt"
          ],
          [
           "X11"
          ],
          [
           "Blake2S"
          ],
          [
           "X11"
          ],
          [
           "PoS"
          ],
          [
           "X11"
          ],
          [
           "PoS"
          ],
          [
           "X11"
          ],
          [
           "Scrypt"
          ],
          [
           "Scrypt"
          ],
          [
           "Scrypt"
          ],
          [
           "SHA-256"
          ],
          [
           "X11"
          ],
          [
           "Scrypt"
          ],
          [
           "PoS"
          ],
          [
           "Scrypt"
          ],
          [
           "X15"
          ],
          [
           "SHA-256"
          ],
          [
           "POS 3.0"
          ],
          [
           "536"
          ],
          [
           "NIST5"
          ],
          [
           "NIST5"
          ],
          [
           "Skein"
          ],
          [
           "X13"
          ],
          [
           "Scrypt"
          ],
          [
           "X13"
          ],
          [
           "SkunkHash v2 Raptor"
          ],
          [
           "Skein"
          ],
          [
           "X11"
          ],
          [
           "Scrypt"
          ],
          [
           "VeChainThor Authority"
          ],
          [
           "PoS"
          ],
          [
           "Scrypt"
          ],
          [
           "Scrypt"
          ],
          [
           "SHA-512"
          ],
          [
           "Ouroboros"
          ],
          [
           "X11"
          ],
          [
           "NeoScrypt"
          ],
          [
           "Scrypt"
          ],
          [
           "Lyra2REv2"
          ],
          [
           "Scrypt"
          ],
          [
           "SHA-256"
          ],
          [
           "NIST5"
          ],
          [
           "PHI1612"
          ],
          [
           "Scrypt"
          ],
          [
           "Quark"
          ],
          [
           "POS 2.0"
          ],
          [
           "Scrypt"
          ],
          [
           "SHA-256"
          ],
          [
           "X11"
          ],
          [
           "DPoS"
          ],
          [
           "NIST5"
          ],
          [
           "X13"
          ],
          [
           "Scrypt"
          ],
          [
           "NIST5"
          ],
          [
           "Quark"
          ],
          [
           "Scrypt"
          ],
          [
           "Scrypt"
          ],
          [
           "X11"
          ],
          [
           "Quark"
          ],
          [
           "Scrypt"
          ],
          [
           "Scrypt"
          ],
          [
           "X11"
          ],
          [
           "POS 3.0"
          ],
          [
           "Ethash"
          ],
          [
           "Scrypt"
          ],
          [
           "Scrypt"
          ],
          [
           "X13"
          ],
          [
           "C11"
          ],
          [
           "Proof-of-Authority"
          ],
          [
           "X11"
          ],
          [
           "XEVAN"
          ],
          [
           "Scrypt"
          ],
          [
           "VBFT"
          ],
          [
           "NIST5"
          ],
          [
           "Scrypt"
          ],
          [
           "Scrypt"
          ],
          [
           "Scrypt"
          ],
          [
           "Green Protocol"
          ],
          [
           "PoS"
          ],
          [
           "Scrypt"
          ],
          [
           "Semux BFT consensus"
          ],
          [
           "Quark"
          ],
          [
           "PoS"
          ],
          [
           "X16R"
          ],
          [
           "Scrypt"
          ],
          [
           "XEVAN"
          ],
          [
           "Scrypt"
          ],
          [
           "Scrypt"
          ],
          [
           "Scrypt"
          ],
          [
           "SHA-256D"
          ],
          [
           "Scrypt"
          ],
          [
           "X15"
          ],
          [
           "Scrypt"
          ],
          [
           "Quark"
          ],
          [
           "SHA-256"
          ],
          [
           "DPoS"
          ],
          [
           "X16R"
          ],
          [
           "Quark"
          ],
          [
           "Quark"
          ],
          [
           "Scrypt"
          ],
          [
           "Lyra2REv2"
          ],
          [
           "Quark"
          ],
          [
           "Scrypt"
          ],
          [
           "X11"
          ],
          [
           "X11"
          ],
          [
           "Scrypt"
          ],
          [
           "PoS"
          ],
          [
           "Keccak"
          ],
          [
           "X11"
          ],
          [
           "Scrypt"
          ],
          [
           "SHA-512"
          ],
          [
           "XEVAN"
          ],
          [
           "XEVAN"
          ],
          [
           "X11"
          ],
          [
           "Quark"
          ],
          [
           "Equihash"
          ],
          [
           "Scrypt"
          ],
          [
           "Quark"
          ],
          [
           "Quark"
          ],
          [
           "Scrypt"
          ],
          [
           "X11"
          ],
          [
           "Scrypt"
          ],
          [
           "XEVAN"
          ],
          [
           "SHA-256D"
          ],
          [
           "X11"
          ],
          [
           "X11"
          ],
          [
           "DPoS"
          ],
          [
           "Scrypt"
          ],
          [
           "X11"
          ],
          [
           "Scrypt"
          ],
          [
           "Scrypt"
          ],
          [
           "SHA-256"
          ],
          [
           "Scrypt"
          ],
          [
           "X11"
          ],
          [
           "Scrypt"
          ],
          [
           "SHA-256"
          ],
          [
           "X11"
          ],
          [
           "Scrypt"
          ],
          [
           "Scrypt"
          ],
          [
           "X11"
          ],
          [
           "Scrypt"
          ],
          [
           "PoS"
          ],
          [
           "X11"
          ],
          [
           "SHA-256"
          ],
          [
           "DPoS"
          ],
          [
           "Scrypt"
          ],
          [
           "Scrypt"
          ],
          [
           "NeoScrypt"
          ],
          [
           "X13"
          ],
          [
           "DPoS"
          ],
          [
           "DPoS"
          ],
          [
           "SHA-256"
          ],
          [
           "PoS"
          ],
          [
           "PoS"
          ],
          [
           "SHA-256"
          ],
          [
           "Scrypt"
          ],
          [
           "Scrypt"
          ]
         ],
         "hovertemplate": "<b>%{hovertext}</b><br><br>Class=%{marker.color}<br>PC 1=%{x}<br>PC 2=%{y}<br>PC 3=%{z}<br>Algorithm=%{customdata[0]}<extra></extra>",
         "hovertext": [
          "42 Coin",
          "404Coin",
          "EliteCoin",
          "Dash",
          "Bitshares",
          "BitcoinDark",
          "PayCoin",
          "KoboCoin",
          "Aurora Coin",
          "BlueCoin",
          "EnergyCoin",
          "BitBar",
          "CryptoBullion",
          "CasinoCoin",
          "Diamond",
          "Exclusive Coin",
          "FlutterCoin",
          "HoboNickels",
          "HyperStake",
          "IOCoin",
          "MaxCoin",
          "MintCoin",
          "MazaCoin",
          "Nautilus Coin",
          "NavCoin",
          "OpalCoin",
          "Orbitcoin",
          "PotCoin",
          "PhoenixCoin",
          "Reddcoin",
          "SuperCoin",
          "SyncCoin",
          "TeslaCoin",
          "TittieCoin",
          "TorCoin",
          "UnitaryStatus Dollar",
          "UltraCoin",
          "VeriCoin",
          "X11 Coin",
          "Crypti",
          "StealthCoin",
          "ZCC Coin",
          "BurstCoin",
          "StorjCoin",
          "Neutron",
          "FairCoin",
          "RubyCoin",
          "Kore",
          "Dnotes",
          "8BIT Coin",
          "Sativa Coin",
          "Ucoin",
          "Vtorrent",
          "IslaCoin",
          "Nexus",
          "Droidz",
          "Squall Coin",
          "Diggits",
          "Paycon",
          "Emercoin",
          "EverGreenCoin",
          "Decred",
          "EDRCoin",
          "Hitcoin",
          "DubaiCoin",
          "PWR Coin",
          "BillaryCoin",
          "GPU Coin",
          "EuropeCoin",
          "ZeitCoin",
          "SwingCoin",
          "SafeExchangeCoin",
          "Nebuchadnezzar",
          "Ratecoin",
          "Revenu",
          "Clockcoin",
          "VIP Tokens",
          "BitSend",
          "Let it Ride",
          "PutinCoin",
          "iBankCoin",
          "Frankywillcoin",
          "MudraCoin",
          "Lutetium Coin",
          "GoldBlocks",
          "CarterCoin",
          "BitTokens",
          "MustangCoin",
          "ZoneCoin",
          "RootCoin",
          "BitCurrency",
          "Swiscoin",
          "BuzzCoin",
          "Opair",
          "PesoBit",
          "Halloween Coin",
          "CoffeeCoin",
          "RoyalCoin",
          "GanjaCoin V2",
          "TeamUP",
          "LanaCoin",
          "ARK",
          "InsaneCoin",
          "EmberCoin",
          "XenixCoin",
          "FreeCoin",
          "PLNCoin",
          "AquariusCoin",
          "Creatio",
          "Eternity",
          "Eurocoin",
          "BitcoinFast",
          "Stakenet",
          "BitConnect Coin",
          "MoneyCoin",
          "Enigma",
          "Russiacoin",
          "PandaCoin",
          "GameUnits",
          "GAKHcoin",
          "Allsafe",
          "LiteCreed",
          "Klingon Empire Darsek",
          "Internet of People",
          "KushCoin",
          "Printerium",
          "Impeach",
          "Zilbercoin",
          "FirstCoin",
          "FindCoin",
          "OpenChat",
          "RenosCoin",
          "VirtacoinPlus",
          "TajCoin",
          "Impact",
          "Atmos",
          "HappyCoin",
          "MacronCoin",
          "Condensate",
          "Independent Money System",
          "ArgusCoin",
          "LomoCoin",
          "ProCurrency",
          "GoldReserve",
          "GrowthCoin",
          "Phreak",
          "Degas Coin",
          "HTML5 Coin",
          "Ultimate Secure Cash",
          "QTUM",
          "Espers",
          "Denarius",
          "Virta Unique Coin",
          "Bitcoin Planet",
          "BritCoin",
          "Linda",
          "DeepOnion",
          "Signatum",
          "Cream",
          "Monoeci",
          "Draftcoin",
          "Vechain",
          "Stakecoin",
          "CoinonatX",
          "Ethereum Dark",
          "Obsidian",
          "Cardano",
          "Regalcoin",
          "TrezarCoin",
          "TerraNovaCoin",
          "Rupee",
          "WomenCoin",
          "Theresa May Coin",
          "NamoCoin",
          "LUXCoin",
          "Xios",
          "Bitcloud 2.0",
          "KekCoin",
          "BlackholeCoin",
          "Infinity Economics",
          "Magnet",
          "Lamden Tau",
          "Electra",
          "Bitcoin Diamond",
          "Cash & Back Coin",
          "Bulwark",
          "Kalkulus",
          "GermanCoin",
          "LiteCoin Ultra",
          "PhantomX",
          "Digiwage",
          "Trollcoin",
          "Litecoin Plus",
          "Monkey Project",
          "TokenPay",
          "1717 Masonic Commemorative Token",
          "My Big Coin",
          "Unified Society USDEX",
          "Tokyo Coin",
          "Stipend",
          "Poa Network",
          "Pushi",
          "Ellerium",
          "Velox",
          "Ontology",
          "Bitspace",
          "Briacoin",
          "Ignition",
          "MedicCoin",
          "Bitcoin Green",
          "Deviant Coin",
          "Abjcoin",
          "Semux",
          "Carebit",
          "Zealium",
          "Proton",
          "iDealCash",
          "Bitcoin Incognito",
          "HollyWoodCoin",
          "Swisscoin",
          "Xt3ch",
          "TheVig",
          "EmaratCoin",
          "Dekado",
          "Lynx",
          "Poseidon Quark",
          "BitcoinWSpectrum",
          "Muse",
          "Trivechain",
          "Dystem",
          "Giant",
          "Peony Coin",
          "Absolute Coin",
          "Vitae",
          "TPCash",
          "ARENON",
          "EUNO",
          "MMOCoin",
          "Ketan",
          "XDNA",
          "PAXEX",
          "ThunderStake",
          "Kcash",
          "Bettex coin",
          "BitMoney",
          "Junson Ming Chan Coin",
          "HerbCoin",
          "PirateCash",
          "Oduwa",
          "Galilel",
          "Crypto Sports",
          "Credit",
          "Dash Platinum",
          "Nasdacoin",
          "Beetle Coin",
          "Titan Coin",
          "Award",
          "Insane Coin",
          "ALAX",
          "LiteDoge",
          "TruckCoin",
          "OrangeCoin",
          "BitstarCoin",
          "NeosCoin",
          "HyperCoin",
          "PinkCoin",
          "AudioCoin",
          "IncaKoin",
          "Piggy Coin",
          "Genstake",
          "XiaoMiCoin",
          "CapriCoin",
          " ClubCoin",
          "Radium",
          "Creditbit ",
          "OKCash",
          "Lisk",
          "HiCoin",
          "WhiteCoin",
          "FriendshipCoin",
          "Triangles Coin",
          "EOS",
          "Oxycoin",
          "TigerCash",
          "Particl",
          "Nxt",
          "ZEPHYR",
          "Gapcoin",
          "BitcoinPlus"
         ],
         "legendgroup": "0",
         "marker": {
          "color": [
           0,
           0,
           0,
           0,
           0,
           0,
           0,
           0,
           0,
           0,
           0,
           0,
           0,
           0,
           0,
           0,
           0,
           0,
           0,
           0,
           0,
           0,
           0,
           0,
           0,
           0,
           0,
           0,
           0,
           0,
           0,
           0,
           0,
           0,
           0,
           0,
           0,
           0,
           0,
           0,
           0,
           0,
           0,
           0,
           0,
           0,
           0,
           0,
           0,
           0,
           0,
           0,
           0,
           0,
           0,
           0,
           0,
           0,
           0,
           0,
           0,
           0,
           0,
           0,
           0,
           0,
           0,
           0,
           0,
           0,
           0,
           0,
           0,
           0,
           0,
           0,
           0,
           0,
           0,
           0,
           0,
           0,
           0,
           0,
           0,
           0,
           0,
           0,
           0,
           0,
           0,
           0,
           0,
           0,
           0,
           0,
           0,
           0,
           0,
           0,
           0,
           0,
           0,
           0,
           0,
           0,
           0,
           0,
           0,
           0,
           0,
           0,
           0,
           0,
           0,
           0,
           0,
           0,
           0,
           0,
           0,
           0,
           0,
           0,
           0,
           0,
           0,
           0,
           0,
           0,
           0,
           0,
           0,
           0,
           0,
           0,
           0,
           0,
           0,
           0,
           0,
           0,
           0,
           0,
           0,
           0,
           0,
           0,
           0,
           0,
           0,
           0,
           0,
           0,
           0,
           0,
           0,
           0,
           0,
           0,
           0,
           0,
           0,
           0,
           0,
           0,
           0,
           0,
           0,
           0,
           0,
           0,
           0,
           0,
           0,
           0,
           0,
           0,
           0,
           0,
           0,
           0,
           0,
           0,
           0,
           0,
           0,
           0,
           0,
           0,
           0,
           0,
           0,
           0,
           0,
           0,
           0,
           0,
           0,
           0,
           0,
           0,
           0,
           0,
           0,
           0,
           0,
           0,
           0,
           0,
           0,
           0,
           0,
           0,
           0,
           0,
           0,
           0,
           0,
           0,
           0,
           0,
           0,
           0,
           0,
           0,
           0,
           0,
           0,
           0,
           0,
           0,
           0,
           0,
           0,
           0,
           0,
           0,
           0,
           0,
           0,
           0,
           0,
           0,
           0,
           0,
           0,
           0,
           0,
           0,
           0,
           0,
           0,
           0,
           0,
           0,
           0,
           0,
           0,
           0,
           0,
           0,
           0,
           0,
           0,
           0,
           0,
           0,
           0,
           0,
           0,
           0,
           0,
           0,
           0,
           0,
           0,
           0,
           0,
           0,
           0,
           0,
           0,
           0,
           0,
           0,
           0,
           0,
           0
          ],
          "coloraxis": "coloraxis",
          "symbol": "circle"
         },
         "mode": "markers",
         "name": "0",
         "scene": "scene",
         "showlegend": true,
         "type": "scatter3d",
         "x": [
          -0.3232558629389391,
          -0.30665371479019254,
          2.3346618894880415,
          -0.36244944258387995,
          -0.35632834350606735,
          -0.28491971256407844,
          -0.2959498699597103,
          -0.21399353638779353,
          -0.32291658607655416,
          -0.315524494437613,
          -0.32175852635737046,
          -0.3232518086061839,
          -0.32323614641168963,
          0.6014188960781791,
          -0.3275357698148609,
          -0.44139206891049687,
          -0.34006643312378965,
          -0.32132083388919797,
          -0.3533851868601008,
          -0.3623445654106663,
          -0.6063023709699663,
          -0.07526030751859318,
          -0.24834132170567239,
          -0.33403775963213017,
          -0.24318807950417243,
          -0.2438077670817767,
          -0.32152948918725105,
          -0.31757535672291654,
          -0.32166271706328653,
          0.03343433361668815,
          -0.37319120777827225,
          -0.3627149381871099,
          -0.289651526298468,
          -0.3475732674937523,
          -0.3626267965707703,
          -0.298566010490705,
          -0.3219372257073337,
          -0.2952158403575589,
          -0.3625914792789413,
          -0.29011876322699537,
          -0.24358951850321411,
          -0.3143810972388293,
          -0.11925834309476599,
          -0.4246496928594811,
          -0.28413398056992684,
          -0.3269597377772713,
          -0.33401832454099734,
          -0.24388268111684125,
          -0.328687055050331,
          -0.32323800414050907,
          -0.2438350881973731,
          -0.3736339709456847,
          -0.3229731834406548,
          -0.3626965419483847,
          -0.9389536719686529,
          -0.3671537733041209,
          -0.20510344463552704,
          -0.3324249460853505,
          -0.24335810661187746,
          -0.2774929750809595,
          -0.21642959946623092,
          -0.03631423622730541,
          -0.2848907443826892,
          -0.04110170857661973,
          -0.2849543409273639,
          -0.18323578040397076,
          -0.3228492601979616,
          -0.3322928354219815,
          -0.35987186550563155,
          0.8158285588289569,
          -0.2847548030376496,
          -0.1269162077162405,
          -0.44107634751488906,
          -0.36054723452546117,
          -0.28350089338444673,
          -0.28117436596496515,
          -0.3041013740390689,
          -0.3614349236062993,
          -0.4421293805556821,
          -0.29921449502183073,
          -0.322887170994277,
          -0.3213317244643535,
          -0.2536097377615216,
          -0.3611665861156054,
          -0.3621718833330697,
          -0.322093986042241,
          -0.28493522387578174,
          -0.362685735556784,
          -0.3230758915011123,
          -0.32323226060864024,
          -0.3322855345090812,
          -0.27162300124657396,
          0.09039285219947389,
          -0.4400369009660733,
          -0.32284798113373553,
          -0.3488833516544378,
          -0.4393687343552609,
          -0.2550372942962071,
          -0.3591498425266326,
          -0.439115057523699,
          -0.2230324512429045,
          3.727595152892532,
          -0.3622795538500525,
          0.8837550953340692,
          -0.3626408162078986,
          -0.4404991057300713,
          -0.3227752931123249,
          -0.3229289456168901,
          -0.44107634751488906,
          -0.36221666277395925,
          -0.2847984672768152,
          -0.32277610309496785,
          -0.37587003431657817,
          -0.3229229660379188,
          -0.31852021261973507,
          -0.36266967661403277,
          -0.3221352531827674,
          0.3070790710137163,
          -0.32312164335579635,
          -0.3231920633483967,
          -0.4027505293882051,
          -0.3202513940107217,
          -0.3194272055510326,
          -0.2849117331570658,
          -0.3625799324483661,
          -0.322970543071716,
          -0.3230969547933918,
          -0.3339244479821808,
          -0.3322076297669256,
          -0.2548059217910718,
          -0.3040144709198334,
          -0.33366691411110244,
          -0.3618473919150189,
          -0.3511210402257087,
          -0.36059073627673777,
          -0.43932875042494,
          -0.36174569096518633,
          -0.43374732368163166,
          -0.3576975588831589,
          -0.3230404812072738,
          -0.3230395716566935,
          -0.3161756496617887,
          0.23559890354043903,
          -0.36222306565384055,
          -0.31660983380502505,
          -0.4411103635898923,
          -0.32225320236384325,
          0.9146004402651594,
          -0.2946429778749519,
          -0.44091175697013657,
          0.6460619529168683,
          -0.30563191312459015,
          -0.30413868033305647,
          -0.3651746780975848,
          -0.2435211801740476,
          0.14050270689143807,
          -0.24359182018958653,
          -0.4160838320682687,
          -0.3646815700959842,
          -0.36249477039167993,
          -0.333998872587484,
          5.039838332893646,
          -0.440976740133563,
          -0.3226767795105476,
          -0.3231750498972035,
          -0.41420597156534794,
          0.5655620049491079,
          -0.36243559450873514,
          -0.31654348322848375,
          -0.32313068447592724,
          -0.3517516756863692,
          0.4432165134173463,
          -0.28326360607551765,
          -0.29044393240898714,
          -0.3719643116068074,
          -0.3230811511896255,
          -0.3901028906405196,
          -0.42598520898421477,
          -0.3229521621755165,
          -0.12301171165365468,
          -0.3612315124710841,
          3.7324367021893963,
          0.2520104166496993,
          -0.24027350451261628,
          -0.32042001035160966,
          -0.3164893809925995,
          -0.4026368259961324,
          0.09021017138172611,
          -0.322092303101898,
          -0.3618116065438521,
          -0.40180355582176014,
          -0.3096980174949743,
          -0.3231970944842189,
          -0.37360600027214036,
          -0.44241027282977435,
          -0.3183595809520091,
          -0.3158654656686476,
          -0.3187572293486021,
          -0.24662398835619825,
          -0.34299516492990756,
          -0.5193360264701036,
          -0.36251172979965013,
          -0.13507772066707832,
          -0.3331607761330704,
          -0.395839039308474,
          -0.3052319417608596,
          -0.32322435225856655,
          -0.3232061095230075,
          -0.32755973918159825,
          -0.41447762734081417,
          -0.44057247371940317,
          -0.32292342116871897,
          3.949149929065104,
          -0.38877631779908295,
          -0.440760489412707,
          -0.3409682402041245,
          -0.26993775956308186,
          0.022381479842379003,
          -0.33369420206986194,
          -0.12699365690918366,
          -0.3339449874160001,
          -0.288186000400817,
          -0.32239883195604774,
          -0.2268683388960514,
          2.1962541066327868,
          -0.39835337954198985,
          -0.29477157744216503,
          0.9878305428172464,
          -0.32921373818510086,
          -0.4027498837812749,
          -0.39178292939342435,
          -0.21492508486391815,
          -0.3405866341837718,
          -0.4014735059402707,
          -0.31611598381019507,
          -0.3731846468448877,
          -0.3619868526961349,
          -0.33119862019470947,
          -0.43986212231874156,
          -0.2791452139667004,
          -0.3730459590330856,
          -0.18302477617310167,
          -0.4243752259559841,
          -0.146164200886512,
          1.0020472773801952,
          -0.16441052377879636,
          -0.39107973655108297,
          -0.29073370136787613,
          -0.3229275046868322,
          -0.3915344939001572,
          -0.40286649269844715,
          0.5809535956285468,
          -0.37366011321695425,
          -0.32241164178939397,
          -0.12954967210233273,
          -0.24302091736572123,
          -0.35955620275189437,
          -0.36221344732108907,
          3.7446357562676638,
          0.11072762052575463,
          -0.3597634967989194,
          -0.32179800022415433,
          -0.32262168881976544,
          -0.29598224847915117,
          -0.3231386784097938,
          -0.35386866531841177,
          -0.23704466398102808,
          -0.06546959904130367,
          -0.3496272732689593,
          -0.32241971604787795,
          -0.31550678692569134,
          -0.358793487843253,
          -0.3208632083194999,
          -0.44135101409781785,
          -0.4025333801911241,
          -0.2834396383832782,
          3.727985866259373,
          -0.14186967560321953,
          -0.3180674067918245,
          -0.3211560754171091,
          -0.24398961676769454,
          3.7378115964161114,
          3.739050683165149,
          -0.2769428541499383,
          -0.4412871459684267,
          -0.49438307919269825,
          2.4802116548580257,
          -0.32130566117748305,
          -0.334340449849387
         ],
         "y": [
          1.0199080637300848,
          1.0200804296700356,
          1.634619651597357,
          1.2460721823277952,
          1.7087038549695535,
          0.8291530120854281,
          0.6386769410717575,
          1.8688256264477066,
          1.01990738275133,
          1.0201649327225373,
          1.0199578116531915,
          1.0199078420448229,
          1.0199080059921855,
          0.41309672958684057,
          0.9415395608993459,
          1.6147032095808989,
          0.19379129477571952,
          1.0198868134861905,
          1.056272643664611,
          1.246075666793795,
          2.086046682569674,
          0.8380311572816408,
          0.8286594943588039,
          0.8294219354262565,
          1.772916155843324,
          1.7728955671849103,
          0.5061231431455279,
          1.0197974037430684,
          1.0198911370373842,
          1.0317588299875073,
          1.055614603365033,
          1.2460790430863256,
          0.15280674288923993,
          1.7022782936281908,
          1.246074843890959,
          1.0195878300809167,
          1.0198805910224984,
          0.362415903088555,
          1.246079225038189,
          0.152862502767975,
          1.772902818331449,
          1.019490086464906,
          0.7644256850213997,
          1.5165743837440937,
          0.82914632704616,
          0.9415618213512728,
          0.8294341148094031,
          1.7728845242045286,
          0.8292548248799866,
          1.0199086571053064,
          1.7728875311134018,
          1.0555856361928635,
          1.0199031988803362,
          1.2460796550004962,
          2.389103280095632,
          1.9433289720815812,
          0.7412289698323893,
          0.8294157701445033,
          1.772874865080339,
          0.8287026074959681,
          1.8689754361089645,
          0.933930164175682,
          0.8291539745316879,
          1.2378386405502677,
          0.829160059183789,
          1.5585665531559807,
          1.0198916337726922,
          0.8293338688968427,
          1.2458997742174855,
          0.7970662784045346,
          0.8291456600556598,
          0.4158809281060901,
          1.6146994424936498,
          1.246097601531107,
          0.8290570675354949,
          0.8289188925443117,
          1.5544867286609012,
          1.2460224872964614,
          1.5300063838193947,
          1.019281150753837,
          1.0198887109337968,
          1.0199007083505052,
          1.5823109628744436,
          1.0555457800181884,
          1.2460614446534697,
          1.0198825111248608,
          0.8291532095684228,
          1.2460778755304769,
          1.0198990736467146,
          1.019908847929877,
          0.8294916854681648,
          0.3457501713361913,
          1.9134406054366042,
          1.6146954842533445,
          1.0199216153293373,
          1.2454693357967337,
          1.6147419200467155,
          1.5824043181517082,
          1.966868470163744,
          1.614564298320736,
          1.9119334407926487,
          1.8925283404381954,
          1.2460721240762689,
          1.8097520942653282,
          1.2460787596613976,
          1.6146972358788496,
          1.0198965576823775,
          1.019888986283973,
          1.6146994424936498,
          1.2460528285421013,
          0.8291584660393876,
          1.0199004798759785,
          0.7382682525959664,
          1.019899164637929,
          1.0196015892584127,
          1.2460769834073373,
          1.0198426469768112,
          0.8275563349059017,
          1.0199032562536308,
          1.0199078198442053,
          1.5545865833812742,
          0.571330148617014,
          1.0196788506621766,
          0.8291539900300634,
          1.2460768614078028,
          1.0199032866046285,
          1.0198977085222878,
          0.8293980278753721,
          0.3274745984339333,
          1.5824034336869865,
          1.0198345099064816,
          0.8294212498077072,
          1.246036583900338,
          1.8827595343700423,
          1.2460712070005664,
          1.6146931432323715,
          1.2460399628386805,
          1.614672066638351,
          1.2458893251019787,
          1.0199000989201386,
          1.0198948628021907,
          1.0194304637966833,
          0.6028835553987884,
          1.2460668725067503,
          0.8285868293969986,
          1.6146911839870985,
          1.0198665287594364,
          1.8424166832169955,
          0.638586645046681,
          1.5299994349437565,
          1.9837486855073387,
          1.5544929044215243,
          1.5544641041437088,
          1.9294355610626244,
          1.7728837037782088,
          0.9996743580624483,
          1.7728892705742483,
          1.4660935060847113,
          1.929451944208862,
          1.2460795815968344,
          0.8294223535614841,
          1.6610758302545483,
          1.6146730979729085,
          1.0198929076720866,
          1.0199077548071027,
          1.7092823805232518,
          1.5853662328523974,
          1.2460690782458905,
          0.5060063529572552,
          1.0199010074543224,
          0.6262238299097771,
          1.0275526683739669,
          0.8291524338778435,
          1.5541492403872768,
          1.8931810434263545,
          1.0198988988974793,
          1.7449912915050698,
          1.5275914619578552,
          1.019907612394349,
          0.6380160800602936,
          1.2460256813060995,
          1.8924218842672218,
          1.5516422406663553,
          1.7728632951240948,
          1.0198525875475233,
          1.364003170291263,
          1.5545867969179323,
          0.9980034260125401,
          1.019839796952602,
          1.2460734145815684,
          1.5545431982212823,
          1.0197169617807098,
          1.0199071649590667,
          1.0555858526628894,
          1.5300031104783263,
          -0.09572251817827863,
          0.253115224026192,
          1.0198921498432978,
          1.5821153583306127,
          0.8606200673755101,
          3.096785639847989,
          1.2460679743770886,
          1.3637491123415806,
          0.8293742147043079,
          1.5201782331780525,
          1.5544776797811763,
          1.0199069721745857,
          1.019906152606336,
          0.8292922791104475,
          1.6555397707421189,
          1.6146677105604492,
          1.0198977238469902,
          2.0202751413121405,
          1.7450353659001039,
          1.6146671665572423,
          0.6174882695535016,
          1.0180284130873465,
          0.8589217791082189,
          0.8294263498329639,
          1.0191578147009064,
          0.8294051866505373,
          1.915048016996357,
          1.0198766598550002,
          1.67846683358546,
          0.3017048819820797,
          1.5542800253270432,
          0.638653529011478,
          1.701283767050514,
          0.8079684138117845,
          1.5545823278224136,
          1.7450743686119996,
          0.8213582479757966,
          0.8166908384866938,
          1.5545684205784416,
          1.0194324461501818,
          1.0555756154343534,
          1.2460675921586284,
          0.8293424603446996,
          1.6146043456139312,
          0.9478266678657068,
          1.0555481456686244,
          1.011736111207271,
          2.064746212272313,
          1.1732715264614102,
          0.8347594771212472,
          1.0625511861553198,
          1.7450629104045796,
          -0.06414292553959125,
          1.0199040036881464,
          1.7450727249861213,
          1.5545838925073139,
          0.9966297084263683,
          1.055584981485797,
          1.0198762342578236,
          1.3636191303370986,
          1.9130557028414226,
          1.2458845998254504,
          1.2460743204164784,
          1.8924707713677165,
          1.009377624659931,
          1.2461771032419575,
          1.0198139332076936,
          1.0198904580744368,
          0.6386698062239394,
          1.0199119571287623,
          1.246016537240086,
          1.0152876014895698,
          0.8363243224855623,
          1.24580103694409,
          1.0199251515963002,
          1.0198803871301132,
          1.2460610614334569,
          1.019873504363913,
          1.6146981580834803,
          0.8121442814632016,
          0.8291430211615815,
          1.8925164305490032,
          0.8286834644861608,
          1.0198665959192537,
          0.506095346980849,
          1.7728894398243076,
          1.8929568785154922,
          1.892998046250238,
          0.6386045106778799,
          1.6147005408522621,
          1.7921062432042578,
          0.8297902307397619,
          1.019794649067061,
          0.8294226996010733
         ],
         "z": [
          -0.5931630136834284,
          -0.593435284144373,
          -0.5654895215771294,
          -0.39596024392914425,
          0.15099790372860322,
          -0.33275741548713184,
          -0.045804573400097234,
          -0.6435616545409517,
          -0.5931681297631618,
          -0.5933086265429889,
          -0.5931912145745424,
          -0.5931630520620734,
          -0.5931633090603874,
          -0.4794753076760653,
          -0.4277148946580985,
          -0.07987439320281453,
          -0.6597590485467403,
          -0.5931903419322271,
          -0.10938681029949374,
          -0.3959622191893802,
          -0.5761466894938959,
          -0.3110879489573018,
          -0.3332642237086365,
          -0.3062128964924514,
          -0.5408042513622464,
          -0.5407925801454091,
          -0.2676635289063679,
          -0.593238093983374,
          -0.5931855741884071,
          -0.599880928936681,
          -0.10901378303030038,
          -0.3959569147954562,
          0.11397574418888375,
          -0.1960076487981788,
          -0.39595781525385554,
          -0.5935064744431053,
          -0.5931802521473504,
          -0.3753107697429613,
          -0.39595882227681783,
          0.11397694734745155,
          -0.5407966906465339,
          -0.5932541933487938,
          -0.4269013124421233,
          -0.22521752016209304,
          -0.33276871946325187,
          -0.42772607640474997,
          -0.3062144916954646,
          -0.5407902575962239,
          -0.30627691701783405,
          -0.5931633500398358,
          -0.5407913058988343,
          -0.10900392465428442,
          -0.5931668183223562,
          -0.39595726134680764,
          -0.4173958624130275,
          -0.6731103465119531,
          -0.12732772965816483,
          -0.3062369046417187,
          -0.5407972506671485,
          -0.3328229942322604,
          -0.6435403646320724,
          -0.38509859139364994,
          -0.33275796107484196,
          -0.39999723958017247,
          -0.3327576369270859,
          -0.4613700044475131,
          -0.593167481001441,
          -0.3062301966950133,
          -0.39598128969595625,
          -0.32034991726203066,
          -0.3327591539751774,
          -0.4686333986938712,
          -0.07987882015076349,
          -0.39599204387746634,
          -0.33276888890370493,
          -0.332789743580088,
          -0.4590867806430678,
          -0.3959704631607844,
          -0.05766412379526851,
          -0.5934638736731549,
          -0.5931665897296337,
          -0.5931916561782811,
          -0.2538469544776765,
          -0.10919034420211472,
          -0.3959633443861599,
          -0.5931780593976481,
          -0.33275719931453746,
          -0.3959572369708259,
          -0.5931648079472882,
          -0.5931634582137095,
          -0.30624712712164953,
          -0.44172299236679213,
          -0.6361074521673721,
          -0.07989429485159816,
          -0.5931706957463632,
          -0.39610346747724995,
          -0.0799094620431156,
          -0.2538350714953206,
          -0.6799322717359675,
          -0.07989441215172916,
          -0.631153533269912,
          0.1423830218293441,
          -0.39596283587550984,
          -0.5619645645295229,
          -0.39595801815785714,
          -0.07988741290282761,
          -0.5931691369492347,
          -0.5931659802035605,
          -0.07987882015076349,
          -0.39596174132889506,
          -0.33275985096093286,
          -0.5931695425565803,
          0.009417168521872969,
          -0.5931671563748145,
          -0.5932027757747844,
          -0.39595738748954634,
          -0.5931731799002329,
          -0.3158188493503632,
          -0.5931645539991133,
          -0.5931639633964926,
          -0.1758888249666074,
          -0.3147385231170402,
          -0.593197138761724,
          -0.3327576417395298,
          -0.3959587469696376,
          -0.5931668680511538,
          -0.5931643403371091,
          -0.3062120815310868,
          -0.6937613995899591,
          -0.25383851567871735,
          -0.593449438740208,
          -0.3062184948657417,
          -0.3959656574697347,
          -0.48625008323923946,
          -0.39598856568485624,
          -0.07990487530276857,
          -0.3959675729088708,
          -0.07998798740321852,
          -0.39601342837537945,
          -0.5931654587515598,
          -0.5931649146398532,
          -0.5932203946876433,
          -0.050119132429985586,
          -0.39596314009635364,
          -0.3063904278483827,
          -0.07987741981109628,
          -0.5931739211924149,
          -0.6580071027157537,
          -0.04581493705794821,
          -0.05768200468875363,
          -0.6637803729705063,
          -0.45906403185612427,
          -0.45908379897578877,
          -0.6791214489899093,
          -0.5407956986936675,
          -0.5980990595181548,
          -0.5407952116394356,
          -0.10032635216209414,
          -0.6791307362027229,
          -0.39596033927101165,
          -0.3062135357638954,
          0.2967735102434854,
          -0.07987753589442519,
          -0.5931702545567686,
          -0.5931642166566891,
          0.1518213875174528,
          -0.07697905586393451,
          -0.3959601249043833,
          -0.26772733472052374,
          -0.5931641760725749,
          0.0005740922184848635,
          -0.6056995810038007,
          -0.3327826811507513,
          -0.45925968090845287,
          -0.48246425673711485,
          -0.5931647088861366,
          -0.46285879837249266,
          -0.0011225175612189534,
          -0.5931676101616988,
          -0.0483789343520827,
          -0.39597391437311935,
          0.14232032391672633,
          -0.4672884067996145,
          -0.5408431912914962,
          -0.5932004709554419,
          -0.17211237465588405,
          -0.1758905866202682,
          -0.5971518481999649,
          -0.5931735330156567,
          -0.3959701298514176,
          -0.17589868366139302,
          -0.5933499914289766,
          -0.5931638166617853,
          -0.10900437548692228,
          -0.057659479188453024,
          0.09414190164252298,
          -0.4393268381312447,
          -0.5932301165337361,
          -0.25393294353325,
          -0.44650950045307414,
          4.888378891343085,
          -0.3959588429056856,
          -0.5429035820605597,
          -0.3062212227622443,
          -0.170566677052009,
          -0.4590685262113117,
          -0.5931633792559154,
          -0.5931635709042637,
          -0.3062981489231101,
          0.012033108696981125,
          -0.07988314430455035,
          -0.5931669958669138,
          0.2613664521568918,
          -0.4628837830903452,
          -0.07988021095441708,
          -0.006522089389768924,
          -0.5937781043862793,
          -0.2742744913060401,
          -0.30621862106169984,
          -0.5960845493732395,
          -0.3062125303384274,
          -0.6304890479457081,
          -0.5931727737272311,
          -0.3565931003232853,
          -0.48598186116463826,
          -0.17592340137120524,
          -0.04582009828424013,
          0.013813240512382051,
          -0.29348644316729333,
          -0.17588838131813572,
          -0.46284195874979855,
          -0.3071751583763116,
          -0.2863798468888518,
          -0.17590641919156205,
          -0.5932215184363142,
          -0.10900972836047385,
          -0.3959668292594465,
          -0.30624784642897723,
          -0.07988725499385796,
          -0.3481423629800952,
          -0.10900892185251114,
          -0.5944367071630129,
          0.6061087077661109,
          -0.2559497171715405,
          -0.5298081269947351,
          -0.11294596550826584,
          -0.4628514917479729,
          0.15644527467868183,
          -0.5931676026695777,
          -0.46284558297702977,
          -0.17588676473749307,
          -0.6045105206838949,
          -0.10900345508025419,
          -0.5931725324663962,
          -0.5429742716052263,
          -0.6309674455688716,
          -0.3959845000518297,
          -0.3959640809281168,
          0.14212855050668766,
          -0.5986777941692644,
          -0.3960125024185528,
          -0.5931752775272402,
          -0.5931708360159392,
          -0.04580331785417033,
          -0.593165220744014,
          -0.39608554188653783,
          -0.5939890545837148,
          -0.3368777837423913,
          -0.39612744042024417,
          -0.5931776221858672,
          -0.593278572856554,
          -0.39601497026113397,
          -0.593195922148684,
          -0.07987448271876585,
          0.11533685028680567,
          -0.3327789859124223,
          0.1423783158007174,
          -0.30907307487825714,
          -0.5932379428527952,
          -0.2676662773410559,
          -0.5407891460661047,
          0.14218110898881456,
          0.14215777198699026,
          -0.046087533803912194,
          -0.07987571340692301,
          -0.009128244904388618,
          0.08222257118422442,
          -0.5931807518587411,
          -0.30620834880851383
         ]
        },
        {
         "customdata": [
          [
           "SHA-256"
          ],
          [
           "Ethash"
          ],
          [
           "Scrypt"
          ],
          [
           "CryptoNight-V7"
          ],
          [
           "Ethash"
          ],
          [
           "Equihash"
          ],
          [
           "Multiple"
          ],
          [
           "Scrypt"
          ],
          [
           "X11"
          ],
          [
           "Scrypt"
          ],
          [
           "Multiple"
          ],
          [
           "Scrypt"
          ],
          [
           "SHA-256"
          ],
          [
           "Scrypt"
          ],
          [
           "Scrypt"
          ],
          [
           "Quark"
          ],
          [
           "Groestl"
          ],
          [
           "Scrypt"
          ],
          [
           "Scrypt"
          ],
          [
           "Scrypt"
          ],
          [
           "X11"
          ],
          [
           "Multiple"
          ],
          [
           "SHA-256"
          ],
          [
           "Scrypt"
          ],
          [
           "Scrypt"
          ],
          [
           "Scrypt"
          ],
          [
           "Scrypt"
          ],
          [
           "Scrypt"
          ],
          [
           "NeoScrypt"
          ],
          [
           "Scrypt"
          ],
          [
           "Scrypt"
          ],
          [
           "Scrypt"
          ],
          [
           "Scrypt"
          ],
          [
           "SHA-256"
          ],
          [
           "Scrypt"
          ],
          [
           "Scrypt"
          ],
          [
           "Scrypt"
          ],
          [
           "Scrypt"
          ],
          [
           "HybridScryptHash256"
          ],
          [
           "Scrypt"
          ],
          [
           "Scrypt"
          ],
          [
           "SHA-256"
          ],
          [
           "Scrypt"
          ],
          [
           "Scrypt"
          ],
          [
           "Scrypt"
          ],
          [
           "Scrypt"
          ],
          [
           "SHA-256"
          ],
          [
           "SHA-256"
          ],
          [
           "SHA-256"
          ],
          [
           "SHA-256"
          ],
          [
           "SHA-256"
          ],
          [
           "X11"
          ],
          [
           "Scrypt"
          ],
          [
           "Lyra2REv2"
          ],
          [
           "Scrypt"
          ],
          [
           "SHA-256"
          ],
          [
           "CryptoNight"
          ],
          [
           "CryptoNight"
          ],
          [
           "Scrypt"
          ],
          [
           "Scrypt"
          ],
          [
           "Scrypt"
          ],
          [
           "Scrypt"
          ],
          [
           "Scrypt"
          ],
          [
           "Scrypt"
          ],
          [
           "Stanford Folding"
          ],
          [
           "Multiple"
          ],
          [
           "QuBit"
          ],
          [
           "Scrypt"
          ],
          [
           "Scrypt"
          ],
          [
           "M7 POW"
          ],
          [
           "Scrypt"
          ],
          [
           "SHA-256"
          ],
          [
           "Scrypt"
          ],
          [
           "X11"
          ],
          [
           "Lyra2RE"
          ],
          [
           "SHA-256"
          ],
          [
           "X11"
          ],
          [
           "Scrypt"
          ],
          [
           "Scrypt"
          ],
          [
           "Ethash"
          ],
          [
           "Blake2b"
          ],
          [
           "X11"
          ],
          [
           "SHA-256"
          ],
          [
           "Scrypt"
          ],
          [
           "1GB AES Pattern Search"
          ],
          [
           "Scrypt"
          ],
          [
           "SHA-256"
          ],
          [
           "X11"
          ],
          [
           "Dagger"
          ],
          [
           "Scrypt"
          ],
          [
           "X11GOST"
          ],
          [
           "Scrypt"
          ],
          [
           "X11"
          ],
          [
           "Scrypt"
          ],
          [
           "X11"
          ],
          [
           "Equihash"
          ],
          [
           "CryptoNight"
          ],
          [
           "SHA-256"
          ],
          [
           "Multiple"
          ],
          [
           "Scrypt"
          ],
          [
           "SHA-256"
          ],
          [
           "Scrypt"
          ],
          [
           "Lyra2Z"
          ],
          [
           "Ethash"
          ],
          [
           "Equihash"
          ],
          [
           "Scrypt"
          ],
          [
           "X11"
          ],
          [
           "X11"
          ],
          [
           "CryptoNight"
          ],
          [
           "Scrypt"
          ],
          [
           "CryptoNight"
          ],
          [
           "Lyra2RE"
          ],
          [
           "X11"
          ],
          [
           "CryptoNight-V7"
          ],
          [
           "Scrypt"
          ],
          [
           "X11"
          ],
          [
           "Equihash"
          ],
          [
           "Scrypt"
          ],
          [
           "Lyra2RE"
          ],
          [
           "Dagger-Hashimoto"
          ],
          [
           "Scrypt"
          ],
          [
           "NIST5"
          ],
          [
           "Scrypt"
          ],
          [
           "SHA-256"
          ],
          [
           "Scrypt"
          ],
          [
           "CryptoNight-V7"
          ],
          [
           "Argon2d"
          ],
          [
           "Blake2b"
          ],
          [
           "Cloverhash"
          ],
          [
           "CryptoNight"
          ],
          [
           "X11"
          ],
          [
           "Scrypt"
          ],
          [
           "Scrypt"
          ],
          [
           "X11"
          ],
          [
           "X11"
          ],
          [
           "CryptoNight"
          ],
          [
           "Time Travel"
          ],
          [
           "Scrypt"
          ],
          [
           "Keccak"
          ],
          [
           "X11"
          ],
          [
           "SHA-256"
          ],
          [
           "Scrypt"
          ],
          [
           "Scrypt"
          ],
          [
           "Scrypt"
          ],
          [
           "Scrypt"
          ],
          [
           "Scrypt"
          ],
          [
           "Scrypt"
          ],
          [
           "CryptoNight"
          ],
          [
           "Equihash"
          ],
          [
           "X11"
          ],
          [
           "NeoScrypt"
          ],
          [
           "Equihash"
          ],
          [
           "Dagger"
          ],
          [
           "Scrypt"
          ],
          [
           "X11"
          ],
          [
           "NeoScrypt"
          ],
          [
           "Ethash"
          ],
          [
           "NeoScrypt"
          ],
          [
           "Multiple"
          ],
          [
           "CryptoNight"
          ],
          [
           "CryptoNight"
          ],
          [
           "Ethash"
          ],
          [
           "X11"
          ],
          [
           "CryptoNight-V7"
          ],
          [
           "Scrypt"
          ],
          [
           "BLAKE256"
          ],
          [
           "X11"
          ],
          [
           "NeoScrypt"
          ],
          [
           "NeoScrypt"
          ],
          [
           "Scrypt"
          ],
          [
           "X11"
          ],
          [
           "SHA-256"
          ],
          [
           "C11"
          ],
          [
           "CryptoNight"
          ],
          [
           "SkunkHash"
          ],
          [
           "CryptoNight"
          ],
          [
           "Scrypt"
          ],
          [
           "Dagger"
          ],
          [
           "Lyra2REv2"
          ],
          [
           "Scrypt"
          ],
          [
           "Scrypt"
          ],
          [
           "X11"
          ],
          [
           "Ethash"
          ],
          [
           "CryptoNight"
          ],
          [
           "Scrypt"
          ],
          [
           "IMesh"
          ],
          [
           "Equihash"
          ],
          [
           "Lyra2Z"
          ],
          [
           "X11"
          ],
          [
           "CryptoNight"
          ],
          [
           "NIST5"
          ],
          [
           "Lyra2RE"
          ],
          [
           "Tribus"
          ],
          [
           "Lyra2Z"
          ],
          [
           "CryptoNight"
          ],
          [
           "CryptoNight Heavy"
          ],
          [
           "CryptoNight"
          ],
          [
           "Jump Consistent Hash"
          ],
          [
           "CryptoNight"
          ],
          [
           "X16R"
          ],
          [
           "HMQ1725"
          ],
          [
           "X11"
          ],
          [
           "Scrypt"
          ],
          [
           "CryptoNight-V7"
          ],
          [
           "Cryptonight-GPU"
          ],
          [
           "XEVAN"
          ],
          [
           "CryptoNight Heavy"
          ],
          [
           "SHA-256"
          ],
          [
           "X11"
          ],
          [
           "X16R"
          ],
          [
           "Equihash"
          ],
          [
           "Lyra2Z"
          ],
          [
           "SHA-256"
          ],
          [
           "CryptoNight"
          ],
          [
           "Blake"
          ],
          [
           "Blake"
          ],
          [
           "Exosis"
          ],
          [
           "Scrypt"
          ],
          [
           "Equihash"
          ],
          [
           "Equihash"
          ],
          [
           "QuBit"
          ],
          [
           "SHA-256"
          ],
          [
           "X13"
          ],
          [
           "SHA-256"
          ],
          [
           "Scrypt"
          ],
          [
           "NeoScrypt"
          ],
          [
           "Blake"
          ],
          [
           "Scrypt"
          ],
          [
           "SHA-256"
          ],
          [
           "Scrypt"
          ],
          [
           "Groestl"
          ],
          [
           "Scrypt"
          ],
          [
           "Scrypt"
          ],
          [
           "Multiple"
          ],
          [
           "Equihash+Scrypt"
          ],
          [
           "Ethash"
          ],
          [
           "CryptoNight"
          ],
          [
           "Equihash"
          ]
         ],
         "hovertemplate": "<b>%{hovertext}</b><br><br>Class=%{marker.color}<br>PC 1=%{x}<br>PC 2=%{y}<br>PC 3=%{z}<br>Algorithm=%{customdata[0]}<extra></extra>",
         "hovertext": [
          "Bitcoin",
          "Ethereum",
          "Litecoin",
          "Monero",
          "Ethereum Classic",
          "ZCash",
          "DigiByte",
          "ProsperCoin",
          "Spreadcoin",
          "Argentum",
          "MyriadCoin",
          "MoonCoin",
          "ZetaCoin",
          "SexCoin",
          "Quatloo",
          "QuarkCoin",
          "Riecoin",
          "Digitalcoin ",
          "Catcoin",
          "CannaCoin",
          "CryptCoin",
          "Verge",
          "DevCoin",
          "EarthCoin",
          "E-Gulden",
          "Einsteinium",
          "Emerald",
          "Franko",
          "FeatherCoin",
          "GrandCoin",
          "GlobalCoin",
          "GoldCoin",
          "Infinite Coin",
          "IXcoin",
          "KrugerCoin",
          "LuckyCoin",
          "Litebar ",
          "MegaCoin",
          "MediterraneanCoin",
          "MinCoin",
          "NobleCoin",
          "Namecoin",
          "NyanCoin",
          "RonPaulCoin",
          "StableCoin",
          "SmartCoin",
          "SysCoin",
          "TigerCoin",
          "TerraCoin",
          "UnbreakableCoin",
          "Unobtanium",
          "UroCoin",
          "ViaCoin",
          "Vertcoin",
          "WorldCoin",
          "JouleCoin",
          "ByteCoin",
          "DigitalNote ",
          "MonaCoin",
          "Gulden",
          "PesetaCoin",
          "Wild Beast Coin",
          "Flo",
          "ArtByte",
          "Folding Coin",
          "Unitus",
          "CypherPunkCoin",
          "OmniCron",
          "GreenCoin",
          "Cryptonite",
          "MasterCoin",
          "SoonCoin",
          "1Credit",
          "MarsCoin ",
          "Crypto",
          "Anarchists Prime",
          "BowsCoin",
          "Song Coin",
          "BitZeny",
          "Expanse",
          "Siacoin",
          "MindCoin",
          "I0coin",
          "Revolution VR",
          "HOdlcoin",
          "Gamecredits",
          "CarpeDiemCoin",
          "Adzcoin",
          "SoilCoin",
          "YoCoin",
          "SibCoin",
          "Francs",
          "BolivarCoin",
          "Omni",
          "PizzaCoin",
          "Komodo",
          "Karbo",
          "ZayedCoin",
          "Circuits of Value",
          "DopeCoin",
          "DollarCoin",
          "Shilling",
          "ZCoin",
          "Elementrem",
          "ZClassic",
          "KiloCoin",
          "ArtexCoin",
          "Kurrent",
          "Cannabis Industry Coin",
          "OsmiumCoin",
          "Bikercoins",
          "HexxCoin",
          "PacCoin",
          "Citadel",
          "BeaverCoin",
          "VaultCoin",
          "Zero",
          "Canada eCoin",
          "Zoin",
          "DubaiCoin",
          "EB3coin",
          "Coinonat",
          "BenjiRolls",
          "ILCoin",
          "EquiTrader",
          "Quantum Resistant Ledger",
          "Dynamic",
          "Nano",
          "ChanCoin",
          "Dinastycoin",
          "DigitalPrice",
          "Unify",
          "SocialCoin",
          "ArcticCoin",
          "DAS",
          "LeviarCoin",
          "Bitcore",
          "gCn Coin",
          "SmartCash",
          "Onix",
          "Bitcoin Cash",
          "Sojourn Coin",
          "NewYorkCoin",
          "FrazCoin",
          "Kronecoin",
          "AdCoin",
          "Linx",
          "Sumokoin",
          "BitcoinZ",
          "Elements",
          "VIVO Coin",
          "Bitcoin Gold",
          "Pirl",
          "eBoost",
          "Pura",
          "Innova",
          "Ellaism",
          "GoByte",
          "SHIELD",
          "UltraNote",
          "BitCoal",
          "DaxxCoin",
          "AC3",
          "Lethean",
          "PopularCoin",
          "Photon",
          "Sucre",
          "SparksPay",
          "GunCoin",
          "IrishCoin",
          "Pioneer Coin",
          "UnitedBitcoin",
          "Interzone",
          "TurtleCoin",
          "MUNcoin",
          "Niobio Cash",
          "ShareChain",
          "Travelflex",
          "KREDS",
          "BitFlip",
          "LottoCoin",
          "Crypto Improvement Fund",
          "Callisto Network",
          "BitTube",
          "Poseidon",
          "Aidos Kuneen",
          "Bitrolium",
          "Alpenschillling",
          "FuturoCoin",
          "Monero Classic",
          "Jumpcoin",
          "Infinex",
          "KEYCO",
          "GINcoin",
          "PlatinCoin",
          "Loki",
          "Newton Coin",
          "MassGrid",
          "PluraCoin",
          "Motion",
          "PlusOneCoin",
          "Axe",
          "HexCoin",
          "Webchain",
          "Ryo",
          "Urals Coin",
          "Qwertycoin",
          "Project Pai",
          "Azart",
          "Xchange",
          "CrypticCoin",
          "Actinium",
          "Bitcoin SV",
          "FREDEnergy",
          "Universal Molecule",
          "Lithium",
          "Exosis",
          "Block-Logic",
          "Beam",
          "Bithereum",
          "SLICE",
          "BLAST",
          "Bitcoin Rhodium",
          "GlobalToken",
          "SolarCoin",
          "UFO Coin",
          "BlakeCoin",
          "Crypto Escudo",
          "Crown Coin",
          "SmileyCoin",
          "Groestlcoin",
          "Bata",
          "Pakcoin",
          "JoinCoin",
          "Vollar",
          "Reality Clash",
          "Beldex",
          "Horizen"
         ],
         "legendgroup": "3",
         "marker": {
          "color": [
           3,
           3,
           3,
           3,
           3,
           3,
           3,
           3,
           3,
           3,
           3,
           3,
           3,
           3,
           3,
           3,
           3,
           3,
           3,
           3,
           3,
           3,
           3,
           3,
           3,
           3,
           3,
           3,
           3,
           3,
           3,
           3,
           3,
           3,
           3,
           3,
           3,
           3,
           3,
           3,
           3,
           3,
           3,
           3,
           3,
           3,
           3,
           3,
           3,
           3,
           3,
           3,
           3,
           3,
           3,
           3,
           3,
           3,
           3,
           3,
           3,
           3,
           3,
           3,
           3,
           3,
           3,
           3,
           3,
           3,
           3,
           3,
           3,
           3,
           3,
           3,
           3,
           3,
           3,
           3,
           3,
           3,
           3,
           3,
           3,
           3,
           3,
           3,
           3,
           3,
           3,
           3,
           3,
           3,
           3,
           3,
           3,
           3,
           3,
           3,
           3,
           3,
           3,
           3,
           3,
           3,
           3,
           3,
           3,
           3,
           3,
           3,
           3,
           3,
           3,
           3,
           3,
           3,
           3,
           3,
           3,
           3,
           3,
           3,
           3,
           3,
           3,
           3,
           3,
           3,
           3,
           3,
           3,
           3,
           3,
           3,
           3,
           3,
           3,
           3,
           3,
           3,
           3,
           3,
           3,
           3,
           3,
           3,
           3,
           3,
           3,
           3,
           3,
           3,
           3,
           3,
           3,
           3,
           3,
           3,
           3,
           3,
           3,
           3,
           3,
           3,
           3,
           3,
           3,
           3,
           3,
           3,
           3,
           3,
           3,
           3,
           3,
           3,
           3,
           3,
           3,
           3,
           3,
           3,
           3,
           3,
           3,
           3,
           3,
           3,
           3,
           3,
           3,
           3,
           3,
           3,
           3,
           3,
           3,
           3,
           3,
           3,
           3,
           3,
           3,
           3,
           3,
           3,
           3,
           3,
           3,
           3,
           3,
           3,
           3,
           3,
           3,
           3,
           3,
           3,
           3,
           3,
           3,
           3,
           3,
           3,
           3,
           3,
           3,
           3,
           3,
           3,
           3,
           3,
           3,
           3,
           3,
           3
          ],
          "coloraxis": "coloraxis",
          "symbol": "diamond"
         },
         "mode": "markers",
         "name": "3",
         "scene": "scene",
         "showlegend": true,
         "type": "scatter3d",
         "x": [
          -0.14077491622389804,
          -0.16203784259778312,
          -0.17794519402498268,
          -0.1535121303496247,
          -0.16048322014435282,
          -0.13635941242595773,
          0.1510463604178597,
          -0.17908769471540684,
          -0.21848838748317093,
          -0.17870518053144838,
          -0.10160314677186906,
          2.5371596594499994,
          -0.13786951999801933,
          -0.17596904499895025,
          -0.17850949873102423,
          -0.243036554125092,
          -0.18246043573098877,
          -0.1785587938149865,
          -0.1790700321497887,
          -0.17915624858572562,
          -0.21857739784077845,
          0.17463816870747365,
          0.23584159188936332,
          0.0687598128130974,
          -0.17890345597464274,
          -0.17452259324829184,
          -0.17884284130716147,
          -0.17921304846736205,
          -0.17273007755505107,
          -0.15849946765857562,
          -0.17801218964364832,
          -0.1782884887892886,
          1.5639120800155883,
          -0.14073644122318427,
          -0.17558611134081803,
          -0.17892980499135155,
          -0.17928344907406038,
          -0.17854511712311416,
          -0.13684044242822396,
          -0.1791650734078825,
          -0.04440592965013087,
          -0.14081373922049842,
          -0.17284995909230016,
          -0.17914444468357546,
          -0.17724327091317554,
          -0.17863283480207562,
          -0.12800550625965196,
          -0.14027930514224687,
          -0.1405654231454337,
          -0.14054794832016654,
          -0.14113738452617522,
          -0.21875084217365687,
          -0.1788620480165383,
          -0.1959539486598779,
          -0.1759735255989345,
          -0.14034635689010758,
          3.842944135783309,
          0.4531835632169844,
          -0.1777330609012187,
          -0.16237208848576992,
          -0.17645618634423238,
          -0.17928563172216166,
          -0.17632185799241387,
          -0.16258929688082158,
          -0.12815015054295575,
          -0.135500589462981,
          -0.1771499976215063,
          -0.1791592101372063,
          -0.05246990724786793,
          -0.14201232174871203,
          -0.1792945163766168,
          -0.14084140489833713,
          0.4715146390920035,
          -0.21814003717128433,
          -0.16945022561639758,
          -0.1405818593003858,
          -0.21842395561854921,
          -0.17742294026013194,
          -0.17661788192192296,
          -0.16310076792966477,
          0.38158513478322403,
          -0.21845927933560513,
          -0.14073755905554314,
          -0.17526574350244117,
          -0.1348218972416852,
          -0.17786249488620098,
          0.27636147079656376,
          -0.21762243572520262,
          -0.1678576312486184,
          -0.17810775293088865,
          -0.14495527601192945,
          -0.1790850046463171,
          -0.21842254576561274,
          -0.17929457467803717,
          -0.2185719130921727,
          -0.1787457705060945,
          0.29857391401323274,
          -0.14099675343167306,
          -0.11563662117433139,
          -0.17646992335921655,
          -0.14095553711881315,
          -0.1789589218587602,
          -0.15191757225818467,
          -0.16284383371850794,
          -0.13638094247277235,
          -0.10617672253866299,
          -0.2052026424086725,
          -0.21640598830740745,
          0.2985684532037279,
          -0.17927635693399838,
          0.2986986985234347,
          -0.1699892689277307,
          0.495181115363111,
          -0.152279240460854,
          -0.17924476275639079,
          -0.21132169253956043,
          -0.1363933229512284,
          -0.1773842020055447,
          -0.16970862995427982,
          -0.1562355222073991,
          -0.15023004069798512,
          -0.16133946840434135,
          -0.17880845543456111,
          -0.10742289189596158,
          -0.17863073067986807,
          -0.15213865814368954,
          -0.15689560545899647,
          -0.01710205435557322,
          -0.2134200907631726,
          0.33457251751000355,
          -0.21763057365743407,
          -0.17894943805699662,
          -0.17871299853779457,
          -0.21802421972379654,
          -0.2185999174234733,
          0.2989623085346369,
          -0.12236188230168303,
          3.2194538073851007,
          -0.07520417109415639,
          -0.20949379510507365,
          -0.1407740838049407,
          -0.10502216250203893,
          1.5606932358601866,
          -0.17904688176198663,
          -0.17849984468962135,
          -0.17820180160828297,
          -0.17818878513259948,
          0.29914566298138234,
          0.0753692746500261,
          -0.1731457429341412,
          -0.17740422704863634,
          -0.13623993836765982,
          -0.16661997075534601,
          -0.1773824183678905,
          -0.2141576888438683,
          -0.17725001167154897,
          -0.1612120981972909,
          -0.17734999643499075,
          -0.12576257179611586,
          1.1343160638860945,
          0.2985511744286932,
          -0.08626893329235649,
          -0.21389753171805165,
          -0.14128215117903017,
          -0.09570230703777008,
          1.1101411896413607,
          -0.21857400820280337,
          -0.177401878666235,
          -0.1704611314112868,
          -0.17830028745225193,
          -0.21849967151082036,
          -0.14075357567751584,
          -0.1990117558420726,
          8.019104766731518,
          -0.1729756351356068,
          0.30241449442560603,
          0.013107492276282847,
          -0.16612596575988417,
          -0.1815560424723329,
          -0.1788720358137424,
          0.1272229151713252,
          -0.21265755279768067,
          -0.11435345115448063,
          0.30645610376588384,
          -0.1791083559174916,
          -0.1515020947908315,
          -0.13523441080579648,
          -0.14970614572034185,
          -0.21767118206367345,
          0.2987330405043761,
          -0.16139906797405046,
          -0.16983490471468532,
          -0.1323828273081827,
          -0.1520017601855658,
          0.3026535027544171,
          0.5866836261420487,
          2.1024892582920347,
          -0.15027155841068898,
          0.31229683830585875,
          -0.18604247297930088,
          -0.14886715979280932,
          -0.21855622357712456,
          -0.17913282357075996,
          -0.14115212450389136,
          -0.14286796658262912,
          0.010107145532114644,
          3.1016431200426418,
          -0.1007346726680565,
          -0.21852764902514035,
          -0.18547141936791628,
          -0.03130469644814321,
          -0.15140091815806692,
          -0.1407741212192722,
          0.3782839156947868,
          -0.13312523258748582,
          -0.1335167855162643,
          -0.1768807464663665,
          -0.17802822193005274,
          -0.1343044998453783,
          -0.13607329292439424,
          -0.1763627611853177,
          -0.1400525804254589,
          -0.10001365586244103,
          -0.13892363390107587,
          0.5153418364144907,
          -0.10281344913938201,
          -0.08408496718118515,
          -0.16273927724882722,
          -0.14056479612886266,
          0.5343562468451831,
          -0.1820229111489069,
          -0.17920958957036073,
          -0.17717107520086373,
          -0.13623247998459823,
          -0.13034814177158854,
          -0.16287688263745514,
          0.32023997802270887,
          -0.13636046512228914
         ],
         "y": [
          -1.326378799094638,
          -2.060732944793692,
          -1.1356456031279187,
          -2.2335971456079813,
          -2.060830988923529,
          -2.0291593299806845,
          -1.817654898169567,
          -1.1356386532717444,
          -0.909465020683384,
          -1.1356565964182286,
          -1.8125051291624472,
          -1.3191069424956436,
          -1.3263883361380686,
          -1.1356982776209583,
          -1.1356757570881124,
          -0.4104776697470994,
          -1.214018802596796,
          -1.1356404458026779,
          -1.1356380664461512,
          -1.1356353280416902,
          -0.9094665523166914,
          -1.813702527313471,
          -1.3288205568148246,
          -1.1370124043315033,
          -1.1356325320767466,
          -1.135685714134175,
          -1.1356383593821082,
          -1.1356358578047525,
          -1.6494915598399673,
          -1.1359523151644737,
          -1.135637849320577,
          -1.1356486299670507,
          -1.1422966447907026,
          -1.3263775207913882,
          -1.1356965474178078,
          -1.1356326946684319,
          -1.1356311498611789,
          -1.1356355960655298,
          -2.140396413005236,
          -1.1356333829386325,
          -1.141841504041295,
          -1.3263800889598014,
          -1.135656664939558,
          -1.1356405387471868,
          -1.1357406128283076,
          -1.1356450685000685,
          -1.3265725727081028,
          -1.3263808750208765,
          -1.3263868083734212,
          -1.3264133155069378,
          -1.3263760505124813,
          -0.9094594838495139,
          -1.1356325819977235,
          -1.3388479300687726,
          -1.1357094189681065,
          -1.3263816685645162,
          -2.299280243929452,
          -2.2875360558637876,
          -1.1356536102333339,
          -1.136265882596621,
          -1.135654859562329,
          -1.135632133380884,
          -1.1356458444399518,
          -1.1357883715345851,
          -2.0743975322779282,
          -1.8122056769028543,
          -1.5841808451120885,
          -1.1356284629943092,
          -1.1385452498018576,
          -2.2321405769589098,
          -1.135630996822579,
          -1.3263810081313505,
          -1.1795887051736227,
          -0.9094627138557342,
          -2.2221555871963528,
          -1.3263957373894264,
          -0.9094635928174296,
          -1.1357182398978123,
          -1.1357198347446704,
          -2.0607803111642635,
          -2.1281134841719536,
          -0.9094612022477391,
          -1.3263775579305364,
          -1.1356463975612068,
          -2.128371409810988,
          -1.135642855510604,
          -1.327920748169828,
          -0.9094818715067319,
          -2.2307242529336353,
          -1.1357111325667821,
          -2.3288767578641125,
          -1.1356378510614231,
          -0.9094663973152287,
          -1.1356309965997107,
          -0.9094713599334507,
          -1.3522531756639158,
          -2.2855516269175764,
          -1.326378140099772,
          -1.8124011130790072,
          -1.135679277192663,
          -1.3263774139078577,
          -1.1356407904024572,
          -2.2489172592792444,
          -2.0607784034682104,
          -2.029160045300463,
          -1.1403296187555871,
          -0.9093657723880071,
          -0.9095441041549881,
          -2.2855596495314674,
          -1.135631886740614,
          -2.2855581735668,
          -2.222133728097615,
          -0.9570231039082281,
          -2.2336880581932914,
          -1.1356312973349805,
          -0.9099254906621759,
          -2.0291576052935296,
          -1.1356383699421826,
          -2.2221322452599304,
          -2.2411258505072715,
          -1.1375162487842134,
          -0.6010619814417587,
          -1.1356397264006448,
          -1.3270378203321027,
          -1.1356598255555634,
          -2.2336263606682,
          -2.1417529084639484,
          -2.1416021343172207,
          -2.215509957603249,
          -2.2857741413259145,
          -0.9094935472399247,
          -1.1356328314403095,
          -1.13566469734823,
          -0.9094781124462807,
          -0.9094679420643612,
          -2.285570087529005,
          -2.2249183561533217,
          -1.1652766281839986,
          -1.2090224467386372,
          -0.9099360436086019,
          -1.3263787714381425,
          -1.1406476767470872,
          -1.077820757576402,
          -1.1356365844569734,
          -1.1356640309833208,
          -1.135665534080287,
          -1.1356651016175734,
          -2.2855888657267607,
          -2.0370793627971313,
          -0.9092273909808821,
          -1.6494265890305257,
          -2.029155360544047,
          -2.2307731684169863,
          -1.135638310682149,
          -0.9095563719221071,
          -1.6494342963654443,
          -2.060905103788675,
          -1.6494282088656973,
          -1.8123526094694364,
          -2.31836854400022,
          -2.285554164510288,
          -2.065343926974493,
          -0.9096902953509491,
          -2.2339032788400455,
          -1.1364174402064242,
          -1.2524414959031824,
          -0.9094677228010942,
          -1.6494222339985989,
          -1.6495330806971962,
          -1.1356431441471118,
          -0.9094675340911368,
          -1.3263774955666727,
          -1.294920427162511,
          -2.7418703871742354,
          -2.121089891652726,
          -2.285656410630386,
          -1.1363664895245313,
          -2.2307166180714675,
          -1.3390938104895844,
          -1.1356450320260807,
          -1.1385678771673986,
          -0.909613456235559,
          -2.0637820924476697,
          -2.2859954534618008,
          -1.1356393397248012,
          -2.19381639172806,
          -2.029156881543549,
          -2.2490423820481515,
          -0.9094948964239892,
          -2.2855523278705143,
          -0.6010445354197125,
          -2.222140204412463,
          -2.4092001669186036,
          -2.24891228646137,
          -2.2858366585073244,
          -2.232951703036789,
          -2.3567723534662672,
          -2.2017444595283266,
          -2.2858013994050914,
          -1.3475533493152834,
          -2.070915912824276,
          -0.9094679873218806,
          -1.1356409405142711,
          -2.234433954477728,
          -2.120756746156573,
          -0.791855781343273,
          -2.2807837525579817,
          -1.3265304753162586,
          -0.9094698892927776,
          -1.3475899236353064,
          -2.0310715400395605,
          -2.2489447172885346,
          -1.3263787726812064,
          -2.288655898116151,
          -2.214201746355269,
          -2.2141578061829508,
          -2.2521986190222703,
          -1.1356740237202732,
          -2.029263420489459,
          -2.0291568709578796,
          -1.5842259732454178,
          -1.3263854519209801,
          -0.3826501050350298,
          -1.3264220783301444,
          -1.1824808713192865,
          -1.6497804585409739,
          -2.217487330302494,
          -1.135793354520653,
          -1.326386787541262,
          -1.1475617788520571,
          -1.2140192356986346,
          -1.1356312977810974,
          -1.13568974141459,
          -1.8122319893579277,
          -2.176090418311609,
          -2.0607782771324863,
          -2.2858227870970795,
          -2.0291593649557385
         ],
         "z": [
          0.1864396122608104,
          0.32636372007657594,
          -0.07398148674430303,
          0.44433378149927755,
          0.32635039353951545,
          0.3886975130496907,
          0.3424294662198742,
          -0.07396475483005611,
          0.12324016843955003,
          -0.0739686924922014,
          0.3457444840605728,
          -0.09595254217693858,
          0.18639619562945325,
          -0.07400609491805098,
          -0.07396964312273373,
          0.05628685145161503,
          0.09147073184864943,
          -0.07397265242150866,
          -0.07396508748741534,
          -0.07396406079242877,
          0.12324169292769019,
          0.34164745965065924,
          0.1809401363475888,
          -0.07760875084071138,
          -0.07396822478874332,
          -0.07402955480709907,
          -0.07396853075971124,
          -0.073963135678765,
          0.25147114846799035,
          -0.07424618868690758,
          -0.07398128849821256,
          -0.07397591406945667,
          -0.09991136837839669,
          0.186438887621341,
          -0.07401213561658478,
          -0.07396780449844557,
          -0.0739625607565554,
          -0.07397337842732571,
          0.5007704724612725,
          -0.0739641331248732,
          -0.07536343144832439,
          0.18644034345444213,
          -0.07405823067382834,
          -0.07396368599923221,
          -0.07398209610399936,
          -0.07397102744421011,
          0.18626497699579642,
          0.1864322539814556,
          0.1864372619885604,
          0.18643981965018908,
          0.18644486266559965,
          0.12324359216056932,
          -0.07396885273167808,
          0.23281046089688123,
          -0.07400483904331809,
          0.1864333639912111,
          0.37383795065408393,
          0.4244268778426385,
          -0.07398387762309769,
          -0.07415354625244325,
          -0.07400327206777224,
          -0.07396242256141403,
          -0.07400628714399621,
          -0.0742011135657042,
          0.40530578991856286,
          0.3462309736934204,
          0.2044722430783481,
          -0.07396474712002217,
          -0.0755913940998926,
          0.3430355365879374,
          -0.07396240781088156,
          0.1864408645107562,
          -0.0792307627888957,
          0.12323459518165554,
          0.30411428841023197,
          0.18643846493105506,
          0.12323903089560392,
          -0.0739817326921471,
          -0.07399387470145485,
          0.32638502359305555,
          0.39184167082948695,
          0.12323931634380904,
          0.18643890867463356,
          -0.0740223796413024,
          0.47256354166213266,
          -0.07398304430268644,
          0.18022456079891866,
          0.12322872102524386,
          0.3583746910624384,
          -0.07397201710684523,
          0.6024761400103315,
          -0.07396488146288427,
          0.123239308214289,
          -0.07396240694301352,
          0.12324212140357951,
          0.488375292148782,
          0.42657988113731776,
          0.18644293464701842,
          0.3459480166124307,
          -0.07400045975682838,
          0.18644222692333787,
          -0.07396649643062005,
          0.3876332346032399,
          0.32638089092240935,
          0.3886979185473209,
          -0.0745798781205966,
          0.12302640889494408,
          0.12321674980186528,
          0.42658081963412275,
          -0.07396259068811573,
          0.4265786704612605,
          0.304120202585152,
          0.11739417105596718,
          0.44432461528485273,
          -0.07396313668034182,
          0.12317963928037512,
          0.3886978478497682,
          -0.07399083699939744,
          0.30411575266902446,
          0.29848021090467197,
          -0.07420598428814562,
          0.060133196972208314,
          -0.07396891094673921,
          0.1859997837162986,
          -0.07396948693942271,
          0.44431589011466444,
          0.5552022735375441,
          0.3993764094237415,
          0.19222285444728707,
          0.4260530584908909,
          0.12323008978294779,
          -0.0739674896686619,
          -0.07396770959987108,
          0.12323446500727094,
          0.12324218543345203,
          0.42657590869267353,
          0.44267882358906013,
          -0.12278100082653359,
          0.17028057180194453,
          0.12315280939572554,
          0.1864395965830015,
          -0.0745636391555612,
          -0.10673344316470083,
          -0.07396559947057983,
          -0.07397104043488925,
          -0.07397543830077125,
          -0.07397568345351536,
          0.42657510582700847,
          0.3863035399458887,
          0.12252140653236314,
          0.25153570745344,
          0.3886952628712266,
          0.35836097618957663,
          -0.07399087059248947,
          0.12318367334662057,
          0.2515341703793659,
          0.3263694390117719,
          0.25153505071850885,
          0.3460977064026826,
          0.4172960034255959,
          0.4265804993353631,
          0.32569636562878923,
          0.1231939671336534,
          0.4441793702447161,
          -0.07515699349612165,
          0.12205648245094775,
          0.12324176582949013,
          0.25153520741607166,
          0.2514408738074535,
          -0.07397631826217657,
          0.1232406088672365,
          0.1864391469749425,
          0.07269092083348824,
          0.3571383575168292,
          0.21497574357618038,
          0.4265323130757812,
          -0.07682648106493038,
          0.35834739457424275,
          0.23261647370720245,
          -0.07396737316557878,
          -0.07833707356615703,
          0.12316681492985537,
          0.32595942247473003,
          0.42650663600441935,
          -0.07396436569627583,
          0.4886780047814858,
          0.38868004716186305,
          0.3876127491989352,
          0.12323085460304711,
          0.42657752227458734,
          0.06013224919324786,
          0.3041185320430537,
          0.32620202977926466,
          0.38763399215058125,
          0.42654786716977516,
          0.4340567108924284,
          0.4065822262738492,
          0.40151086829543275,
          0.4263966314121527,
          0.2257244022178685,
          0.45821841608934105,
          0.12324152203481828,
          -0.0739638209070721,
          0.44423393668792954,
          0.2429400405146285,
          -0.0237146718592476,
          0.4006922958499033,
          0.1858434303783842,
          0.12324128773264091,
          0.225719566726134,
          0.3872946702571703,
          0.38762825951769325,
          0.18643959728766435,
          0.4256916818288906,
          0.4697420231527312,
          0.46974332850100486,
          0.4079852107489352,
          -0.07397718814679786,
          0.38867717981305144,
          0.3886928752847092,
          0.20446501303820863,
          0.18642927438685972,
          -0.021588712081292594,
          0.18641591243924124,
          -0.07959280105626422,
          0.25043268298223426,
          0.4693421872088861,
          -0.07419828883037054,
          0.18643725017930932,
          -0.08360497874201625,
          0.09146408682333439,
          -0.07396367454583944,
          -0.0739886216628452,
          0.34624497085464023,
          0.4478636536224299,
          0.3263813828846535,
          0.42627743415108005,
          0.38869753287620784
         ]
        },
        {
         "customdata": [
          [
           "Proof-of-BibleHash"
          ],
          [
           "SHA-256 + Hive"
          ],
          [
           "ECC 256K1"
          ],
          [
           "Leased POS"
          ]
         ],
         "hovertemplate": "<b>%{hovertext}</b><br><br>Class=%{marker.color}<br>PC 1=%{x}<br>PC 2=%{y}<br>PC 3=%{z}<br>Algorithm=%{customdata[0]}<extra></extra>",
         "hovertext": [
          "BiblePay",
          "LitecoinCash",
          "Acute Angle Cloud",
          "Waves"
         ],
         "legendgroup": "1",
         "marker": {
          "color": [
           1,
           1,
           1,
           1
          ],
          "coloraxis": "coloraxis",
          "symbol": "square"
         },
         "mode": "markers",
         "name": "1",
         "scene": "scene",
         "showlegend": true,
         "type": "scatter3d",
         "x": [
          -0.2428704539304658,
          0.07665614024955734,
          -0.01063994220643354,
          -0.9448353729437337
         ],
         "y": [
          2.95756377957225,
          2.5890161404908696,
          2.782718721745024,
          3.750612138406094
         ],
         "z": [
          14.650375533010521,
          11.630682437483788,
          18.47497532509902,
          16.827443226184446
         ]
        },
        {
         "customdata": [
          [
           "TRC10"
          ]
         ],
         "hovertemplate": "<b>%{hovertext}</b><br><br>Class=%{marker.color}<br>PC 1=%{x}<br>PC 2=%{y}<br>PC 3=%{z}<br>Algorithm=%{customdata[0]}<extra></extra>",
         "hovertext": [
          "BitTorrent"
         ],
         "legendgroup": "2",
         "marker": {
          "color": [
           2
          ],
          "coloraxis": "coloraxis",
          "symbol": "x"
         },
         "mode": "markers",
         "name": "2",
         "scene": "scene",
         "showlegend": true,
         "type": "scatter3d",
         "x": [
          33.93368637685985
         ],
         "y": [
          1.77248866151258
         ],
         "z": [
          -0.3885932689580067
         ]
        }
       ],
       "layout": {
        "coloraxis": {
         "colorbar": {
          "title": {
           "text": "Class"
          }
         },
         "colorscale": [
          [
           0,
           "#0d0887"
          ],
          [
           0.1111111111111111,
           "#46039f"
          ],
          [
           0.2222222222222222,
           "#7201a8"
          ],
          [
           0.3333333333333333,
           "#9c179e"
          ],
          [
           0.4444444444444444,
           "#bd3786"
          ],
          [
           0.5555555555555556,
           "#d8576b"
          ],
          [
           0.6666666666666666,
           "#ed7953"
          ],
          [
           0.7777777777777778,
           "#fb9f3a"
          ],
          [
           0.8888888888888888,
           "#fdca26"
          ],
          [
           1,
           "#f0f921"
          ]
         ]
        },
        "legend": {
         "title": {
          "text": "Class"
         },
         "tracegroupgap": 0,
         "x": 0,
         "y": 1
        },
        "margin": {
         "t": 60
        },
        "scene": {
         "domain": {
          "x": [
           0,
           1
          ],
          "y": [
           0,
           1
          ]
         },
         "xaxis": {
          "title": {
           "text": "PC 1"
          }
         },
         "yaxis": {
          "title": {
           "text": "PC 2"
          }
         },
         "zaxis": {
          "title": {
           "text": "PC 3"
          }
         }
        },
        "template": {
         "data": {
          "bar": [
           {
            "error_x": {
             "color": "#2a3f5f"
            },
            "error_y": {
             "color": "#2a3f5f"
            },
            "marker": {
             "line": {
              "color": "#E5ECF6",
              "width": 0.5
             },
             "pattern": {
              "fillmode": "overlay",
              "size": 10,
              "solidity": 0.2
             }
            },
            "type": "bar"
           }
          ],
          "barpolar": [
           {
            "marker": {
             "line": {
              "color": "#E5ECF6",
              "width": 0.5
             },
             "pattern": {
              "fillmode": "overlay",
              "size": 10,
              "solidity": 0.2
             }
            },
            "type": "barpolar"
           }
          ],
          "carpet": [
           {
            "aaxis": {
             "endlinecolor": "#2a3f5f",
             "gridcolor": "white",
             "linecolor": "white",
             "minorgridcolor": "white",
             "startlinecolor": "#2a3f5f"
            },
            "baxis": {
             "endlinecolor": "#2a3f5f",
             "gridcolor": "white",
             "linecolor": "white",
             "minorgridcolor": "white",
             "startlinecolor": "#2a3f5f"
            },
            "type": "carpet"
           }
          ],
          "choropleth": [
           {
            "colorbar": {
             "outlinewidth": 0,
             "ticks": ""
            },
            "type": "choropleth"
           }
          ],
          "contour": [
           {
            "colorbar": {
             "outlinewidth": 0,
             "ticks": ""
            },
            "colorscale": [
             [
              0,
              "#0d0887"
             ],
             [
              0.1111111111111111,
              "#46039f"
             ],
             [
              0.2222222222222222,
              "#7201a8"
             ],
             [
              0.3333333333333333,
              "#9c179e"
             ],
             [
              0.4444444444444444,
              "#bd3786"
             ],
             [
              0.5555555555555556,
              "#d8576b"
             ],
             [
              0.6666666666666666,
              "#ed7953"
             ],
             [
              0.7777777777777778,
              "#fb9f3a"
             ],
             [
              0.8888888888888888,
              "#fdca26"
             ],
             [
              1,
              "#f0f921"
             ]
            ],
            "type": "contour"
           }
          ],
          "contourcarpet": [
           {
            "colorbar": {
             "outlinewidth": 0,
             "ticks": ""
            },
            "type": "contourcarpet"
           }
          ],
          "heatmap": [
           {
            "colorbar": {
             "outlinewidth": 0,
             "ticks": ""
            },
            "colorscale": [
             [
              0,
              "#0d0887"
             ],
             [
              0.1111111111111111,
              "#46039f"
             ],
             [
              0.2222222222222222,
              "#7201a8"
             ],
             [
              0.3333333333333333,
              "#9c179e"
             ],
             [
              0.4444444444444444,
              "#bd3786"
             ],
             [
              0.5555555555555556,
              "#d8576b"
             ],
             [
              0.6666666666666666,
              "#ed7953"
             ],
             [
              0.7777777777777778,
              "#fb9f3a"
             ],
             [
              0.8888888888888888,
              "#fdca26"
             ],
             [
              1,
              "#f0f921"
             ]
            ],
            "type": "heatmap"
           }
          ],
          "heatmapgl": [
           {
            "colorbar": {
             "outlinewidth": 0,
             "ticks": ""
            },
            "colorscale": [
             [
              0,
              "#0d0887"
             ],
             [
              0.1111111111111111,
              "#46039f"
             ],
             [
              0.2222222222222222,
              "#7201a8"
             ],
             [
              0.3333333333333333,
              "#9c179e"
             ],
             [
              0.4444444444444444,
              "#bd3786"
             ],
             [
              0.5555555555555556,
              "#d8576b"
             ],
             [
              0.6666666666666666,
              "#ed7953"
             ],
             [
              0.7777777777777778,
              "#fb9f3a"
             ],
             [
              0.8888888888888888,
              "#fdca26"
             ],
             [
              1,
              "#f0f921"
             ]
            ],
            "type": "heatmapgl"
           }
          ],
          "histogram": [
           {
            "marker": {
             "pattern": {
              "fillmode": "overlay",
              "size": 10,
              "solidity": 0.2
             }
            },
            "type": "histogram"
           }
          ],
          "histogram2d": [
           {
            "colorbar": {
             "outlinewidth": 0,
             "ticks": ""
            },
            "colorscale": [
             [
              0,
              "#0d0887"
             ],
             [
              0.1111111111111111,
              "#46039f"
             ],
             [
              0.2222222222222222,
              "#7201a8"
             ],
             [
              0.3333333333333333,
              "#9c179e"
             ],
             [
              0.4444444444444444,
              "#bd3786"
             ],
             [
              0.5555555555555556,
              "#d8576b"
             ],
             [
              0.6666666666666666,
              "#ed7953"
             ],
             [
              0.7777777777777778,
              "#fb9f3a"
             ],
             [
              0.8888888888888888,
              "#fdca26"
             ],
             [
              1,
              "#f0f921"
             ]
            ],
            "type": "histogram2d"
           }
          ],
          "histogram2dcontour": [
           {
            "colorbar": {
             "outlinewidth": 0,
             "ticks": ""
            },
            "colorscale": [
             [
              0,
              "#0d0887"
             ],
             [
              0.1111111111111111,
              "#46039f"
             ],
             [
              0.2222222222222222,
              "#7201a8"
             ],
             [
              0.3333333333333333,
              "#9c179e"
             ],
             [
              0.4444444444444444,
              "#bd3786"
             ],
             [
              0.5555555555555556,
              "#d8576b"
             ],
             [
              0.6666666666666666,
              "#ed7953"
             ],
             [
              0.7777777777777778,
              "#fb9f3a"
             ],
             [
              0.8888888888888888,
              "#fdca26"
             ],
             [
              1,
              "#f0f921"
             ]
            ],
            "type": "histogram2dcontour"
           }
          ],
          "mesh3d": [
           {
            "colorbar": {
             "outlinewidth": 0,
             "ticks": ""
            },
            "type": "mesh3d"
           }
          ],
          "parcoords": [
           {
            "line": {
             "colorbar": {
              "outlinewidth": 0,
              "ticks": ""
             }
            },
            "type": "parcoords"
           }
          ],
          "pie": [
           {
            "automargin": true,
            "type": "pie"
           }
          ],
          "scatter": [
           {
            "marker": {
             "colorbar": {
              "outlinewidth": 0,
              "ticks": ""
             }
            },
            "type": "scatter"
           }
          ],
          "scatter3d": [
           {
            "line": {
             "colorbar": {
              "outlinewidth": 0,
              "ticks": ""
             }
            },
            "marker": {
             "colorbar": {
              "outlinewidth": 0,
              "ticks": ""
             }
            },
            "type": "scatter3d"
           }
          ],
          "scattercarpet": [
           {
            "marker": {
             "colorbar": {
              "outlinewidth": 0,
              "ticks": ""
             }
            },
            "type": "scattercarpet"
           }
          ],
          "scattergeo": [
           {
            "marker": {
             "colorbar": {
              "outlinewidth": 0,
              "ticks": ""
             }
            },
            "type": "scattergeo"
           }
          ],
          "scattergl": [
           {
            "marker": {
             "colorbar": {
              "outlinewidth": 0,
              "ticks": ""
             }
            },
            "type": "scattergl"
           }
          ],
          "scattermapbox": [
           {
            "marker": {
             "colorbar": {
              "outlinewidth": 0,
              "ticks": ""
             }
            },
            "type": "scattermapbox"
           }
          ],
          "scatterpolar": [
           {
            "marker": {
             "colorbar": {
              "outlinewidth": 0,
              "ticks": ""
             }
            },
            "type": "scatterpolar"
           }
          ],
          "scatterpolargl": [
           {
            "marker": {
             "colorbar": {
              "outlinewidth": 0,
              "ticks": ""
             }
            },
            "type": "scatterpolargl"
           }
          ],
          "scatterternary": [
           {
            "marker": {
             "colorbar": {
              "outlinewidth": 0,
              "ticks": ""
             }
            },
            "type": "scatterternary"
           }
          ],
          "surface": [
           {
            "colorbar": {
             "outlinewidth": 0,
             "ticks": ""
            },
            "colorscale": [
             [
              0,
              "#0d0887"
             ],
             [
              0.1111111111111111,
              "#46039f"
             ],
             [
              0.2222222222222222,
              "#7201a8"
             ],
             [
              0.3333333333333333,
              "#9c179e"
             ],
             [
              0.4444444444444444,
              "#bd3786"
             ],
             [
              0.5555555555555556,
              "#d8576b"
             ],
             [
              0.6666666666666666,
              "#ed7953"
             ],
             [
              0.7777777777777778,
              "#fb9f3a"
             ],
             [
              0.8888888888888888,
              "#fdca26"
             ],
             [
              1,
              "#f0f921"
             ]
            ],
            "type": "surface"
           }
          ],
          "table": [
           {
            "cells": {
             "fill": {
              "color": "#EBF0F8"
             },
             "line": {
              "color": "white"
             }
            },
            "header": {
             "fill": {
              "color": "#C8D4E3"
             },
             "line": {
              "color": "white"
             }
            },
            "type": "table"
           }
          ]
         },
         "layout": {
          "annotationdefaults": {
           "arrowcolor": "#2a3f5f",
           "arrowhead": 0,
           "arrowwidth": 1
          },
          "autotypenumbers": "strict",
          "coloraxis": {
           "colorbar": {
            "outlinewidth": 0,
            "ticks": ""
           }
          },
          "colorscale": {
           "diverging": [
            [
             0,
             "#8e0152"
            ],
            [
             0.1,
             "#c51b7d"
            ],
            [
             0.2,
             "#de77ae"
            ],
            [
             0.3,
             "#f1b6da"
            ],
            [
             0.4,
             "#fde0ef"
            ],
            [
             0.5,
             "#f7f7f7"
            ],
            [
             0.6,
             "#e6f5d0"
            ],
            [
             0.7,
             "#b8e186"
            ],
            [
             0.8,
             "#7fbc41"
            ],
            [
             0.9,
             "#4d9221"
            ],
            [
             1,
             "#276419"
            ]
           ],
           "sequential": [
            [
             0,
             "#0d0887"
            ],
            [
             0.1111111111111111,
             "#46039f"
            ],
            [
             0.2222222222222222,
             "#7201a8"
            ],
            [
             0.3333333333333333,
             "#9c179e"
            ],
            [
             0.4444444444444444,
             "#bd3786"
            ],
            [
             0.5555555555555556,
             "#d8576b"
            ],
            [
             0.6666666666666666,
             "#ed7953"
            ],
            [
             0.7777777777777778,
             "#fb9f3a"
            ],
            [
             0.8888888888888888,
             "#fdca26"
            ],
            [
             1,
             "#f0f921"
            ]
           ],
           "sequentialminus": [
            [
             0,
             "#0d0887"
            ],
            [
             0.1111111111111111,
             "#46039f"
            ],
            [
             0.2222222222222222,
             "#7201a8"
            ],
            [
             0.3333333333333333,
             "#9c179e"
            ],
            [
             0.4444444444444444,
             "#bd3786"
            ],
            [
             0.5555555555555556,
             "#d8576b"
            ],
            [
             0.6666666666666666,
             "#ed7953"
            ],
            [
             0.7777777777777778,
             "#fb9f3a"
            ],
            [
             0.8888888888888888,
             "#fdca26"
            ],
            [
             1,
             "#f0f921"
            ]
           ]
          },
          "colorway": [
           "#636efa",
           "#EF553B",
           "#00cc96",
           "#ab63fa",
           "#FFA15A",
           "#19d3f3",
           "#FF6692",
           "#B6E880",
           "#FF97FF",
           "#FECB52"
          ],
          "font": {
           "color": "#2a3f5f"
          },
          "geo": {
           "bgcolor": "white",
           "lakecolor": "white",
           "landcolor": "#E5ECF6",
           "showlakes": true,
           "showland": true,
           "subunitcolor": "white"
          },
          "hoverlabel": {
           "align": "left"
          },
          "hovermode": "closest",
          "mapbox": {
           "style": "light"
          },
          "paper_bgcolor": "white",
          "plot_bgcolor": "#E5ECF6",
          "polar": {
           "angularaxis": {
            "gridcolor": "white",
            "linecolor": "white",
            "ticks": ""
           },
           "bgcolor": "#E5ECF6",
           "radialaxis": {
            "gridcolor": "white",
            "linecolor": "white",
            "ticks": ""
           }
          },
          "scene": {
           "xaxis": {
            "backgroundcolor": "#E5ECF6",
            "gridcolor": "white",
            "gridwidth": 2,
            "linecolor": "white",
            "showbackground": true,
            "ticks": "",
            "zerolinecolor": "white"
           },
           "yaxis": {
            "backgroundcolor": "#E5ECF6",
            "gridcolor": "white",
            "gridwidth": 2,
            "linecolor": "white",
            "showbackground": true,
            "ticks": "",
            "zerolinecolor": "white"
           },
           "zaxis": {
            "backgroundcolor": "#E5ECF6",
            "gridcolor": "white",
            "gridwidth": 2,
            "linecolor": "white",
            "showbackground": true,
            "ticks": "",
            "zerolinecolor": "white"
           }
          },
          "shapedefaults": {
           "line": {
            "color": "#2a3f5f"
           }
          },
          "ternary": {
           "aaxis": {
            "gridcolor": "white",
            "linecolor": "white",
            "ticks": ""
           },
           "baxis": {
            "gridcolor": "white",
            "linecolor": "white",
            "ticks": ""
           },
           "bgcolor": "#E5ECF6",
           "caxis": {
            "gridcolor": "white",
            "linecolor": "white",
            "ticks": ""
           }
          },
          "title": {
           "x": 0.05
          },
          "xaxis": {
           "automargin": true,
           "gridcolor": "white",
           "linecolor": "white",
           "ticks": "",
           "title": {
            "standoff": 15
           },
           "zerolinecolor": "white",
           "zerolinewidth": 2
          },
          "yaxis": {
           "automargin": true,
           "gridcolor": "white",
           "linecolor": "white",
           "ticks": "",
           "title": {
            "standoff": 15
           },
           "zerolinecolor": "white",
           "zerolinewidth": 2
          }
         }
        },
        "width": 800
       }
      },
      "text/html": [
       "<div>                            <div id=\"f3a05a56-92c2-46bd-8c48-ed6a0eae17e0\" class=\"plotly-graph-div\" style=\"height:525px; width:800px;\"></div>            <script type=\"text/javascript\">                require([\"plotly\"], function(Plotly) {                    window.PLOTLYENV=window.PLOTLYENV || {};                                    if (document.getElementById(\"f3a05a56-92c2-46bd-8c48-ed6a0eae17e0\")) {                    Plotly.newPlot(                        \"f3a05a56-92c2-46bd-8c48-ed6a0eae17e0\",                        [{\"customdata\":[[\"Scrypt\"],[\"Scrypt\"],[\"X13\"],[\"X11\"],[\"SHA-512\"],[\"SHA-256\"],[\"SHA-256\"],[\"X15\"],[\"Scrypt\"],[\"Scrypt\"],[\"Scrypt\"],[\"Scrypt\"],[\"Scrypt\"],[\"Scrypt\"],[\"Groestl\"],[\"PoS\"],[\"Scrypt\"],[\"Scrypt\"],[\"X11\"],[\"X11\"],[\"SHA3\"],[\"Scrypt\"],[\"SHA-256\"],[\"Scrypt\"],[\"X13\"],[\"X13\"],[\"NeoScrypt\"],[\"Scrypt\"],[\"Scrypt\"],[\"Scrypt\"],[\"X11\"],[\"X11\"],[\"Multiple\"],[\"PHI1612\"],[\"X11\"],[\"Scrypt\"],[\"Scrypt\"],[\"Scrypt\"],[\"X11\"],[\"Multiple\"],[\"X13\"],[\"Scrypt\"],[\"Shabal256\"],[\"Counterparty\"],[\"SHA-256\"],[\"Groestl\"],[\"Scrypt\"],[\"X13\"],[\"Scrypt\"],[\"Scrypt\"],[\"X13\"],[\"X11\"],[\"Scrypt\"],[\"X11\"],[\"SHA3\"],[\"QUAIT\"],[\"X11\"],[\"Scrypt\"],[\"X13\"],[\"SHA-256\"],[\"X15\"],[\"BLAKE256\"],[\"SHA-256\"],[\"X11\"],[\"SHA-256\"],[\"NIST5\"],[\"Scrypt\"],[\"Scrypt\"],[\"X11\"],[\"Scrypt\"],[\"SHA-256\"],[\"Scrypt\"],[\"PoS\"],[\"X11\"],[\"SHA-256\"],[\"SHA-256\"],[\"NIST5\"],[\"X11\"],[\"POS 3.0\"],[\"Scrypt\"],[\"Scrypt\"],[\"Scrypt\"],[\"X13\"],[\"X11\"],[\"X11\"],[\"Scrypt\"],[\"SHA-256\"],[\"X11\"],[\"Scrypt\"],[\"Scrypt\"],[\"Scrypt\"],[\"Scrypt\"],[\"SHA-256D\"],[\"PoS\"],[\"Scrypt\"],[\"X11\"],[\"PoS\"],[\"X13\"],[\"X14\"],[\"PoS\"],[\"SHA-256D\"],[\"DPoS\"],[\"X11\"],[\"X13\"],[\"X11\"],[\"PoS\"],[\"Scrypt\"],[\"Scrypt\"],[\"PoS\"],[\"X11\"],[\"SHA-256\"],[\"Scrypt\"],[\"X11\"],[\"Scrypt\"],[\"Scrypt\"],[\"X11\"],[\"Scrypt\"],[\"Scrypt\"],[\"Scrypt\"],[\"Scrypt\"],[\"Quark\"],[\"QuBit\"],[\"Scrypt\"],[\"SHA-256\"],[\"X11\"],[\"Scrypt\"],[\"Scrypt\"],[\"Scrypt\"],[\"Scrypt\"],[\"X13\"],[\"Scrypt\"],[\"Scrypt\"],[\"X11\"],[\"Blake2S\"],[\"X11\"],[\"PoS\"],[\"X11\"],[\"PoS\"],[\"X11\"],[\"Scrypt\"],[\"Scrypt\"],[\"Scrypt\"],[\"SHA-256\"],[\"X11\"],[\"Scrypt\"],[\"PoS\"],[\"Scrypt\"],[\"X15\"],[\"SHA-256\"],[\"POS 3.0\"],[\"536\"],[\"NIST5\"],[\"NIST5\"],[\"Skein\"],[\"X13\"],[\"Scrypt\"],[\"X13\"],[\"SkunkHash v2 Raptor\"],[\"Skein\"],[\"X11\"],[\"Scrypt\"],[\"VeChainThor Authority\"],[\"PoS\"],[\"Scrypt\"],[\"Scrypt\"],[\"SHA-512\"],[\"Ouroboros\"],[\"X11\"],[\"NeoScrypt\"],[\"Scrypt\"],[\"Lyra2REv2\"],[\"Scrypt\"],[\"SHA-256\"],[\"NIST5\"],[\"PHI1612\"],[\"Scrypt\"],[\"Quark\"],[\"POS 2.0\"],[\"Scrypt\"],[\"SHA-256\"],[\"X11\"],[\"DPoS\"],[\"NIST5\"],[\"X13\"],[\"Scrypt\"],[\"NIST5\"],[\"Quark\"],[\"Scrypt\"],[\"Scrypt\"],[\"X11\"],[\"Quark\"],[\"Scrypt\"],[\"Scrypt\"],[\"X11\"],[\"POS 3.0\"],[\"Ethash\"],[\"Scrypt\"],[\"Scrypt\"],[\"X13\"],[\"C11\"],[\"Proof-of-Authority\"],[\"X11\"],[\"XEVAN\"],[\"Scrypt\"],[\"VBFT\"],[\"NIST5\"],[\"Scrypt\"],[\"Scrypt\"],[\"Scrypt\"],[\"Green Protocol\"],[\"PoS\"],[\"Scrypt\"],[\"Semux BFT consensus\"],[\"Quark\"],[\"PoS\"],[\"X16R\"],[\"Scrypt\"],[\"XEVAN\"],[\"Scrypt\"],[\"Scrypt\"],[\"Scrypt\"],[\"SHA-256D\"],[\"Scrypt\"],[\"X15\"],[\"Scrypt\"],[\"Quark\"],[\"SHA-256\"],[\"DPoS\"],[\"X16R\"],[\"Quark\"],[\"Quark\"],[\"Scrypt\"],[\"Lyra2REv2\"],[\"Quark\"],[\"Scrypt\"],[\"X11\"],[\"X11\"],[\"Scrypt\"],[\"PoS\"],[\"Keccak\"],[\"X11\"],[\"Scrypt\"],[\"SHA-512\"],[\"XEVAN\"],[\"XEVAN\"],[\"X11\"],[\"Quark\"],[\"Equihash\"],[\"Scrypt\"],[\"Quark\"],[\"Quark\"],[\"Scrypt\"],[\"X11\"],[\"Scrypt\"],[\"XEVAN\"],[\"SHA-256D\"],[\"X11\"],[\"X11\"],[\"DPoS\"],[\"Scrypt\"],[\"X11\"],[\"Scrypt\"],[\"Scrypt\"],[\"SHA-256\"],[\"Scrypt\"],[\"X11\"],[\"Scrypt\"],[\"SHA-256\"],[\"X11\"],[\"Scrypt\"],[\"Scrypt\"],[\"X11\"],[\"Scrypt\"],[\"PoS\"],[\"X11\"],[\"SHA-256\"],[\"DPoS\"],[\"Scrypt\"],[\"Scrypt\"],[\"NeoScrypt\"],[\"X13\"],[\"DPoS\"],[\"DPoS\"],[\"SHA-256\"],[\"PoS\"],[\"PoS\"],[\"SHA-256\"],[\"Scrypt\"],[\"Scrypt\"]],\"hovertemplate\":\"<b>%{hovertext}</b><br><br>Class=%{marker.color}<br>PC 1=%{x}<br>PC 2=%{y}<br>PC 3=%{z}<br>Algorithm=%{customdata[0]}<extra></extra>\",\"hovertext\":[\"42 Coin\",\"404Coin\",\"EliteCoin\",\"Dash\",\"Bitshares\",\"BitcoinDark\",\"PayCoin\",\"KoboCoin\",\"Aurora Coin\",\"BlueCoin\",\"EnergyCoin\",\"BitBar\",\"CryptoBullion\",\"CasinoCoin\",\"Diamond\",\"Exclusive Coin\",\"FlutterCoin\",\"HoboNickels\",\"HyperStake\",\"IOCoin\",\"MaxCoin\",\"MintCoin\",\"MazaCoin\",\"Nautilus Coin\",\"NavCoin\",\"OpalCoin\",\"Orbitcoin\",\"PotCoin\",\"PhoenixCoin\",\"Reddcoin\",\"SuperCoin\",\"SyncCoin\",\"TeslaCoin\",\"TittieCoin\",\"TorCoin\",\"UnitaryStatus Dollar\",\"UltraCoin\",\"VeriCoin\",\"X11 Coin\",\"Crypti\",\"StealthCoin\",\"ZCC Coin\",\"BurstCoin\",\"StorjCoin\",\"Neutron\",\"FairCoin\",\"RubyCoin\",\"Kore\",\"Dnotes\",\"8BIT Coin\",\"Sativa Coin\",\"Ucoin\",\"Vtorrent\",\"IslaCoin\",\"Nexus\",\"Droidz\",\"Squall Coin\",\"Diggits\",\"Paycon\",\"Emercoin\",\"EverGreenCoin\",\"Decred\",\"EDRCoin\",\"Hitcoin\",\"DubaiCoin\",\"PWR Coin\",\"BillaryCoin\",\"GPU Coin\",\"EuropeCoin\",\"ZeitCoin\",\"SwingCoin\",\"SafeExchangeCoin\",\"Nebuchadnezzar\",\"Ratecoin\",\"Revenu\",\"Clockcoin\",\"VIP Tokens\",\"BitSend\",\"Let it Ride\",\"PutinCoin\",\"iBankCoin\",\"Frankywillcoin\",\"MudraCoin\",\"Lutetium Coin\",\"GoldBlocks\",\"CarterCoin\",\"BitTokens\",\"MustangCoin\",\"ZoneCoin\",\"RootCoin\",\"BitCurrency\",\"Swiscoin\",\"BuzzCoin\",\"Opair\",\"PesoBit\",\"Halloween Coin\",\"CoffeeCoin\",\"RoyalCoin\",\"GanjaCoin V2\",\"TeamUP\",\"LanaCoin\",\"ARK\",\"InsaneCoin\",\"EmberCoin\",\"XenixCoin\",\"FreeCoin\",\"PLNCoin\",\"AquariusCoin\",\"Creatio\",\"Eternity\",\"Eurocoin\",\"BitcoinFast\",\"Stakenet\",\"BitConnect Coin\",\"MoneyCoin\",\"Enigma\",\"Russiacoin\",\"PandaCoin\",\"GameUnits\",\"GAKHcoin\",\"Allsafe\",\"LiteCreed\",\"Klingon Empire Darsek\",\"Internet of People\",\"KushCoin\",\"Printerium\",\"Impeach\",\"Zilbercoin\",\"FirstCoin\",\"FindCoin\",\"OpenChat\",\"RenosCoin\",\"VirtacoinPlus\",\"TajCoin\",\"Impact\",\"Atmos\",\"HappyCoin\",\"MacronCoin\",\"Condensate\",\"Independent Money System\",\"ArgusCoin\",\"LomoCoin\",\"ProCurrency\",\"GoldReserve\",\"GrowthCoin\",\"Phreak\",\"Degas Coin\",\"HTML5 Coin\",\"Ultimate Secure Cash\",\"QTUM\",\"Espers\",\"Denarius\",\"Virta Unique Coin\",\"Bitcoin Planet\",\"BritCoin\",\"Linda\",\"DeepOnion\",\"Signatum\",\"Cream\",\"Monoeci\",\"Draftcoin\",\"Vechain\",\"Stakecoin\",\"CoinonatX\",\"Ethereum Dark\",\"Obsidian\",\"Cardano\",\"Regalcoin\",\"TrezarCoin\",\"TerraNovaCoin\",\"Rupee\",\"WomenCoin\",\"Theresa May Coin\",\"NamoCoin\",\"LUXCoin\",\"Xios\",\"Bitcloud 2.0\",\"KekCoin\",\"BlackholeCoin\",\"Infinity Economics\",\"Magnet\",\"Lamden Tau\",\"Electra\",\"Bitcoin Diamond\",\"Cash & Back Coin\",\"Bulwark\",\"Kalkulus\",\"GermanCoin\",\"LiteCoin Ultra\",\"PhantomX\",\"Digiwage\",\"Trollcoin\",\"Litecoin Plus\",\"Monkey Project\",\"TokenPay\",\"1717 Masonic Commemorative Token\",\"My Big Coin\",\"Unified Society USDEX\",\"Tokyo Coin\",\"Stipend\",\"Poa Network\",\"Pushi\",\"Ellerium\",\"Velox\",\"Ontology\",\"Bitspace\",\"Briacoin\",\"Ignition\",\"MedicCoin\",\"Bitcoin Green\",\"Deviant Coin\",\"Abjcoin\",\"Semux\",\"Carebit\",\"Zealium\",\"Proton\",\"iDealCash\",\"Bitcoin Incognito\",\"HollyWoodCoin\",\"Swisscoin\",\"Xt3ch\",\"TheVig\",\"EmaratCoin\",\"Dekado\",\"Lynx\",\"Poseidon Quark\",\"BitcoinWSpectrum\",\"Muse\",\"Trivechain\",\"Dystem\",\"Giant\",\"Peony Coin\",\"Absolute Coin\",\"Vitae\",\"TPCash\",\"ARENON\",\"EUNO\",\"MMOCoin\",\"Ketan\",\"XDNA\",\"PAXEX\",\"ThunderStake\",\"Kcash\",\"Bettex coin\",\"BitMoney\",\"Junson Ming Chan Coin\",\"HerbCoin\",\"PirateCash\",\"Oduwa\",\"Galilel\",\"Crypto Sports\",\"Credit\",\"Dash Platinum\",\"Nasdacoin\",\"Beetle Coin\",\"Titan Coin\",\"Award\",\"Insane Coin\",\"ALAX\",\"LiteDoge\",\"TruckCoin\",\"OrangeCoin\",\"BitstarCoin\",\"NeosCoin\",\"HyperCoin\",\"PinkCoin\",\"AudioCoin\",\"IncaKoin\",\"Piggy Coin\",\"Genstake\",\"XiaoMiCoin\",\"CapriCoin\",\" ClubCoin\",\"Radium\",\"Creditbit \",\"OKCash\",\"Lisk\",\"HiCoin\",\"WhiteCoin\",\"FriendshipCoin\",\"Triangles Coin\",\"EOS\",\"Oxycoin\",\"TigerCash\",\"Particl\",\"Nxt\",\"ZEPHYR\",\"Gapcoin\",\"BitcoinPlus\"],\"legendgroup\":\"0\",\"marker\":{\"color\":[0,0,0,0,0,0,0,0,0,0,0,0,0,0,0,0,0,0,0,0,0,0,0,0,0,0,0,0,0,0,0,0,0,0,0,0,0,0,0,0,0,0,0,0,0,0,0,0,0,0,0,0,0,0,0,0,0,0,0,0,0,0,0,0,0,0,0,0,0,0,0,0,0,0,0,0,0,0,0,0,0,0,0,0,0,0,0,0,0,0,0,0,0,0,0,0,0,0,0,0,0,0,0,0,0,0,0,0,0,0,0,0,0,0,0,0,0,0,0,0,0,0,0,0,0,0,0,0,0,0,0,0,0,0,0,0,0,0,0,0,0,0,0,0,0,0,0,0,0,0,0,0,0,0,0,0,0,0,0,0,0,0,0,0,0,0,0,0,0,0,0,0,0,0,0,0,0,0,0,0,0,0,0,0,0,0,0,0,0,0,0,0,0,0,0,0,0,0,0,0,0,0,0,0,0,0,0,0,0,0,0,0,0,0,0,0,0,0,0,0,0,0,0,0,0,0,0,0,0,0,0,0,0,0,0,0,0,0,0,0,0,0,0,0,0,0,0,0,0,0,0,0,0,0,0,0,0,0,0,0,0,0,0,0,0,0,0,0,0,0,0,0,0,0,0,0,0,0,0,0,0,0,0,0,0,0,0,0,0],\"coloraxis\":\"coloraxis\",\"symbol\":\"circle\"},\"mode\":\"markers\",\"name\":\"0\",\"scene\":\"scene\",\"showlegend\":true,\"x\":[-0.3232558629389391,-0.30665371479019254,2.3346618894880415,-0.36244944258387995,-0.35632834350606735,-0.28491971256407844,-0.2959498699597103,-0.21399353638779353,-0.32291658607655416,-0.315524494437613,-0.32175852635737046,-0.3232518086061839,-0.32323614641168963,0.6014188960781791,-0.3275357698148609,-0.44139206891049687,-0.34006643312378965,-0.32132083388919797,-0.3533851868601008,-0.3623445654106663,-0.6063023709699663,-0.07526030751859318,-0.24834132170567239,-0.33403775963213017,-0.24318807950417243,-0.2438077670817767,-0.32152948918725105,-0.31757535672291654,-0.32166271706328653,0.03343433361668815,-0.37319120777827225,-0.3627149381871099,-0.289651526298468,-0.3475732674937523,-0.3626267965707703,-0.298566010490705,-0.3219372257073337,-0.2952158403575589,-0.3625914792789413,-0.29011876322699537,-0.24358951850321411,-0.3143810972388293,-0.11925834309476599,-0.4246496928594811,-0.28413398056992684,-0.3269597377772713,-0.33401832454099734,-0.24388268111684125,-0.328687055050331,-0.32323800414050907,-0.2438350881973731,-0.3736339709456847,-0.3229731834406548,-0.3626965419483847,-0.9389536719686529,-0.3671537733041209,-0.20510344463552704,-0.3324249460853505,-0.24335810661187746,-0.2774929750809595,-0.21642959946623092,-0.03631423622730541,-0.2848907443826892,-0.04110170857661973,-0.2849543409273639,-0.18323578040397076,-0.3228492601979616,-0.3322928354219815,-0.35987186550563155,0.8158285588289569,-0.2847548030376496,-0.1269162077162405,-0.44107634751488906,-0.36054723452546117,-0.28350089338444673,-0.28117436596496515,-0.3041013740390689,-0.3614349236062993,-0.4421293805556821,-0.29921449502183073,-0.322887170994277,-0.3213317244643535,-0.2536097377615216,-0.3611665861156054,-0.3621718833330697,-0.322093986042241,-0.28493522387578174,-0.362685735556784,-0.3230758915011123,-0.32323226060864024,-0.3322855345090812,-0.27162300124657396,0.09039285219947389,-0.4400369009660733,-0.32284798113373553,-0.3488833516544378,-0.4393687343552609,-0.2550372942962071,-0.3591498425266326,-0.439115057523699,-0.2230324512429045,3.727595152892532,-0.3622795538500525,0.8837550953340692,-0.3626408162078986,-0.4404991057300713,-0.3227752931123249,-0.3229289456168901,-0.44107634751488906,-0.36221666277395925,-0.2847984672768152,-0.32277610309496785,-0.37587003431657817,-0.3229229660379188,-0.31852021261973507,-0.36266967661403277,-0.3221352531827674,0.3070790710137163,-0.32312164335579635,-0.3231920633483967,-0.4027505293882051,-0.3202513940107217,-0.3194272055510326,-0.2849117331570658,-0.3625799324483661,-0.322970543071716,-0.3230969547933918,-0.3339244479821808,-0.3322076297669256,-0.2548059217910718,-0.3040144709198334,-0.33366691411110244,-0.3618473919150189,-0.3511210402257087,-0.36059073627673777,-0.43932875042494,-0.36174569096518633,-0.43374732368163166,-0.3576975588831589,-0.3230404812072738,-0.3230395716566935,-0.3161756496617887,0.23559890354043903,-0.36222306565384055,-0.31660983380502505,-0.4411103635898923,-0.32225320236384325,0.9146004402651594,-0.2946429778749519,-0.44091175697013657,0.6460619529168683,-0.30563191312459015,-0.30413868033305647,-0.3651746780975848,-0.2435211801740476,0.14050270689143807,-0.24359182018958653,-0.4160838320682687,-0.3646815700959842,-0.36249477039167993,-0.333998872587484,5.039838332893646,-0.440976740133563,-0.3226767795105476,-0.3231750498972035,-0.41420597156534794,0.5655620049491079,-0.36243559450873514,-0.31654348322848375,-0.32313068447592724,-0.3517516756863692,0.4432165134173463,-0.28326360607551765,-0.29044393240898714,-0.3719643116068074,-0.3230811511896255,-0.3901028906405196,-0.42598520898421477,-0.3229521621755165,-0.12301171165365468,-0.3612315124710841,3.7324367021893963,0.2520104166496993,-0.24027350451261628,-0.32042001035160966,-0.3164893809925995,-0.4026368259961324,0.09021017138172611,-0.322092303101898,-0.3618116065438521,-0.40180355582176014,-0.3096980174949743,-0.3231970944842189,-0.37360600027214036,-0.44241027282977435,-0.3183595809520091,-0.3158654656686476,-0.3187572293486021,-0.24662398835619825,-0.34299516492990756,-0.5193360264701036,-0.36251172979965013,-0.13507772066707832,-0.3331607761330704,-0.395839039308474,-0.3052319417608596,-0.32322435225856655,-0.3232061095230075,-0.32755973918159825,-0.41447762734081417,-0.44057247371940317,-0.32292342116871897,3.949149929065104,-0.38877631779908295,-0.440760489412707,-0.3409682402041245,-0.26993775956308186,0.022381479842379003,-0.33369420206986194,-0.12699365690918366,-0.3339449874160001,-0.288186000400817,-0.32239883195604774,-0.2268683388960514,2.1962541066327868,-0.39835337954198985,-0.29477157744216503,0.9878305428172464,-0.32921373818510086,-0.4027498837812749,-0.39178292939342435,-0.21492508486391815,-0.3405866341837718,-0.4014735059402707,-0.31611598381019507,-0.3731846468448877,-0.3619868526961349,-0.33119862019470947,-0.43986212231874156,-0.2791452139667004,-0.3730459590330856,-0.18302477617310167,-0.4243752259559841,-0.146164200886512,1.0020472773801952,-0.16441052377879636,-0.39107973655108297,-0.29073370136787613,-0.3229275046868322,-0.3915344939001572,-0.40286649269844715,0.5809535956285468,-0.37366011321695425,-0.32241164178939397,-0.12954967210233273,-0.24302091736572123,-0.35955620275189437,-0.36221344732108907,3.7446357562676638,0.11072762052575463,-0.3597634967989194,-0.32179800022415433,-0.32262168881976544,-0.29598224847915117,-0.3231386784097938,-0.35386866531841177,-0.23704466398102808,-0.06546959904130367,-0.3496272732689593,-0.32241971604787795,-0.31550678692569134,-0.358793487843253,-0.3208632083194999,-0.44135101409781785,-0.4025333801911241,-0.2834396383832782,3.727985866259373,-0.14186967560321953,-0.3180674067918245,-0.3211560754171091,-0.24398961676769454,3.7378115964161114,3.739050683165149,-0.2769428541499383,-0.4412871459684267,-0.49438307919269825,2.4802116548580257,-0.32130566117748305,-0.334340449849387],\"y\":[1.0199080637300848,1.0200804296700356,1.634619651597357,1.2460721823277952,1.7087038549695535,0.8291530120854281,0.6386769410717575,1.8688256264477066,1.01990738275133,1.0201649327225373,1.0199578116531915,1.0199078420448229,1.0199080059921855,0.41309672958684057,0.9415395608993459,1.6147032095808989,0.19379129477571952,1.0198868134861905,1.056272643664611,1.246075666793795,2.086046682569674,0.8380311572816408,0.8286594943588039,0.8294219354262565,1.772916155843324,1.7728955671849103,0.5061231431455279,1.0197974037430684,1.0198911370373842,1.0317588299875073,1.055614603365033,1.2460790430863256,0.15280674288923993,1.7022782936281908,1.246074843890959,1.0195878300809167,1.0198805910224984,0.362415903088555,1.246079225038189,0.152862502767975,1.772902818331449,1.019490086464906,0.7644256850213997,1.5165743837440937,0.82914632704616,0.9415618213512728,0.8294341148094031,1.7728845242045286,0.8292548248799866,1.0199086571053064,1.7728875311134018,1.0555856361928635,1.0199031988803362,1.2460796550004962,2.389103280095632,1.9433289720815812,0.7412289698323893,0.8294157701445033,1.772874865080339,0.8287026074959681,1.8689754361089645,0.933930164175682,0.8291539745316879,1.2378386405502677,0.829160059183789,1.5585665531559807,1.0198916337726922,0.8293338688968427,1.2458997742174855,0.7970662784045346,0.8291456600556598,0.4158809281060901,1.6146994424936498,1.246097601531107,0.8290570675354949,0.8289188925443117,1.5544867286609012,1.2460224872964614,1.5300063838193947,1.019281150753837,1.0198887109337968,1.0199007083505052,1.5823109628744436,1.0555457800181884,1.2460614446534697,1.0198825111248608,0.8291532095684228,1.2460778755304769,1.0198990736467146,1.019908847929877,0.8294916854681648,0.3457501713361913,1.9134406054366042,1.6146954842533445,1.0199216153293373,1.2454693357967337,1.6147419200467155,1.5824043181517082,1.966868470163744,1.614564298320736,1.9119334407926487,1.8925283404381954,1.2460721240762689,1.8097520942653282,1.2460787596613976,1.6146972358788496,1.0198965576823775,1.019888986283973,1.6146994424936498,1.2460528285421013,0.8291584660393876,1.0199004798759785,0.7382682525959664,1.019899164637929,1.0196015892584127,1.2460769834073373,1.0198426469768112,0.8275563349059017,1.0199032562536308,1.0199078198442053,1.5545865833812742,0.571330148617014,1.0196788506621766,0.8291539900300634,1.2460768614078028,1.0199032866046285,1.0198977085222878,0.8293980278753721,0.3274745984339333,1.5824034336869865,1.0198345099064816,0.8294212498077072,1.246036583900338,1.8827595343700423,1.2460712070005664,1.6146931432323715,1.2460399628386805,1.614672066638351,1.2458893251019787,1.0199000989201386,1.0198948628021907,1.0194304637966833,0.6028835553987884,1.2460668725067503,0.8285868293969986,1.6146911839870985,1.0198665287594364,1.8424166832169955,0.638586645046681,1.5299994349437565,1.9837486855073387,1.5544929044215243,1.5544641041437088,1.9294355610626244,1.7728837037782088,0.9996743580624483,1.7728892705742483,1.4660935060847113,1.929451944208862,1.2460795815968344,0.8294223535614841,1.6610758302545483,1.6146730979729085,1.0198929076720866,1.0199077548071027,1.7092823805232518,1.5853662328523974,1.2460690782458905,0.5060063529572552,1.0199010074543224,0.6262238299097771,1.0275526683739669,0.8291524338778435,1.5541492403872768,1.8931810434263545,1.0198988988974793,1.7449912915050698,1.5275914619578552,1.019907612394349,0.6380160800602936,1.2460256813060995,1.8924218842672218,1.5516422406663553,1.7728632951240948,1.0198525875475233,1.364003170291263,1.5545867969179323,0.9980034260125401,1.019839796952602,1.2460734145815684,1.5545431982212823,1.0197169617807098,1.0199071649590667,1.0555858526628894,1.5300031104783263,-0.09572251817827863,0.253115224026192,1.0198921498432978,1.5821153583306127,0.8606200673755101,3.096785639847989,1.2460679743770886,1.3637491123415806,0.8293742147043079,1.5201782331780525,1.5544776797811763,1.0199069721745857,1.019906152606336,0.8292922791104475,1.6555397707421189,1.6146677105604492,1.0198977238469902,2.0202751413121405,1.7450353659001039,1.6146671665572423,0.6174882695535016,1.0180284130873465,0.8589217791082189,0.8294263498329639,1.0191578147009064,0.8294051866505373,1.915048016996357,1.0198766598550002,1.67846683358546,0.3017048819820797,1.5542800253270432,0.638653529011478,1.701283767050514,0.8079684138117845,1.5545823278224136,1.7450743686119996,0.8213582479757966,0.8166908384866938,1.5545684205784416,1.0194324461501818,1.0555756154343534,1.2460675921586284,0.8293424603446996,1.6146043456139312,0.9478266678657068,1.0555481456686244,1.011736111207271,2.064746212272313,1.1732715264614102,0.8347594771212472,1.0625511861553198,1.7450629104045796,-0.06414292553959125,1.0199040036881464,1.7450727249861213,1.5545838925073139,0.9966297084263683,1.055584981485797,1.0198762342578236,1.3636191303370986,1.9130557028414226,1.2458845998254504,1.2460743204164784,1.8924707713677165,1.009377624659931,1.2461771032419575,1.0198139332076936,1.0198904580744368,0.6386698062239394,1.0199119571287623,1.246016537240086,1.0152876014895698,0.8363243224855623,1.24580103694409,1.0199251515963002,1.0198803871301132,1.2460610614334569,1.019873504363913,1.6146981580834803,0.8121442814632016,0.8291430211615815,1.8925164305490032,0.8286834644861608,1.0198665959192537,0.506095346980849,1.7728894398243076,1.8929568785154922,1.892998046250238,0.6386045106778799,1.6147005408522621,1.7921062432042578,0.8297902307397619,1.019794649067061,0.8294226996010733],\"z\":[-0.5931630136834284,-0.593435284144373,-0.5654895215771294,-0.39596024392914425,0.15099790372860322,-0.33275741548713184,-0.045804573400097234,-0.6435616545409517,-0.5931681297631618,-0.5933086265429889,-0.5931912145745424,-0.5931630520620734,-0.5931633090603874,-0.4794753076760653,-0.4277148946580985,-0.07987439320281453,-0.6597590485467403,-0.5931903419322271,-0.10938681029949374,-0.3959622191893802,-0.5761466894938959,-0.3110879489573018,-0.3332642237086365,-0.3062128964924514,-0.5408042513622464,-0.5407925801454091,-0.2676635289063679,-0.593238093983374,-0.5931855741884071,-0.599880928936681,-0.10901378303030038,-0.3959569147954562,0.11397574418888375,-0.1960076487981788,-0.39595781525385554,-0.5935064744431053,-0.5931802521473504,-0.3753107697429613,-0.39595882227681783,0.11397694734745155,-0.5407966906465339,-0.5932541933487938,-0.4269013124421233,-0.22521752016209304,-0.33276871946325187,-0.42772607640474997,-0.3062144916954646,-0.5407902575962239,-0.30627691701783405,-0.5931633500398358,-0.5407913058988343,-0.10900392465428442,-0.5931668183223562,-0.39595726134680764,-0.4173958624130275,-0.6731103465119531,-0.12732772965816483,-0.3062369046417187,-0.5407972506671485,-0.3328229942322604,-0.6435403646320724,-0.38509859139364994,-0.33275796107484196,-0.39999723958017247,-0.3327576369270859,-0.4613700044475131,-0.593167481001441,-0.3062301966950133,-0.39598128969595625,-0.32034991726203066,-0.3327591539751774,-0.4686333986938712,-0.07987882015076349,-0.39599204387746634,-0.33276888890370493,-0.332789743580088,-0.4590867806430678,-0.3959704631607844,-0.05766412379526851,-0.5934638736731549,-0.5931665897296337,-0.5931916561782811,-0.2538469544776765,-0.10919034420211472,-0.3959633443861599,-0.5931780593976481,-0.33275719931453746,-0.3959572369708259,-0.5931648079472882,-0.5931634582137095,-0.30624712712164953,-0.44172299236679213,-0.6361074521673721,-0.07989429485159816,-0.5931706957463632,-0.39610346747724995,-0.0799094620431156,-0.2538350714953206,-0.6799322717359675,-0.07989441215172916,-0.631153533269912,0.1423830218293441,-0.39596283587550984,-0.5619645645295229,-0.39595801815785714,-0.07988741290282761,-0.5931691369492347,-0.5931659802035605,-0.07987882015076349,-0.39596174132889506,-0.33275985096093286,-0.5931695425565803,0.009417168521872969,-0.5931671563748145,-0.5932027757747844,-0.39595738748954634,-0.5931731799002329,-0.3158188493503632,-0.5931645539991133,-0.5931639633964926,-0.1758888249666074,-0.3147385231170402,-0.593197138761724,-0.3327576417395298,-0.3959587469696376,-0.5931668680511538,-0.5931643403371091,-0.3062120815310868,-0.6937613995899591,-0.25383851567871735,-0.593449438740208,-0.3062184948657417,-0.3959656574697347,-0.48625008323923946,-0.39598856568485624,-0.07990487530276857,-0.3959675729088708,-0.07998798740321852,-0.39601342837537945,-0.5931654587515598,-0.5931649146398532,-0.5932203946876433,-0.050119132429985586,-0.39596314009635364,-0.3063904278483827,-0.07987741981109628,-0.5931739211924149,-0.6580071027157537,-0.04581493705794821,-0.05768200468875363,-0.6637803729705063,-0.45906403185612427,-0.45908379897578877,-0.6791214489899093,-0.5407956986936675,-0.5980990595181548,-0.5407952116394356,-0.10032635216209414,-0.6791307362027229,-0.39596033927101165,-0.3062135357638954,0.2967735102434854,-0.07987753589442519,-0.5931702545567686,-0.5931642166566891,0.1518213875174528,-0.07697905586393451,-0.3959601249043833,-0.26772733472052374,-0.5931641760725749,0.0005740922184848635,-0.6056995810038007,-0.3327826811507513,-0.45925968090845287,-0.48246425673711485,-0.5931647088861366,-0.46285879837249266,-0.0011225175612189534,-0.5931676101616988,-0.0483789343520827,-0.39597391437311935,0.14232032391672633,-0.4672884067996145,-0.5408431912914962,-0.5932004709554419,-0.17211237465588405,-0.1758905866202682,-0.5971518481999649,-0.5931735330156567,-0.3959701298514176,-0.17589868366139302,-0.5933499914289766,-0.5931638166617853,-0.10900437548692228,-0.057659479188453024,0.09414190164252298,-0.4393268381312447,-0.5932301165337361,-0.25393294353325,-0.44650950045307414,4.888378891343085,-0.3959588429056856,-0.5429035820605597,-0.3062212227622443,-0.170566677052009,-0.4590685262113117,-0.5931633792559154,-0.5931635709042637,-0.3062981489231101,0.012033108696981125,-0.07988314430455035,-0.5931669958669138,0.2613664521568918,-0.4628837830903452,-0.07988021095441708,-0.006522089389768924,-0.5937781043862793,-0.2742744913060401,-0.30621862106169984,-0.5960845493732395,-0.3062125303384274,-0.6304890479457081,-0.5931727737272311,-0.3565931003232853,-0.48598186116463826,-0.17592340137120524,-0.04582009828424013,0.013813240512382051,-0.29348644316729333,-0.17588838131813572,-0.46284195874979855,-0.3071751583763116,-0.2863798468888518,-0.17590641919156205,-0.5932215184363142,-0.10900972836047385,-0.3959668292594465,-0.30624784642897723,-0.07988725499385796,-0.3481423629800952,-0.10900892185251114,-0.5944367071630129,0.6061087077661109,-0.2559497171715405,-0.5298081269947351,-0.11294596550826584,-0.4628514917479729,0.15644527467868183,-0.5931676026695777,-0.46284558297702977,-0.17588676473749307,-0.6045105206838949,-0.10900345508025419,-0.5931725324663962,-0.5429742716052263,-0.6309674455688716,-0.3959845000518297,-0.3959640809281168,0.14212855050668766,-0.5986777941692644,-0.3960125024185528,-0.5931752775272402,-0.5931708360159392,-0.04580331785417033,-0.593165220744014,-0.39608554188653783,-0.5939890545837148,-0.3368777837423913,-0.39612744042024417,-0.5931776221858672,-0.593278572856554,-0.39601497026113397,-0.593195922148684,-0.07987448271876585,0.11533685028680567,-0.3327789859124223,0.1423783158007174,-0.30907307487825714,-0.5932379428527952,-0.2676662773410559,-0.5407891460661047,0.14218110898881456,0.14215777198699026,-0.046087533803912194,-0.07987571340692301,-0.009128244904388618,0.08222257118422442,-0.5931807518587411,-0.30620834880851383],\"type\":\"scatter3d\"},{\"customdata\":[[\"SHA-256\"],[\"Ethash\"],[\"Scrypt\"],[\"CryptoNight-V7\"],[\"Ethash\"],[\"Equihash\"],[\"Multiple\"],[\"Scrypt\"],[\"X11\"],[\"Scrypt\"],[\"Multiple\"],[\"Scrypt\"],[\"SHA-256\"],[\"Scrypt\"],[\"Scrypt\"],[\"Quark\"],[\"Groestl\"],[\"Scrypt\"],[\"Scrypt\"],[\"Scrypt\"],[\"X11\"],[\"Multiple\"],[\"SHA-256\"],[\"Scrypt\"],[\"Scrypt\"],[\"Scrypt\"],[\"Scrypt\"],[\"Scrypt\"],[\"NeoScrypt\"],[\"Scrypt\"],[\"Scrypt\"],[\"Scrypt\"],[\"Scrypt\"],[\"SHA-256\"],[\"Scrypt\"],[\"Scrypt\"],[\"Scrypt\"],[\"Scrypt\"],[\"HybridScryptHash256\"],[\"Scrypt\"],[\"Scrypt\"],[\"SHA-256\"],[\"Scrypt\"],[\"Scrypt\"],[\"Scrypt\"],[\"Scrypt\"],[\"SHA-256\"],[\"SHA-256\"],[\"SHA-256\"],[\"SHA-256\"],[\"SHA-256\"],[\"X11\"],[\"Scrypt\"],[\"Lyra2REv2\"],[\"Scrypt\"],[\"SHA-256\"],[\"CryptoNight\"],[\"CryptoNight\"],[\"Scrypt\"],[\"Scrypt\"],[\"Scrypt\"],[\"Scrypt\"],[\"Scrypt\"],[\"Scrypt\"],[\"Stanford Folding\"],[\"Multiple\"],[\"QuBit\"],[\"Scrypt\"],[\"Scrypt\"],[\"M7 POW\"],[\"Scrypt\"],[\"SHA-256\"],[\"Scrypt\"],[\"X11\"],[\"Lyra2RE\"],[\"SHA-256\"],[\"X11\"],[\"Scrypt\"],[\"Scrypt\"],[\"Ethash\"],[\"Blake2b\"],[\"X11\"],[\"SHA-256\"],[\"Scrypt\"],[\"1GB AES Pattern Search\"],[\"Scrypt\"],[\"SHA-256\"],[\"X11\"],[\"Dagger\"],[\"Scrypt\"],[\"X11GOST\"],[\"Scrypt\"],[\"X11\"],[\"Scrypt\"],[\"X11\"],[\"Equihash\"],[\"CryptoNight\"],[\"SHA-256\"],[\"Multiple\"],[\"Scrypt\"],[\"SHA-256\"],[\"Scrypt\"],[\"Lyra2Z\"],[\"Ethash\"],[\"Equihash\"],[\"Scrypt\"],[\"X11\"],[\"X11\"],[\"CryptoNight\"],[\"Scrypt\"],[\"CryptoNight\"],[\"Lyra2RE\"],[\"X11\"],[\"CryptoNight-V7\"],[\"Scrypt\"],[\"X11\"],[\"Equihash\"],[\"Scrypt\"],[\"Lyra2RE\"],[\"Dagger-Hashimoto\"],[\"Scrypt\"],[\"NIST5\"],[\"Scrypt\"],[\"SHA-256\"],[\"Scrypt\"],[\"CryptoNight-V7\"],[\"Argon2d\"],[\"Blake2b\"],[\"Cloverhash\"],[\"CryptoNight\"],[\"X11\"],[\"Scrypt\"],[\"Scrypt\"],[\"X11\"],[\"X11\"],[\"CryptoNight\"],[\"Time Travel\"],[\"Scrypt\"],[\"Keccak\"],[\"X11\"],[\"SHA-256\"],[\"Scrypt\"],[\"Scrypt\"],[\"Scrypt\"],[\"Scrypt\"],[\"Scrypt\"],[\"Scrypt\"],[\"CryptoNight\"],[\"Equihash\"],[\"X11\"],[\"NeoScrypt\"],[\"Equihash\"],[\"Dagger\"],[\"Scrypt\"],[\"X11\"],[\"NeoScrypt\"],[\"Ethash\"],[\"NeoScrypt\"],[\"Multiple\"],[\"CryptoNight\"],[\"CryptoNight\"],[\"Ethash\"],[\"X11\"],[\"CryptoNight-V7\"],[\"Scrypt\"],[\"BLAKE256\"],[\"X11\"],[\"NeoScrypt\"],[\"NeoScrypt\"],[\"Scrypt\"],[\"X11\"],[\"SHA-256\"],[\"C11\"],[\"CryptoNight\"],[\"SkunkHash\"],[\"CryptoNight\"],[\"Scrypt\"],[\"Dagger\"],[\"Lyra2REv2\"],[\"Scrypt\"],[\"Scrypt\"],[\"X11\"],[\"Ethash\"],[\"CryptoNight\"],[\"Scrypt\"],[\"IMesh\"],[\"Equihash\"],[\"Lyra2Z\"],[\"X11\"],[\"CryptoNight\"],[\"NIST5\"],[\"Lyra2RE\"],[\"Tribus\"],[\"Lyra2Z\"],[\"CryptoNight\"],[\"CryptoNight Heavy\"],[\"CryptoNight\"],[\"Jump Consistent Hash\"],[\"CryptoNight\"],[\"X16R\"],[\"HMQ1725\"],[\"X11\"],[\"Scrypt\"],[\"CryptoNight-V7\"],[\"Cryptonight-GPU\"],[\"XEVAN\"],[\"CryptoNight Heavy\"],[\"SHA-256\"],[\"X11\"],[\"X16R\"],[\"Equihash\"],[\"Lyra2Z\"],[\"SHA-256\"],[\"CryptoNight\"],[\"Blake\"],[\"Blake\"],[\"Exosis\"],[\"Scrypt\"],[\"Equihash\"],[\"Equihash\"],[\"QuBit\"],[\"SHA-256\"],[\"X13\"],[\"SHA-256\"],[\"Scrypt\"],[\"NeoScrypt\"],[\"Blake\"],[\"Scrypt\"],[\"SHA-256\"],[\"Scrypt\"],[\"Groestl\"],[\"Scrypt\"],[\"Scrypt\"],[\"Multiple\"],[\"Equihash+Scrypt\"],[\"Ethash\"],[\"CryptoNight\"],[\"Equihash\"]],\"hovertemplate\":\"<b>%{hovertext}</b><br><br>Class=%{marker.color}<br>PC 1=%{x}<br>PC 2=%{y}<br>PC 3=%{z}<br>Algorithm=%{customdata[0]}<extra></extra>\",\"hovertext\":[\"Bitcoin\",\"Ethereum\",\"Litecoin\",\"Monero\",\"Ethereum Classic\",\"ZCash\",\"DigiByte\",\"ProsperCoin\",\"Spreadcoin\",\"Argentum\",\"MyriadCoin\",\"MoonCoin\",\"ZetaCoin\",\"SexCoin\",\"Quatloo\",\"QuarkCoin\",\"Riecoin\",\"Digitalcoin \",\"Catcoin\",\"CannaCoin\",\"CryptCoin\",\"Verge\",\"DevCoin\",\"EarthCoin\",\"E-Gulden\",\"Einsteinium\",\"Emerald\",\"Franko\",\"FeatherCoin\",\"GrandCoin\",\"GlobalCoin\",\"GoldCoin\",\"Infinite Coin\",\"IXcoin\",\"KrugerCoin\",\"LuckyCoin\",\"Litebar \",\"MegaCoin\",\"MediterraneanCoin\",\"MinCoin\",\"NobleCoin\",\"Namecoin\",\"NyanCoin\",\"RonPaulCoin\",\"StableCoin\",\"SmartCoin\",\"SysCoin\",\"TigerCoin\",\"TerraCoin\",\"UnbreakableCoin\",\"Unobtanium\",\"UroCoin\",\"ViaCoin\",\"Vertcoin\",\"WorldCoin\",\"JouleCoin\",\"ByteCoin\",\"DigitalNote \",\"MonaCoin\",\"Gulden\",\"PesetaCoin\",\"Wild Beast Coin\",\"Flo\",\"ArtByte\",\"Folding Coin\",\"Unitus\",\"CypherPunkCoin\",\"OmniCron\",\"GreenCoin\",\"Cryptonite\",\"MasterCoin\",\"SoonCoin\",\"1Credit\",\"MarsCoin \",\"Crypto\",\"Anarchists Prime\",\"BowsCoin\",\"Song Coin\",\"BitZeny\",\"Expanse\",\"Siacoin\",\"MindCoin\",\"I0coin\",\"Revolution VR\",\"HOdlcoin\",\"Gamecredits\",\"CarpeDiemCoin\",\"Adzcoin\",\"SoilCoin\",\"YoCoin\",\"SibCoin\",\"Francs\",\"BolivarCoin\",\"Omni\",\"PizzaCoin\",\"Komodo\",\"Karbo\",\"ZayedCoin\",\"Circuits of Value\",\"DopeCoin\",\"DollarCoin\",\"Shilling\",\"ZCoin\",\"Elementrem\",\"ZClassic\",\"KiloCoin\",\"ArtexCoin\",\"Kurrent\",\"Cannabis Industry Coin\",\"OsmiumCoin\",\"Bikercoins\",\"HexxCoin\",\"PacCoin\",\"Citadel\",\"BeaverCoin\",\"VaultCoin\",\"Zero\",\"Canada eCoin\",\"Zoin\",\"DubaiCoin\",\"EB3coin\",\"Coinonat\",\"BenjiRolls\",\"ILCoin\",\"EquiTrader\",\"Quantum Resistant Ledger\",\"Dynamic\",\"Nano\",\"ChanCoin\",\"Dinastycoin\",\"DigitalPrice\",\"Unify\",\"SocialCoin\",\"ArcticCoin\",\"DAS\",\"LeviarCoin\",\"Bitcore\",\"gCn Coin\",\"SmartCash\",\"Onix\",\"Bitcoin Cash\",\"Sojourn Coin\",\"NewYorkCoin\",\"FrazCoin\",\"Kronecoin\",\"AdCoin\",\"Linx\",\"Sumokoin\",\"BitcoinZ\",\"Elements\",\"VIVO Coin\",\"Bitcoin Gold\",\"Pirl\",\"eBoost\",\"Pura\",\"Innova\",\"Ellaism\",\"GoByte\",\"SHIELD\",\"UltraNote\",\"BitCoal\",\"DaxxCoin\",\"AC3\",\"Lethean\",\"PopularCoin\",\"Photon\",\"Sucre\",\"SparksPay\",\"GunCoin\",\"IrishCoin\",\"Pioneer Coin\",\"UnitedBitcoin\",\"Interzone\",\"TurtleCoin\",\"MUNcoin\",\"Niobio Cash\",\"ShareChain\",\"Travelflex\",\"KREDS\",\"BitFlip\",\"LottoCoin\",\"Crypto Improvement Fund\",\"Callisto Network\",\"BitTube\",\"Poseidon\",\"Aidos Kuneen\",\"Bitrolium\",\"Alpenschillling\",\"FuturoCoin\",\"Monero Classic\",\"Jumpcoin\",\"Infinex\",\"KEYCO\",\"GINcoin\",\"PlatinCoin\",\"Loki\",\"Newton Coin\",\"MassGrid\",\"PluraCoin\",\"Motion\",\"PlusOneCoin\",\"Axe\",\"HexCoin\",\"Webchain\",\"Ryo\",\"Urals Coin\",\"Qwertycoin\",\"Project Pai\",\"Azart\",\"Xchange\",\"CrypticCoin\",\"Actinium\",\"Bitcoin SV\",\"FREDEnergy\",\"Universal Molecule\",\"Lithium\",\"Exosis\",\"Block-Logic\",\"Beam\",\"Bithereum\",\"SLICE\",\"BLAST\",\"Bitcoin Rhodium\",\"GlobalToken\",\"SolarCoin\",\"UFO Coin\",\"BlakeCoin\",\"Crypto Escudo\",\"Crown Coin\",\"SmileyCoin\",\"Groestlcoin\",\"Bata\",\"Pakcoin\",\"JoinCoin\",\"Vollar\",\"Reality Clash\",\"Beldex\",\"Horizen\"],\"legendgroup\":\"3\",\"marker\":{\"color\":[3,3,3,3,3,3,3,3,3,3,3,3,3,3,3,3,3,3,3,3,3,3,3,3,3,3,3,3,3,3,3,3,3,3,3,3,3,3,3,3,3,3,3,3,3,3,3,3,3,3,3,3,3,3,3,3,3,3,3,3,3,3,3,3,3,3,3,3,3,3,3,3,3,3,3,3,3,3,3,3,3,3,3,3,3,3,3,3,3,3,3,3,3,3,3,3,3,3,3,3,3,3,3,3,3,3,3,3,3,3,3,3,3,3,3,3,3,3,3,3,3,3,3,3,3,3,3,3,3,3,3,3,3,3,3,3,3,3,3,3,3,3,3,3,3,3,3,3,3,3,3,3,3,3,3,3,3,3,3,3,3,3,3,3,3,3,3,3,3,3,3,3,3,3,3,3,3,3,3,3,3,3,3,3,3,3,3,3,3,3,3,3,3,3,3,3,3,3,3,3,3,3,3,3,3,3,3,3,3,3,3,3,3,3,3,3,3,3,3,3,3,3,3,3,3,3,3,3,3,3,3,3,3,3,3,3,3,3],\"coloraxis\":\"coloraxis\",\"symbol\":\"diamond\"},\"mode\":\"markers\",\"name\":\"3\",\"scene\":\"scene\",\"showlegend\":true,\"x\":[-0.14077491622389804,-0.16203784259778312,-0.17794519402498268,-0.1535121303496247,-0.16048322014435282,-0.13635941242595773,0.1510463604178597,-0.17908769471540684,-0.21848838748317093,-0.17870518053144838,-0.10160314677186906,2.5371596594499994,-0.13786951999801933,-0.17596904499895025,-0.17850949873102423,-0.243036554125092,-0.18246043573098877,-0.1785587938149865,-0.1790700321497887,-0.17915624858572562,-0.21857739784077845,0.17463816870747365,0.23584159188936332,0.0687598128130974,-0.17890345597464274,-0.17452259324829184,-0.17884284130716147,-0.17921304846736205,-0.17273007755505107,-0.15849946765857562,-0.17801218964364832,-0.1782884887892886,1.5639120800155883,-0.14073644122318427,-0.17558611134081803,-0.17892980499135155,-0.17928344907406038,-0.17854511712311416,-0.13684044242822396,-0.1791650734078825,-0.04440592965013087,-0.14081373922049842,-0.17284995909230016,-0.17914444468357546,-0.17724327091317554,-0.17863283480207562,-0.12800550625965196,-0.14027930514224687,-0.1405654231454337,-0.14054794832016654,-0.14113738452617522,-0.21875084217365687,-0.1788620480165383,-0.1959539486598779,-0.1759735255989345,-0.14034635689010758,3.842944135783309,0.4531835632169844,-0.1777330609012187,-0.16237208848576992,-0.17645618634423238,-0.17928563172216166,-0.17632185799241387,-0.16258929688082158,-0.12815015054295575,-0.135500589462981,-0.1771499976215063,-0.1791592101372063,-0.05246990724786793,-0.14201232174871203,-0.1792945163766168,-0.14084140489833713,0.4715146390920035,-0.21814003717128433,-0.16945022561639758,-0.1405818593003858,-0.21842395561854921,-0.17742294026013194,-0.17661788192192296,-0.16310076792966477,0.38158513478322403,-0.21845927933560513,-0.14073755905554314,-0.17526574350244117,-0.1348218972416852,-0.17786249488620098,0.27636147079656376,-0.21762243572520262,-0.1678576312486184,-0.17810775293088865,-0.14495527601192945,-0.1790850046463171,-0.21842254576561274,-0.17929457467803717,-0.2185719130921727,-0.1787457705060945,0.29857391401323274,-0.14099675343167306,-0.11563662117433139,-0.17646992335921655,-0.14095553711881315,-0.1789589218587602,-0.15191757225818467,-0.16284383371850794,-0.13638094247277235,-0.10617672253866299,-0.2052026424086725,-0.21640598830740745,0.2985684532037279,-0.17927635693399838,0.2986986985234347,-0.1699892689277307,0.495181115363111,-0.152279240460854,-0.17924476275639079,-0.21132169253956043,-0.1363933229512284,-0.1773842020055447,-0.16970862995427982,-0.1562355222073991,-0.15023004069798512,-0.16133946840434135,-0.17880845543456111,-0.10742289189596158,-0.17863073067986807,-0.15213865814368954,-0.15689560545899647,-0.01710205435557322,-0.2134200907631726,0.33457251751000355,-0.21763057365743407,-0.17894943805699662,-0.17871299853779457,-0.21802421972379654,-0.2185999174234733,0.2989623085346369,-0.12236188230168303,3.2194538073851007,-0.07520417109415639,-0.20949379510507365,-0.1407740838049407,-0.10502216250203893,1.5606932358601866,-0.17904688176198663,-0.17849984468962135,-0.17820180160828297,-0.17818878513259948,0.29914566298138234,0.0753692746500261,-0.1731457429341412,-0.17740422704863634,-0.13623993836765982,-0.16661997075534601,-0.1773824183678905,-0.2141576888438683,-0.17725001167154897,-0.1612120981972909,-0.17734999643499075,-0.12576257179611586,1.1343160638860945,0.2985511744286932,-0.08626893329235649,-0.21389753171805165,-0.14128215117903017,-0.09570230703777008,1.1101411896413607,-0.21857400820280337,-0.177401878666235,-0.1704611314112868,-0.17830028745225193,-0.21849967151082036,-0.14075357567751584,-0.1990117558420726,8.019104766731518,-0.1729756351356068,0.30241449442560603,0.013107492276282847,-0.16612596575988417,-0.1815560424723329,-0.1788720358137424,0.1272229151713252,-0.21265755279768067,-0.11435345115448063,0.30645610376588384,-0.1791083559174916,-0.1515020947908315,-0.13523441080579648,-0.14970614572034185,-0.21767118206367345,0.2987330405043761,-0.16139906797405046,-0.16983490471468532,-0.1323828273081827,-0.1520017601855658,0.3026535027544171,0.5866836261420487,2.1024892582920347,-0.15027155841068898,0.31229683830585875,-0.18604247297930088,-0.14886715979280932,-0.21855622357712456,-0.17913282357075996,-0.14115212450389136,-0.14286796658262912,0.010107145532114644,3.1016431200426418,-0.1007346726680565,-0.21852764902514035,-0.18547141936791628,-0.03130469644814321,-0.15140091815806692,-0.1407741212192722,0.3782839156947868,-0.13312523258748582,-0.1335167855162643,-0.1768807464663665,-0.17802822193005274,-0.1343044998453783,-0.13607329292439424,-0.1763627611853177,-0.1400525804254589,-0.10001365586244103,-0.13892363390107587,0.5153418364144907,-0.10281344913938201,-0.08408496718118515,-0.16273927724882722,-0.14056479612886266,0.5343562468451831,-0.1820229111489069,-0.17920958957036073,-0.17717107520086373,-0.13623247998459823,-0.13034814177158854,-0.16287688263745514,0.32023997802270887,-0.13636046512228914],\"y\":[-1.326378799094638,-2.060732944793692,-1.1356456031279187,-2.2335971456079813,-2.060830988923529,-2.0291593299806845,-1.817654898169567,-1.1356386532717444,-0.909465020683384,-1.1356565964182286,-1.8125051291624472,-1.3191069424956436,-1.3263883361380686,-1.1356982776209583,-1.1356757570881124,-0.4104776697470994,-1.214018802596796,-1.1356404458026779,-1.1356380664461512,-1.1356353280416902,-0.9094665523166914,-1.813702527313471,-1.3288205568148246,-1.1370124043315033,-1.1356325320767466,-1.135685714134175,-1.1356383593821082,-1.1356358578047525,-1.6494915598399673,-1.1359523151644737,-1.135637849320577,-1.1356486299670507,-1.1422966447907026,-1.3263775207913882,-1.1356965474178078,-1.1356326946684319,-1.1356311498611789,-1.1356355960655298,-2.140396413005236,-1.1356333829386325,-1.141841504041295,-1.3263800889598014,-1.135656664939558,-1.1356405387471868,-1.1357406128283076,-1.1356450685000685,-1.3265725727081028,-1.3263808750208765,-1.3263868083734212,-1.3264133155069378,-1.3263760505124813,-0.9094594838495139,-1.1356325819977235,-1.3388479300687726,-1.1357094189681065,-1.3263816685645162,-2.299280243929452,-2.2875360558637876,-1.1356536102333339,-1.136265882596621,-1.135654859562329,-1.135632133380884,-1.1356458444399518,-1.1357883715345851,-2.0743975322779282,-1.8122056769028543,-1.5841808451120885,-1.1356284629943092,-1.1385452498018576,-2.2321405769589098,-1.135630996822579,-1.3263810081313505,-1.1795887051736227,-0.9094627138557342,-2.2221555871963528,-1.3263957373894264,-0.9094635928174296,-1.1357182398978123,-1.1357198347446704,-2.0607803111642635,-2.1281134841719536,-0.9094612022477391,-1.3263775579305364,-1.1356463975612068,-2.128371409810988,-1.135642855510604,-1.327920748169828,-0.9094818715067319,-2.2307242529336353,-1.1357111325667821,-2.3288767578641125,-1.1356378510614231,-0.9094663973152287,-1.1356309965997107,-0.9094713599334507,-1.3522531756639158,-2.2855516269175764,-1.326378140099772,-1.8124011130790072,-1.135679277192663,-1.3263774139078577,-1.1356407904024572,-2.2489172592792444,-2.0607784034682104,-2.029160045300463,-1.1403296187555871,-0.9093657723880071,-0.9095441041549881,-2.2855596495314674,-1.135631886740614,-2.2855581735668,-2.222133728097615,-0.9570231039082281,-2.2336880581932914,-1.1356312973349805,-0.9099254906621759,-2.0291576052935296,-1.1356383699421826,-2.2221322452599304,-2.2411258505072715,-1.1375162487842134,-0.6010619814417587,-1.1356397264006448,-1.3270378203321027,-1.1356598255555634,-2.2336263606682,-2.1417529084639484,-2.1416021343172207,-2.215509957603249,-2.2857741413259145,-0.9094935472399247,-1.1356328314403095,-1.13566469734823,-0.9094781124462807,-0.9094679420643612,-2.285570087529005,-2.2249183561533217,-1.1652766281839986,-1.2090224467386372,-0.9099360436086019,-1.3263787714381425,-1.1406476767470872,-1.077820757576402,-1.1356365844569734,-1.1356640309833208,-1.135665534080287,-1.1356651016175734,-2.2855888657267607,-2.0370793627971313,-0.9092273909808821,-1.6494265890305257,-2.029155360544047,-2.2307731684169863,-1.135638310682149,-0.9095563719221071,-1.6494342963654443,-2.060905103788675,-1.6494282088656973,-1.8123526094694364,-2.31836854400022,-2.285554164510288,-2.065343926974493,-0.9096902953509491,-2.2339032788400455,-1.1364174402064242,-1.2524414959031824,-0.9094677228010942,-1.6494222339985989,-1.6495330806971962,-1.1356431441471118,-0.9094675340911368,-1.3263774955666727,-1.294920427162511,-2.7418703871742354,-2.121089891652726,-2.285656410630386,-1.1363664895245313,-2.2307166180714675,-1.3390938104895844,-1.1356450320260807,-1.1385678771673986,-0.909613456235559,-2.0637820924476697,-2.2859954534618008,-1.1356393397248012,-2.19381639172806,-2.029156881543549,-2.2490423820481515,-0.9094948964239892,-2.2855523278705143,-0.6010445354197125,-2.222140204412463,-2.4092001669186036,-2.24891228646137,-2.2858366585073244,-2.232951703036789,-2.3567723534662672,-2.2017444595283266,-2.2858013994050914,-1.3475533493152834,-2.070915912824276,-0.9094679873218806,-1.1356409405142711,-2.234433954477728,-2.120756746156573,-0.791855781343273,-2.2807837525579817,-1.3265304753162586,-0.9094698892927776,-1.3475899236353064,-2.0310715400395605,-2.2489447172885346,-1.3263787726812064,-2.288655898116151,-2.214201746355269,-2.2141578061829508,-2.2521986190222703,-1.1356740237202732,-2.029263420489459,-2.0291568709578796,-1.5842259732454178,-1.3263854519209801,-0.3826501050350298,-1.3264220783301444,-1.1824808713192865,-1.6497804585409739,-2.217487330302494,-1.135793354520653,-1.326386787541262,-1.1475617788520571,-1.2140192356986346,-1.1356312977810974,-1.13568974141459,-1.8122319893579277,-2.176090418311609,-2.0607782771324863,-2.2858227870970795,-2.0291593649557385],\"z\":[0.1864396122608104,0.32636372007657594,-0.07398148674430303,0.44433378149927755,0.32635039353951545,0.3886975130496907,0.3424294662198742,-0.07396475483005611,0.12324016843955003,-0.0739686924922014,0.3457444840605728,-0.09595254217693858,0.18639619562945325,-0.07400609491805098,-0.07396964312273373,0.05628685145161503,0.09147073184864943,-0.07397265242150866,-0.07396508748741534,-0.07396406079242877,0.12324169292769019,0.34164745965065924,0.1809401363475888,-0.07760875084071138,-0.07396822478874332,-0.07402955480709907,-0.07396853075971124,-0.073963135678765,0.25147114846799035,-0.07424618868690758,-0.07398128849821256,-0.07397591406945667,-0.09991136837839669,0.186438887621341,-0.07401213561658478,-0.07396780449844557,-0.0739625607565554,-0.07397337842732571,0.5007704724612725,-0.0739641331248732,-0.07536343144832439,0.18644034345444213,-0.07405823067382834,-0.07396368599923221,-0.07398209610399936,-0.07397102744421011,0.18626497699579642,0.1864322539814556,0.1864372619885604,0.18643981965018908,0.18644486266559965,0.12324359216056932,-0.07396885273167808,0.23281046089688123,-0.07400483904331809,0.1864333639912111,0.37383795065408393,0.4244268778426385,-0.07398387762309769,-0.07415354625244325,-0.07400327206777224,-0.07396242256141403,-0.07400628714399621,-0.0742011135657042,0.40530578991856286,0.3462309736934204,0.2044722430783481,-0.07396474712002217,-0.0755913940998926,0.3430355365879374,-0.07396240781088156,0.1864408645107562,-0.0792307627888957,0.12323459518165554,0.30411428841023197,0.18643846493105506,0.12323903089560392,-0.0739817326921471,-0.07399387470145485,0.32638502359305555,0.39184167082948695,0.12323931634380904,0.18643890867463356,-0.0740223796413024,0.47256354166213266,-0.07398304430268644,0.18022456079891866,0.12322872102524386,0.3583746910624384,-0.07397201710684523,0.6024761400103315,-0.07396488146288427,0.123239308214289,-0.07396240694301352,0.12324212140357951,0.488375292148782,0.42657988113731776,0.18644293464701842,0.3459480166124307,-0.07400045975682838,0.18644222692333787,-0.07396649643062005,0.3876332346032399,0.32638089092240935,0.3886979185473209,-0.0745798781205966,0.12302640889494408,0.12321674980186528,0.42658081963412275,-0.07396259068811573,0.4265786704612605,0.304120202585152,0.11739417105596718,0.44432461528485273,-0.07396313668034182,0.12317963928037512,0.3886978478497682,-0.07399083699939744,0.30411575266902446,0.29848021090467197,-0.07420598428814562,0.060133196972208314,-0.07396891094673921,0.1859997837162986,-0.07396948693942271,0.44431589011466444,0.5552022735375441,0.3993764094237415,0.19222285444728707,0.4260530584908909,0.12323008978294779,-0.0739674896686619,-0.07396770959987108,0.12323446500727094,0.12324218543345203,0.42657590869267353,0.44267882358906013,-0.12278100082653359,0.17028057180194453,0.12315280939572554,0.1864395965830015,-0.0745636391555612,-0.10673344316470083,-0.07396559947057983,-0.07397104043488925,-0.07397543830077125,-0.07397568345351536,0.42657510582700847,0.3863035399458887,0.12252140653236314,0.25153570745344,0.3886952628712266,0.35836097618957663,-0.07399087059248947,0.12318367334662057,0.2515341703793659,0.3263694390117719,0.25153505071850885,0.3460977064026826,0.4172960034255959,0.4265804993353631,0.32569636562878923,0.1231939671336534,0.4441793702447161,-0.07515699349612165,0.12205648245094775,0.12324176582949013,0.25153520741607166,0.2514408738074535,-0.07397631826217657,0.1232406088672365,0.1864391469749425,0.07269092083348824,0.3571383575168292,0.21497574357618038,0.4265323130757812,-0.07682648106493038,0.35834739457424275,0.23261647370720245,-0.07396737316557878,-0.07833707356615703,0.12316681492985537,0.32595942247473003,0.42650663600441935,-0.07396436569627583,0.4886780047814858,0.38868004716186305,0.3876127491989352,0.12323085460304711,0.42657752227458734,0.06013224919324786,0.3041185320430537,0.32620202977926466,0.38763399215058125,0.42654786716977516,0.4340567108924284,0.4065822262738492,0.40151086829543275,0.4263966314121527,0.2257244022178685,0.45821841608934105,0.12324152203481828,-0.0739638209070721,0.44423393668792954,0.2429400405146285,-0.0237146718592476,0.4006922958499033,0.1858434303783842,0.12324128773264091,0.225719566726134,0.3872946702571703,0.38762825951769325,0.18643959728766435,0.4256916818288906,0.4697420231527312,0.46974332850100486,0.4079852107489352,-0.07397718814679786,0.38867717981305144,0.3886928752847092,0.20446501303820863,0.18642927438685972,-0.021588712081292594,0.18641591243924124,-0.07959280105626422,0.25043268298223426,0.4693421872088861,-0.07419828883037054,0.18643725017930932,-0.08360497874201625,0.09146408682333439,-0.07396367454583944,-0.0739886216628452,0.34624497085464023,0.4478636536224299,0.3263813828846535,0.42627743415108005,0.38869753287620784],\"type\":\"scatter3d\"},{\"customdata\":[[\"Proof-of-BibleHash\"],[\"SHA-256 + Hive\"],[\"ECC 256K1\"],[\"Leased POS\"]],\"hovertemplate\":\"<b>%{hovertext}</b><br><br>Class=%{marker.color}<br>PC 1=%{x}<br>PC 2=%{y}<br>PC 3=%{z}<br>Algorithm=%{customdata[0]}<extra></extra>\",\"hovertext\":[\"BiblePay\",\"LitecoinCash\",\"Acute Angle Cloud\",\"Waves\"],\"legendgroup\":\"1\",\"marker\":{\"color\":[1,1,1,1],\"coloraxis\":\"coloraxis\",\"symbol\":\"square\"},\"mode\":\"markers\",\"name\":\"1\",\"scene\":\"scene\",\"showlegend\":true,\"x\":[-0.2428704539304658,0.07665614024955734,-0.01063994220643354,-0.9448353729437337],\"y\":[2.95756377957225,2.5890161404908696,2.782718721745024,3.750612138406094],\"z\":[14.650375533010521,11.630682437483788,18.47497532509902,16.827443226184446],\"type\":\"scatter3d\"},{\"customdata\":[[\"TRC10\"]],\"hovertemplate\":\"<b>%{hovertext}</b><br><br>Class=%{marker.color}<br>PC 1=%{x}<br>PC 2=%{y}<br>PC 3=%{z}<br>Algorithm=%{customdata[0]}<extra></extra>\",\"hovertext\":[\"BitTorrent\"],\"legendgroup\":\"2\",\"marker\":{\"color\":[2],\"coloraxis\":\"coloraxis\",\"symbol\":\"x\"},\"mode\":\"markers\",\"name\":\"2\",\"scene\":\"scene\",\"showlegend\":true,\"x\":[33.93368637685985],\"y\":[1.77248866151258],\"z\":[-0.3885932689580067],\"type\":\"scatter3d\"}],                        {\"template\":{\"data\":{\"bar\":[{\"error_x\":{\"color\":\"#2a3f5f\"},\"error_y\":{\"color\":\"#2a3f5f\"},\"marker\":{\"line\":{\"color\":\"#E5ECF6\",\"width\":0.5},\"pattern\":{\"fillmode\":\"overlay\",\"size\":10,\"solidity\":0.2}},\"type\":\"bar\"}],\"barpolar\":[{\"marker\":{\"line\":{\"color\":\"#E5ECF6\",\"width\":0.5},\"pattern\":{\"fillmode\":\"overlay\",\"size\":10,\"solidity\":0.2}},\"type\":\"barpolar\"}],\"carpet\":[{\"aaxis\":{\"endlinecolor\":\"#2a3f5f\",\"gridcolor\":\"white\",\"linecolor\":\"white\",\"minorgridcolor\":\"white\",\"startlinecolor\":\"#2a3f5f\"},\"baxis\":{\"endlinecolor\":\"#2a3f5f\",\"gridcolor\":\"white\",\"linecolor\":\"white\",\"minorgridcolor\":\"white\",\"startlinecolor\":\"#2a3f5f\"},\"type\":\"carpet\"}],\"choropleth\":[{\"colorbar\":{\"outlinewidth\":0,\"ticks\":\"\"},\"type\":\"choropleth\"}],\"contour\":[{\"colorbar\":{\"outlinewidth\":0,\"ticks\":\"\"},\"colorscale\":[[0.0,\"#0d0887\"],[0.1111111111111111,\"#46039f\"],[0.2222222222222222,\"#7201a8\"],[0.3333333333333333,\"#9c179e\"],[0.4444444444444444,\"#bd3786\"],[0.5555555555555556,\"#d8576b\"],[0.6666666666666666,\"#ed7953\"],[0.7777777777777778,\"#fb9f3a\"],[0.8888888888888888,\"#fdca26\"],[1.0,\"#f0f921\"]],\"type\":\"contour\"}],\"contourcarpet\":[{\"colorbar\":{\"outlinewidth\":0,\"ticks\":\"\"},\"type\":\"contourcarpet\"}],\"heatmap\":[{\"colorbar\":{\"outlinewidth\":0,\"ticks\":\"\"},\"colorscale\":[[0.0,\"#0d0887\"],[0.1111111111111111,\"#46039f\"],[0.2222222222222222,\"#7201a8\"],[0.3333333333333333,\"#9c179e\"],[0.4444444444444444,\"#bd3786\"],[0.5555555555555556,\"#d8576b\"],[0.6666666666666666,\"#ed7953\"],[0.7777777777777778,\"#fb9f3a\"],[0.8888888888888888,\"#fdca26\"],[1.0,\"#f0f921\"]],\"type\":\"heatmap\"}],\"heatmapgl\":[{\"colorbar\":{\"outlinewidth\":0,\"ticks\":\"\"},\"colorscale\":[[0.0,\"#0d0887\"],[0.1111111111111111,\"#46039f\"],[0.2222222222222222,\"#7201a8\"],[0.3333333333333333,\"#9c179e\"],[0.4444444444444444,\"#bd3786\"],[0.5555555555555556,\"#d8576b\"],[0.6666666666666666,\"#ed7953\"],[0.7777777777777778,\"#fb9f3a\"],[0.8888888888888888,\"#fdca26\"],[1.0,\"#f0f921\"]],\"type\":\"heatmapgl\"}],\"histogram\":[{\"marker\":{\"pattern\":{\"fillmode\":\"overlay\",\"size\":10,\"solidity\":0.2}},\"type\":\"histogram\"}],\"histogram2d\":[{\"colorbar\":{\"outlinewidth\":0,\"ticks\":\"\"},\"colorscale\":[[0.0,\"#0d0887\"],[0.1111111111111111,\"#46039f\"],[0.2222222222222222,\"#7201a8\"],[0.3333333333333333,\"#9c179e\"],[0.4444444444444444,\"#bd3786\"],[0.5555555555555556,\"#d8576b\"],[0.6666666666666666,\"#ed7953\"],[0.7777777777777778,\"#fb9f3a\"],[0.8888888888888888,\"#fdca26\"],[1.0,\"#f0f921\"]],\"type\":\"histogram2d\"}],\"histogram2dcontour\":[{\"colorbar\":{\"outlinewidth\":0,\"ticks\":\"\"},\"colorscale\":[[0.0,\"#0d0887\"],[0.1111111111111111,\"#46039f\"],[0.2222222222222222,\"#7201a8\"],[0.3333333333333333,\"#9c179e\"],[0.4444444444444444,\"#bd3786\"],[0.5555555555555556,\"#d8576b\"],[0.6666666666666666,\"#ed7953\"],[0.7777777777777778,\"#fb9f3a\"],[0.8888888888888888,\"#fdca26\"],[1.0,\"#f0f921\"]],\"type\":\"histogram2dcontour\"}],\"mesh3d\":[{\"colorbar\":{\"outlinewidth\":0,\"ticks\":\"\"},\"type\":\"mesh3d\"}],\"parcoords\":[{\"line\":{\"colorbar\":{\"outlinewidth\":0,\"ticks\":\"\"}},\"type\":\"parcoords\"}],\"pie\":[{\"automargin\":true,\"type\":\"pie\"}],\"scatter\":[{\"marker\":{\"colorbar\":{\"outlinewidth\":0,\"ticks\":\"\"}},\"type\":\"scatter\"}],\"scatter3d\":[{\"line\":{\"colorbar\":{\"outlinewidth\":0,\"ticks\":\"\"}},\"marker\":{\"colorbar\":{\"outlinewidth\":0,\"ticks\":\"\"}},\"type\":\"scatter3d\"}],\"scattercarpet\":[{\"marker\":{\"colorbar\":{\"outlinewidth\":0,\"ticks\":\"\"}},\"type\":\"scattercarpet\"}],\"scattergeo\":[{\"marker\":{\"colorbar\":{\"outlinewidth\":0,\"ticks\":\"\"}},\"type\":\"scattergeo\"}],\"scattergl\":[{\"marker\":{\"colorbar\":{\"outlinewidth\":0,\"ticks\":\"\"}},\"type\":\"scattergl\"}],\"scattermapbox\":[{\"marker\":{\"colorbar\":{\"outlinewidth\":0,\"ticks\":\"\"}},\"type\":\"scattermapbox\"}],\"scatterpolar\":[{\"marker\":{\"colorbar\":{\"outlinewidth\":0,\"ticks\":\"\"}},\"type\":\"scatterpolar\"}],\"scatterpolargl\":[{\"marker\":{\"colorbar\":{\"outlinewidth\":0,\"ticks\":\"\"}},\"type\":\"scatterpolargl\"}],\"scatterternary\":[{\"marker\":{\"colorbar\":{\"outlinewidth\":0,\"ticks\":\"\"}},\"type\":\"scatterternary\"}],\"surface\":[{\"colorbar\":{\"outlinewidth\":0,\"ticks\":\"\"},\"colorscale\":[[0.0,\"#0d0887\"],[0.1111111111111111,\"#46039f\"],[0.2222222222222222,\"#7201a8\"],[0.3333333333333333,\"#9c179e\"],[0.4444444444444444,\"#bd3786\"],[0.5555555555555556,\"#d8576b\"],[0.6666666666666666,\"#ed7953\"],[0.7777777777777778,\"#fb9f3a\"],[0.8888888888888888,\"#fdca26\"],[1.0,\"#f0f921\"]],\"type\":\"surface\"}],\"table\":[{\"cells\":{\"fill\":{\"color\":\"#EBF0F8\"},\"line\":{\"color\":\"white\"}},\"header\":{\"fill\":{\"color\":\"#C8D4E3\"},\"line\":{\"color\":\"white\"}},\"type\":\"table\"}]},\"layout\":{\"annotationdefaults\":{\"arrowcolor\":\"#2a3f5f\",\"arrowhead\":0,\"arrowwidth\":1},\"autotypenumbers\":\"strict\",\"coloraxis\":{\"colorbar\":{\"outlinewidth\":0,\"ticks\":\"\"}},\"colorscale\":{\"diverging\":[[0,\"#8e0152\"],[0.1,\"#c51b7d\"],[0.2,\"#de77ae\"],[0.3,\"#f1b6da\"],[0.4,\"#fde0ef\"],[0.5,\"#f7f7f7\"],[0.6,\"#e6f5d0\"],[0.7,\"#b8e186\"],[0.8,\"#7fbc41\"],[0.9,\"#4d9221\"],[1,\"#276419\"]],\"sequential\":[[0.0,\"#0d0887\"],[0.1111111111111111,\"#46039f\"],[0.2222222222222222,\"#7201a8\"],[0.3333333333333333,\"#9c179e\"],[0.4444444444444444,\"#bd3786\"],[0.5555555555555556,\"#d8576b\"],[0.6666666666666666,\"#ed7953\"],[0.7777777777777778,\"#fb9f3a\"],[0.8888888888888888,\"#fdca26\"],[1.0,\"#f0f921\"]],\"sequentialminus\":[[0.0,\"#0d0887\"],[0.1111111111111111,\"#46039f\"],[0.2222222222222222,\"#7201a8\"],[0.3333333333333333,\"#9c179e\"],[0.4444444444444444,\"#bd3786\"],[0.5555555555555556,\"#d8576b\"],[0.6666666666666666,\"#ed7953\"],[0.7777777777777778,\"#fb9f3a\"],[0.8888888888888888,\"#fdca26\"],[1.0,\"#f0f921\"]]},\"colorway\":[\"#636efa\",\"#EF553B\",\"#00cc96\",\"#ab63fa\",\"#FFA15A\",\"#19d3f3\",\"#FF6692\",\"#B6E880\",\"#FF97FF\",\"#FECB52\"],\"font\":{\"color\":\"#2a3f5f\"},\"geo\":{\"bgcolor\":\"white\",\"lakecolor\":\"white\",\"landcolor\":\"#E5ECF6\",\"showlakes\":true,\"showland\":true,\"subunitcolor\":\"white\"},\"hoverlabel\":{\"align\":\"left\"},\"hovermode\":\"closest\",\"mapbox\":{\"style\":\"light\"},\"paper_bgcolor\":\"white\",\"plot_bgcolor\":\"#E5ECF6\",\"polar\":{\"angularaxis\":{\"gridcolor\":\"white\",\"linecolor\":\"white\",\"ticks\":\"\"},\"bgcolor\":\"#E5ECF6\",\"radialaxis\":{\"gridcolor\":\"white\",\"linecolor\":\"white\",\"ticks\":\"\"}},\"scene\":{\"xaxis\":{\"backgroundcolor\":\"#E5ECF6\",\"gridcolor\":\"white\",\"gridwidth\":2,\"linecolor\":\"white\",\"showbackground\":true,\"ticks\":\"\",\"zerolinecolor\":\"white\"},\"yaxis\":{\"backgroundcolor\":\"#E5ECF6\",\"gridcolor\":\"white\",\"gridwidth\":2,\"linecolor\":\"white\",\"showbackground\":true,\"ticks\":\"\",\"zerolinecolor\":\"white\"},\"zaxis\":{\"backgroundcolor\":\"#E5ECF6\",\"gridcolor\":\"white\",\"gridwidth\":2,\"linecolor\":\"white\",\"showbackground\":true,\"ticks\":\"\",\"zerolinecolor\":\"white\"}},\"shapedefaults\":{\"line\":{\"color\":\"#2a3f5f\"}},\"ternary\":{\"aaxis\":{\"gridcolor\":\"white\",\"linecolor\":\"white\",\"ticks\":\"\"},\"baxis\":{\"gridcolor\":\"white\",\"linecolor\":\"white\",\"ticks\":\"\"},\"bgcolor\":\"#E5ECF6\",\"caxis\":{\"gridcolor\":\"white\",\"linecolor\":\"white\",\"ticks\":\"\"}},\"title\":{\"x\":0.05},\"xaxis\":{\"automargin\":true,\"gridcolor\":\"white\",\"linecolor\":\"white\",\"ticks\":\"\",\"title\":{\"standoff\":15},\"zerolinecolor\":\"white\",\"zerolinewidth\":2},\"yaxis\":{\"automargin\":true,\"gridcolor\":\"white\",\"linecolor\":\"white\",\"ticks\":\"\",\"title\":{\"standoff\":15},\"zerolinecolor\":\"white\",\"zerolinewidth\":2}}},\"scene\":{\"domain\":{\"x\":[0.0,1.0],\"y\":[0.0,1.0]},\"xaxis\":{\"title\":{\"text\":\"PC 1\"}},\"yaxis\":{\"title\":{\"text\":\"PC 2\"}},\"zaxis\":{\"title\":{\"text\":\"PC 3\"}}},\"coloraxis\":{\"colorbar\":{\"title\":{\"text\":\"Class\"}},\"colorscale\":[[0.0,\"#0d0887\"],[0.1111111111111111,\"#46039f\"],[0.2222222222222222,\"#7201a8\"],[0.3333333333333333,\"#9c179e\"],[0.4444444444444444,\"#bd3786\"],[0.5555555555555556,\"#d8576b\"],[0.6666666666666666,\"#ed7953\"],[0.7777777777777778,\"#fb9f3a\"],[0.8888888888888888,\"#fdca26\"],[1.0,\"#f0f921\"]]},\"legend\":{\"title\":{\"text\":\"Class\"},\"tracegroupgap\":0,\"x\":0,\"y\":1},\"margin\":{\"t\":60},\"width\":800},                        {\"responsive\": true}                    ).then(function(){\n",
       "                            \n",
       "var gd = document.getElementById('f3a05a56-92c2-46bd-8c48-ed6a0eae17e0');\n",
       "var x = new MutationObserver(function (mutations, observer) {{\n",
       "        var display = window.getComputedStyle(gd).display;\n",
       "        if (!display || display === 'none') {{\n",
       "            console.log([gd, 'removed!']);\n",
       "            Plotly.purge(gd);\n",
       "            observer.disconnect();\n",
       "        }}\n",
       "}});\n",
       "\n",
       "// Listen for the removal of the full notebook cells\n",
       "var notebookContainer = gd.closest('#notebook-container');\n",
       "if (notebookContainer) {{\n",
       "    x.observe(notebookContainer, {childList: true});\n",
       "}}\n",
       "\n",
       "// Listen for the clearing of the current output cell\n",
       "var outputEl = gd.closest('.output');\n",
       "if (outputEl) {{\n",
       "    x.observe(outputEl, {childList: true});\n",
       "}}\n",
       "\n",
       "                        })                };                });            </script>        </div>"
      ]
     },
     "metadata": {},
     "output_type": "display_data"
    }
   ],
   "source": [
    "# Creating a 3D-Scatter with the PCA data and the clusters\n",
    "\n",
    "fig = px.scatter_3d(\n",
    "    clustered_df,\n",
    "    x=\"PC 1\",\n",
    "    y=\"PC 2\",\n",
    "    z=\"PC 3\",\n",
    "    color=\"Class\",\n",
    "    symbol=\"Class\",\n",
    "    width=800,\n",
    "    hover_name = \"CoinName\",\n",
    "    hover_data = [\"Algorithm\"]\n",
    ")\n",
    "fig.update_layout(legend=dict(x=0, y=1))\n",
    "fig.show()"
   ]
  },
  {
   "cell_type": "code",
   "execution_count": 62,
   "metadata": {},
   "outputs": [
    {
     "data": {},
     "metadata": {},
     "output_type": "display_data"
    },
    {
     "data": {
      "application/vnd.holoviews_exec.v0+json": "",
      "text/html": [
       "<div id='1533'>\n",
       "\n",
       "\n",
       "\n",
       "\n",
       "\n",
       "  <div class=\"bk-root\" id=\"00950784-f8a2-48a5-8819-cf49f89bfd41\" data-root-id=\"1533\"></div>\n",
       "</div>\n",
       "<script type=\"application/javascript\">(function(root) {\n",
       "  function embed_document(root) {\n",
       "    var docs_json = {\"45ac2bf7-f0c9-4d6b-bd27-ced62b55c1fc\":{\"defs\":[{\"extends\":null,\"module\":null,\"name\":\"ReactiveHTML1\",\"overrides\":[],\"properties\":[]},{\"extends\":null,\"module\":null,\"name\":\"FlexBox1\",\"overrides\":[],\"properties\":[{\"default\":\"flex-start\",\"kind\":null,\"name\":\"align_content\"},{\"default\":\"flex-start\",\"kind\":null,\"name\":\"align_items\"},{\"default\":\"row\",\"kind\":null,\"name\":\"flex_direction\"},{\"default\":\"wrap\",\"kind\":null,\"name\":\"flex_wrap\"},{\"default\":\"flex-start\",\"kind\":null,\"name\":\"justify_content\"}]},{\"extends\":null,\"module\":null,\"name\":\"GridStack1\",\"overrides\":[],\"properties\":[{\"default\":\"warn\",\"kind\":null,\"name\":\"mode\"},{\"default\":null,\"kind\":null,\"name\":\"ncols\"},{\"default\":null,\"kind\":null,\"name\":\"nrows\"},{\"default\":true,\"kind\":null,\"name\":\"allow_resize\"},{\"default\":true,\"kind\":null,\"name\":\"allow_drag\"},{\"default\":[],\"kind\":null,\"name\":\"state\"}]},{\"extends\":null,\"module\":null,\"name\":\"click1\",\"overrides\":[],\"properties\":[{\"default\":\"\",\"kind\":null,\"name\":\"terminal_output\"},{\"default\":\"\",\"kind\":null,\"name\":\"debug_name\"},{\"default\":0,\"kind\":null,\"name\":\"clears\"}]},{\"extends\":null,\"module\":null,\"name\":\"TemplateActions1\",\"overrides\":[],\"properties\":[{\"default\":0,\"kind\":null,\"name\":\"open_modal\"},{\"default\":0,\"kind\":null,\"name\":\"close_modal\"}]},{\"extends\":null,\"module\":null,\"name\":\"MaterialTemplateActions1\",\"overrides\":[],\"properties\":[{\"default\":0,\"kind\":null,\"name\":\"open_modal\"},{\"default\":0,\"kind\":null,\"name\":\"close_modal\"}]}],\"roots\":{\"references\":[{\"attributes\":{},\"id\":\"1542\",\"type\":\"StringFormatter\"},{\"attributes\":{\"margin\":[5,5,5,5],\"name\":\"HSpacer03108\",\"sizing_mode\":\"stretch_width\"},\"id\":\"1574\",\"type\":\"Spacer\"},{\"attributes\":{},\"id\":\"1538\",\"type\":\"StringEditor\"},{\"attributes\":{},\"id\":\"1547\",\"type\":\"StringFormatter\"},{\"attributes\":{\"columns\":[{\"id\":\"1539\"},{\"id\":\"1544\"},{\"id\":\"1549\"},{\"id\":\"1554\"},{\"id\":\"1559\"},{\"id\":\"1564\"}],\"height\":300,\"reorderable\":false,\"source\":{\"id\":\"1535\"},\"view\":{\"id\":\"1569\"},\"width\":700},\"id\":\"1567\",\"type\":\"DataTable\"},{\"attributes\":{\"editor\":{\"id\":\"1538\"},\"field\":\"CoinName\",\"formatter\":{\"id\":\"1537\"},\"title\":\"CoinName\"},\"id\":\"1539\",\"type\":\"TableColumn\"},{\"attributes\":{},\"id\":\"1552\",\"type\":\"StringFormatter\"},{\"attributes\":{\"format\":\"0,0.0[00000]\"},\"id\":\"1557\",\"type\":\"NumberFormatter\"},{\"attributes\":{\"source\":{\"id\":\"1535\"}},\"id\":\"1569\",\"type\":\"CDSView\"},{\"attributes\":{\"editor\":{\"id\":\"1543\"},\"field\":\"Algorithm\",\"formatter\":{\"id\":\"1542\"},\"title\":\"Algorithm\"},\"id\":\"1544\",\"type\":\"TableColumn\"},{\"attributes\":{},\"id\":\"1548\",\"type\":\"StringEditor\"},{\"attributes\":{\"data\":{\"Algorithm\":[\"Scrypt\",\"Scrypt\",\"X13\",\"SHA-256\",\"Ethash\",\"Scrypt\",\"X11\",\"CryptoNight-V7\",\"Ethash\",\"Equihash\",\"SHA-512\",\"Multiple\",\"SHA-256\",\"SHA-256\",\"Scrypt\",\"X15\",\"X11\",\"Scrypt\",\"Scrypt\",\"Scrypt\",\"Multiple\",\"Scrypt\",\"SHA-256\",\"Scrypt\",\"Scrypt\",\"Scrypt\",\"Quark\",\"Groestl\",\"Scrypt\",\"Scrypt\",\"Scrypt\",\"Scrypt\",\"Scrypt\",\"X11\",\"Scrypt\",\"Groestl\",\"Multiple\",\"SHA-256\",\"Scrypt\",\"Scrypt\",\"Scrypt\",\"Scrypt\",\"PoS\",\"Scrypt\",\"Scrypt\",\"NeoScrypt\",\"Scrypt\",\"Scrypt\",\"Scrypt\",\"Scrypt\",\"X11\",\"Scrypt\",\"X11\",\"SHA-256\",\"Scrypt\",\"Scrypt\",\"Scrypt\",\"SHA3\",\"Scrypt\",\"HybridScryptHash256\",\"Scrypt\",\"Scrypt\",\"SHA-256\",\"Scrypt\",\"X13\",\"Scrypt\",\"SHA-256\",\"Scrypt\",\"X13\",\"NeoScrypt\",\"Scrypt\",\"Scrypt\",\"Scrypt\",\"Scrypt\",\"Scrypt\",\"Scrypt\",\"X11\",\"X11\",\"SHA-256\",\"Multiple\",\"SHA-256\",\"PHI1612\",\"X11\",\"SHA-256\",\"SHA-256\",\"SHA-256\",\"X11\",\"Scrypt\",\"Scrypt\",\"Scrypt\",\"Scrypt\",\"Lyra2REv2\",\"Scrypt\",\"X11\",\"Multiple\",\"SHA-256\",\"X13\",\"Scrypt\",\"CryptoNight\",\"CryptoNight\",\"Shabal256\",\"Counterparty\",\"Scrypt\",\"SHA-256\",\"Groestl\",\"Scrypt\",\"Scrypt\",\"Scrypt\",\"X13\",\"Scrypt\",\"Scrypt\",\"Scrypt\",\"Scrypt\",\"X13\",\"Scrypt\",\"Stanford Folding\",\"X11\",\"Multiple\",\"QuBit\",\"Scrypt\",\"Scrypt\",\"Scrypt\",\"M7 POW\",\"Scrypt\",\"SHA-256\",\"Scrypt\",\"X11\",\"SHA3\",\"X11\",\"Lyra2RE\",\"SHA-256\",\"QUAIT\",\"X11\",\"X11\",\"Scrypt\",\"Scrypt\",\"Scrypt\",\"Ethash\",\"X13\",\"Blake2b\",\"SHA-256\",\"X15\",\"X11\",\"SHA-256\",\"BLAKE256\",\"Scrypt\",\"1GB AES Pattern Search\",\"SHA-256\",\"X11\",\"Scrypt\",\"SHA-256\",\"SHA-256\",\"NIST5\",\"Scrypt\",\"Scrypt\",\"X11\",\"Dagger\",\"Scrypt\",\"X11GOST\",\"X11\",\"Scrypt\",\"SHA-256\",\"Scrypt\",\"PoS\",\"Scrypt\",\"X11\",\"X11\",\"SHA-256\",\"SHA-256\",\"NIST5\",\"X11\",\"Scrypt\",\"POS 3.0\",\"Scrypt\",\"Scrypt\",\"Scrypt\",\"X13\",\"X11\",\"X11\",\"Equihash\",\"X11\",\"Scrypt\",\"CryptoNight\",\"SHA-256\",\"SHA-256\",\"X11\",\"Scrypt\",\"Multiple\",\"Scrypt\",\"Scrypt\",\"Scrypt\",\"SHA-256\",\"Scrypt\",\"Scrypt\",\"SHA-256D\",\"PoS\",\"Scrypt\",\"X11\",\"Lyra2Z\",\"PoS\",\"X13\",\"X14\",\"PoS\",\"SHA-256D\",\"Ethash\",\"Equihash\",\"DPoS\",\"X11\",\"Scrypt\",\"X11\",\"X13\",\"X11\",\"PoS\",\"Scrypt\",\"Scrypt\",\"X11\",\"PoS\",\"X11\",\"SHA-256\",\"Scrypt\",\"X11\",\"Scrypt\",\"Scrypt\",\"X11\",\"CryptoNight\",\"Scrypt\",\"Scrypt\",\"Scrypt\",\"Scrypt\",\"Quark\",\"QuBit\",\"Scrypt\",\"CryptoNight\",\"Lyra2RE\",\"Scrypt\",\"SHA-256\",\"X11\",\"Scrypt\",\"X11\",\"Scrypt\",\"CryptoNight-V7\",\"Scrypt\",\"Scrypt\",\"Scrypt\",\"X13\",\"X11\",\"Equihash\",\"Scrypt\",\"Scrypt\",\"Lyra2RE\",\"Scrypt\",\"Dagger-Hashimoto\",\"X11\",\"Blake2S\",\"X11\",\"Scrypt\",\"PoS\",\"X11\",\"NIST5\",\"PoS\",\"X11\",\"Scrypt\",\"Scrypt\",\"Scrypt\",\"SHA-256\",\"X11\",\"Scrypt\",\"Scrypt\",\"SHA-256\",\"PoS\",\"Scrypt\",\"X15\",\"SHA-256\",\"Scrypt\",\"POS 3.0\",\"CryptoNight-V7\",\"536\",\"Argon2d\",\"Blake2b\",\"Cloverhash\",\"CryptoNight\",\"NIST5\",\"X11\",\"NIST5\",\"Skein\",\"Scrypt\",\"X13\",\"Scrypt\",\"X11\",\"X11\",\"Scrypt\",\"CryptoNight\",\"X13\",\"Time Travel\",\"Scrypt\",\"Keccak\",\"SkunkHash v2 Raptor\",\"X11\",\"Skein\",\"SHA-256\",\"X11\",\"Scrypt\",\"VeChainThor Authority\",\"Scrypt\",\"PoS\",\"Scrypt\",\"Scrypt\",\"Scrypt\",\"Scrypt\",\"Scrypt\",\"Scrypt\",\"Scrypt\",\"CryptoNight\",\"SHA-512\",\"Ouroboros\",\"X11\",\"Equihash\",\"NeoScrypt\",\"X11\",\"Scrypt\",\"NeoScrypt\",\"Lyra2REv2\",\"Equihash\",\"Scrypt\",\"SHA-256\",\"NIST5\",\"PHI1612\",\"Dagger\",\"Scrypt\",\"Quark\",\"Scrypt\",\"POS 2.0\",\"Scrypt\",\"SHA-256\",\"X11\",\"NeoScrypt\",\"Ethash\",\"NeoScrypt\",\"X11\",\"DPoS\",\"NIST5\",\"X13\",\"Multiple\",\"Scrypt\",\"CryptoNight\",\"CryptoNight\",\"Ethash\",\"NIST5\",\"Quark\",\"X11\",\"CryptoNight-V7\",\"Scrypt\",\"Scrypt\",\"Scrypt\",\"X11\",\"BLAKE256\",\"X11\",\"NeoScrypt\",\"Quark\",\"NeoScrypt\",\"Scrypt\",\"Scrypt\",\"Scrypt\",\"X11\",\"X11\",\"SHA-256\",\"C11\",\"POS 3.0\",\"Ethash\",\"Scrypt\",\"CryptoNight\",\"SkunkHash\",\"Scrypt\",\"CryptoNight\",\"Scrypt\",\"Dagger\",\"Lyra2REv2\",\"X13\",\"Proof-of-BibleHash\",\"SHA-256 + Hive\",\"Scrypt\",\"Scrypt\",\"X11\",\"C11\",\"Proof-of-Authority\",\"X11\",\"XEVAN\",\"Scrypt\",\"VBFT\",\"Ethash\",\"CryptoNight\",\"Scrypt\",\"IMesh\",\"NIST5\",\"Scrypt\",\"Scrypt\",\"Equihash\",\"Scrypt\",\"Lyra2Z\",\"Green Protocol\",\"PoS\",\"Scrypt\",\"Semux BFT consensus\",\"X11\",\"Quark\",\"PoS\",\"CryptoNight\",\"X16R\",\"Scrypt\",\"NIST5\",\"Lyra2RE\",\"XEVAN\",\"Tribus\",\"Scrypt\",\"Lyra2Z\",\"CryptoNight\",\"CryptoNight Heavy\",\"CryptoNight\",\"Scrypt\",\"Scrypt\",\"Jump Consistent Hash\",\"SHA-256D\",\"CryptoNight\",\"Scrypt\",\"X15\",\"Scrypt\",\"Quark\",\"SHA-256\",\"DPoS\",\"X16R\",\"HMQ1725\",\"X11\",\"X16R\",\"Quark\",\"Quark\",\"Scrypt\",\"Lyra2REv2\",\"Quark\",\"Scrypt\",\"Scrypt\",\"CryptoNight-V7\",\"Cryptonight-GPU\",\"XEVAN\",\"CryptoNight Heavy\",\"X11\",\"X11\",\"Scrypt\",\"PoS\",\"SHA-256\",\"Keccak\",\"X11\",\"X11\",\"Scrypt\",\"SHA-512\",\"X16R\",\"ECC 256K1\",\"Equihash\",\"XEVAN\",\"Lyra2Z\",\"SHA-256\",\"XEVAN\",\"X11\",\"CryptoNight\",\"Quark\",\"Blake\",\"Blake\",\"Equihash\",\"Exosis\",\"Scrypt\",\"Scrypt\",\"Equihash\",\"Quark\",\"Equihash\",\"Quark\",\"Scrypt\",\"QuBit\",\"X11\",\"Scrypt\",\"XEVAN\",\"SHA-256D\",\"X11\",\"SHA-256\",\"X13\",\"SHA-256\",\"X11\",\"DPoS\",\"Scrypt\",\"Scrypt\",\"X11\",\"NeoScrypt\",\"Scrypt\",\"Blake\",\"Scrypt\",\"SHA-256\",\"Scrypt\",\"X11\",\"Scrypt\",\"Scrypt\",\"SHA-256\",\"X11\",\"SHA-256\",\"Scrypt\",\"Scrypt\",\"Scrypt\",\"Groestl\",\"X11\",\"Scrypt\",\"PoS\",\"Scrypt\",\"Scrypt\",\"X11\",\"SHA-256\",\"DPoS\",\"Scrypt\",\"Scrypt\",\"NeoScrypt\",\"Multiple\",\"X13\",\"Equihash+Scrypt\",\"DPoS\",\"Ethash\",\"DPoS\",\"SHA-256\",\"Leased POS\",\"PoS\",\"TRC10\",\"PoS\",\"SHA-256\",\"Scrypt\",\"CryptoNight\",\"Equihash\",\"Scrypt\"],\"Class\":{\"__ndarray__\":\"AAAAAAAAAAAAAAAAAwAAAAMAAAADAAAAAAAAAAMAAAADAAAAAwAAAAAAAAADAAAAAAAAAAAAAAADAAAAAAAAAAMAAAADAAAAAAAAAAAAAAADAAAAAwAAAAMAAAADAAAAAwAAAAAAAAADAAAAAwAAAAMAAAAAAAAAAwAAAAAAAAADAAAAAwAAAAAAAAAAAAAAAwAAAAMAAAADAAAAAwAAAAMAAAADAAAAAAAAAAAAAAADAAAAAwAAAAMAAAADAAAAAwAAAAAAAAAAAAAAAwAAAAAAAAADAAAAAwAAAAMAAAADAAAAAAAAAAMAAAADAAAAAAAAAAMAAAAAAAAAAAAAAAAAAAADAAAAAwAAAAMAAAAAAAAAAAAAAAAAAAAAAAAAAAAAAAMAAAADAAAAAwAAAAAAAAAAAAAAAwAAAAAAAAADAAAAAAAAAAAAAAADAAAAAwAAAAMAAAADAAAAAAAAAAAAAAADAAAAAAAAAAMAAAADAAAAAAAAAAAAAAADAAAAAAAAAAAAAAADAAAAAwAAAAAAAAAAAAAAAwAAAAAAAAAAAAAAAwAAAAAAAAADAAAAAAAAAAMAAAAAAAAAAwAAAAAAAAAAAAAAAwAAAAMAAAAAAAAAAwAAAAMAAAADAAAAAAAAAAMAAAADAAAAAwAAAAMAAAADAAAAAAAAAAAAAAADAAAAAwAAAAMAAAAAAAAAAwAAAAAAAAADAAAAAwAAAAAAAAADAAAAAAAAAAMAAAAAAAAAAAAAAAMAAAADAAAAAAAAAAMAAAADAAAAAAAAAAAAAAADAAAAAAAAAAMAAAAAAAAAAAAAAAAAAAADAAAAAwAAAAMAAAADAAAAAAAAAAAAAAAAAAAAAAAAAAAAAAADAAAAAwAAAAAAAAAAAAAAAAAAAAAAAAAAAAAAAwAAAAAAAAAAAAAAAAAAAAAAAAAAAAAAAwAAAAAAAAADAAAAAAAAAAAAAAADAAAAAAAAAAMAAAAAAAAAAAAAAAMAAAAAAAAAAwAAAAAAAAADAAAAAAAAAAMAAAAAAAAAAAAAAAAAAAAAAAAAAwAAAAAAAAAAAAAAAAAAAAAAAAAAAAAAAwAAAAMAAAAAAAAAAAAAAAMAAAADAAAAAAAAAAAAAAAAAAAAAAAAAAAAAAADAAAAAAAAAAAAAAAAAAAAAAAAAAAAAAAAAAAAAAAAAAAAAAADAAAAAAAAAAAAAAAAAAAAAAAAAAAAAAAAAAAAAwAAAAMAAAADAAAAAAAAAAAAAAAAAAAAAAAAAAMAAAAAAAAAAwAAAAAAAAAAAAAAAwAAAAAAAAADAAAAAwAAAAAAAAADAAAAAwAAAAAAAAADAAAAAAAAAAAAAAAAAAAAAwAAAAAAAAAAAAAAAwAAAAAAAAAAAAAAAAAAAAAAAAAAAAAAAAAAAAAAAAADAAAAAAAAAAMAAAAAAAAAAAAAAAAAAAAAAAAAAwAAAAAAAAADAAAAAAAAAAMAAAADAAAAAwAAAAMAAAAAAAAAAwAAAAAAAAAAAAAAAwAAAAAAAAADAAAAAwAAAAMAAAAAAAAAAwAAAAAAAAADAAAAAwAAAAMAAAAAAAAAAwAAAAAAAAADAAAAAAAAAAAAAAAAAAAAAwAAAAAAAAADAAAAAwAAAAMAAAADAAAAAwAAAAAAAAAAAAAAAwAAAAAAAAAAAAAAAAAAAAMAAAAAAAAAAwAAAAAAAAADAAAAAAAAAAMAAAAAAAAAAAAAAAAAAAAAAAAAAwAAAAAAAAAAAAAAAwAAAAAAAAAAAAAAAAAAAAMAAAADAAAAAwAAAAMAAAAAAAAAAAAAAAAAAAAAAAAAAwAAAAAAAAADAAAAAwAAAAMAAAAAAAAAAAAAAAMAAAADAAAAAAAAAAAAAAADAAAAAAAAAAMAAAADAAAAAwAAAAAAAAADAAAAAwAAAAAAAAAAAAAAAAAAAAMAAAADAAAAAwAAAAAAAAAAAAAAAAAAAAMAAAADAAAAAAAAAAMAAAADAAAAAwAAAAMAAAAAAAAAAQAAAAEAAAADAAAAAwAAAAMAAAAAAAAAAAAAAAAAAAAAAAAAAAAAAAAAAAADAAAAAwAAAAMAAAADAAAAAAAAAAAAAAAAAAAAAwAAAAAAAAADAAAAAAAAAAAAAAAAAAAAAAAAAAMAAAAAAAAAAAAAAAMAAAAAAAAAAAAAAAMAAAADAAAAAAAAAAMAAAAAAAAAAwAAAAMAAAADAAAAAwAAAAAAAAAAAAAAAwAAAAAAAAADAAAAAAAAAAAAAAAAAAAAAAAAAAAAAAAAAAAAAwAAAAMAAAADAAAAAAAAAAAAAAAAAAAAAAAAAAAAAAAAAAAAAwAAAAAAAAADAAAAAwAAAAMAAAADAAAAAAAAAAAAAAAAAAAAAAAAAAMAAAAAAAAAAAAAAAMAAAAAAAAAAAAAAAMAAAABAAAAAwAAAAAAAAADAAAAAwAAAAAAAAAAAAAAAwAAAAAAAAADAAAAAwAAAAAAAAADAAAAAwAAAAAAAAADAAAAAAAAAAMAAAAAAAAAAAAAAAMAAAAAAAAAAAAAAAAAAAAAAAAAAAAAAAMAAAADAAAAAwAAAAAAAAAAAAAAAAAAAAMAAAAAAAAAAwAAAAAAAAADAAAAAAAAAAAAAAAAAAAAAAAAAAMAAAAAAAAAAAAAAAAAAAADAAAAAAAAAAMAAAAAAAAAAwAAAAAAAAAAAAAAAAAAAAMAAAADAAAAAAAAAAAAAAAAAAAAAAAAAAAAAAAAAAAAAwAAAAAAAAADAAAAAAAAAAMAAAAAAAAAAAAAAAEAAAAAAAAAAgAAAAAAAAAAAAAAAAAAAAMAAAADAAAAAAAAAA==\",\"dtype\":\"int32\",\"order\":\"little\",\"shape\":[532]},\"CoinName\":[\"42 Coin\",\"404Coin\",\"EliteCoin\",\"Bitcoin\",\"Ethereum\",\"Litecoin\",\"Dash\",\"Monero\",\"Ethereum Classic\",\"ZCash\",\"Bitshares\",\"DigiByte\",\"BitcoinDark\",\"PayCoin\",\"ProsperCoin\",\"KoboCoin\",\"Spreadcoin\",\"Argentum\",\"Aurora Coin\",\"BlueCoin\",\"MyriadCoin\",\"MoonCoin\",\"ZetaCoin\",\"SexCoin\",\"Quatloo\",\"EnergyCoin\",\"QuarkCoin\",\"Riecoin\",\"Digitalcoin \",\"BitBar\",\"Catcoin\",\"CryptoBullion\",\"CannaCoin\",\"CryptCoin\",\"CasinoCoin\",\"Diamond\",\"Verge\",\"DevCoin\",\"EarthCoin\",\"E-Gulden\",\"Einsteinium\",\"Emerald\",\"Exclusive Coin\",\"FlutterCoin\",\"Franko\",\"FeatherCoin\",\"GrandCoin\",\"GlobalCoin\",\"GoldCoin\",\"HoboNickels\",\"HyperStake\",\"Infinite Coin\",\"IOCoin\",\"IXcoin\",\"KrugerCoin\",\"LuckyCoin\",\"Litebar \",\"MaxCoin\",\"MegaCoin\",\"MediterraneanCoin\",\"MintCoin\",\"MinCoin\",\"MazaCoin\",\"Nautilus Coin\",\"NavCoin\",\"NobleCoin\",\"Namecoin\",\"NyanCoin\",\"OpalCoin\",\"Orbitcoin\",\"PotCoin\",\"PhoenixCoin\",\"Reddcoin\",\"RonPaulCoin\",\"StableCoin\",\"SmartCoin\",\"SuperCoin\",\"SyncCoin\",\"SysCoin\",\"TeslaCoin\",\"TigerCoin\",\"TittieCoin\",\"TorCoin\",\"TerraCoin\",\"UnbreakableCoin\",\"Unobtanium\",\"UroCoin\",\"UnitaryStatus Dollar\",\"UltraCoin\",\"ViaCoin\",\"VeriCoin\",\"Vertcoin\",\"WorldCoin\",\"X11 Coin\",\"Crypti\",\"JouleCoin\",\"StealthCoin\",\"ZCC Coin\",\"ByteCoin\",\"DigitalNote \",\"BurstCoin\",\"StorjCoin\",\"MonaCoin\",\"Neutron\",\"FairCoin\",\"Gulden\",\"RubyCoin\",\"PesetaCoin\",\"Kore\",\"Wild Beast Coin\",\"Dnotes\",\"Flo\",\"8BIT Coin\",\"Sativa Coin\",\"ArtByte\",\"Folding Coin\",\"Ucoin\",\"Unitus\",\"CypherPunkCoin\",\"OmniCron\",\"Vtorrent\",\"GreenCoin\",\"Cryptonite\",\"MasterCoin\",\"SoonCoin\",\"1Credit\",\"IslaCoin\",\"Nexus\",\"MarsCoin \",\"Crypto\",\"Anarchists Prime\",\"Droidz\",\"BowsCoin\",\"Squall Coin\",\"Song Coin\",\"BitZeny\",\"Diggits\",\"Expanse\",\"Paycon\",\"Siacoin\",\"Emercoin\",\"EverGreenCoin\",\"MindCoin\",\"I0coin\",\"Decred\",\"Revolution VR\",\"HOdlcoin\",\"EDRCoin\",\"Hitcoin\",\"Gamecredits\",\"DubaiCoin\",\"CarpeDiemCoin\",\"PWR Coin\",\"BillaryCoin\",\"GPU Coin\",\"Adzcoin\",\"SoilCoin\",\"YoCoin\",\"SibCoin\",\"EuropeCoin\",\"ZeitCoin\",\"SwingCoin\",\"SafeExchangeCoin\",\"Nebuchadnezzar\",\"Francs\",\"BolivarCoin\",\"Ratecoin\",\"Revenu\",\"Clockcoin\",\"VIP Tokens\",\"BitSend\",\"Omni\",\"Let it Ride\",\"PutinCoin\",\"iBankCoin\",\"Frankywillcoin\",\"MudraCoin\",\"PizzaCoin\",\"Lutetium Coin\",\"Komodo\",\"GoldBlocks\",\"CarterCoin\",\"Karbo\",\"BitTokens\",\"ZayedCoin\",\"MustangCoin\",\"ZoneCoin\",\"Circuits of Value\",\"RootCoin\",\"DopeCoin\",\"BitCurrency\",\"DollarCoin\",\"Swiscoin\",\"Shilling\",\"BuzzCoin\",\"Opair\",\"PesoBit\",\"Halloween Coin\",\"ZCoin\",\"CoffeeCoin\",\"RoyalCoin\",\"GanjaCoin V2\",\"TeamUP\",\"LanaCoin\",\"Elementrem\",\"ZClassic\",\"ARK\",\"InsaneCoin\",\"KiloCoin\",\"ArtexCoin\",\"EmberCoin\",\"XenixCoin\",\"FreeCoin\",\"PLNCoin\",\"AquariusCoin\",\"Kurrent\",\"Creatio\",\"Eternity\",\"Eurocoin\",\"BitcoinFast\",\"Stakenet\",\"BitConnect Coin\",\"MoneyCoin\",\"Enigma\",\"Cannabis Industry Coin\",\"Russiacoin\",\"PandaCoin\",\"GameUnits\",\"GAKHcoin\",\"Allsafe\",\"LiteCreed\",\"OsmiumCoin\",\"Bikercoins\",\"HexxCoin\",\"Klingon Empire Darsek\",\"Internet of People\",\"KushCoin\",\"Printerium\",\"PacCoin\",\"Impeach\",\"Citadel\",\"Zilbercoin\",\"FirstCoin\",\"BeaverCoin\",\"FindCoin\",\"VaultCoin\",\"Zero\",\"OpenChat\",\"Canada eCoin\",\"Zoin\",\"RenosCoin\",\"DubaiCoin\",\"VirtacoinPlus\",\"TajCoin\",\"Impact\",\"EB3coin\",\"Atmos\",\"HappyCoin\",\"Coinonat\",\"MacronCoin\",\"Condensate\",\"Independent Money System\",\"ArgusCoin\",\"LomoCoin\",\"ProCurrency\",\"GoldReserve\",\"BenjiRolls\",\"GrowthCoin\",\"ILCoin\",\"Phreak\",\"Degas Coin\",\"HTML5 Coin\",\"Ultimate Secure Cash\",\"EquiTrader\",\"QTUM\",\"Quantum Resistant Ledger\",\"Espers\",\"Dynamic\",\"Nano\",\"ChanCoin\",\"Dinastycoin\",\"Denarius\",\"DigitalPrice\",\"Virta Unique Coin\",\"Bitcoin Planet\",\"Unify\",\"BritCoin\",\"SocialCoin\",\"ArcticCoin\",\"DAS\",\"Linda\",\"LeviarCoin\",\"DeepOnion\",\"Bitcore\",\"gCn Coin\",\"SmartCash\",\"Signatum\",\"Onix\",\"Cream\",\"Bitcoin Cash\",\"Monoeci\",\"Draftcoin\",\"Vechain\",\"Sojourn Coin\",\"Stakecoin\",\"NewYorkCoin\",\"FrazCoin\",\"Kronecoin\",\"AdCoin\",\"Linx\",\"CoinonatX\",\"Ethereum Dark\",\"Sumokoin\",\"Obsidian\",\"Cardano\",\"Regalcoin\",\"BitcoinZ\",\"TrezarCoin\",\"Elements\",\"TerraNovaCoin\",\"VIVO Coin\",\"Rupee\",\"Bitcoin Gold\",\"WomenCoin\",\"Theresa May Coin\",\"NamoCoin\",\"LUXCoin\",\"Pirl\",\"Xios\",\"Bitcloud 2.0\",\"eBoost\",\"KekCoin\",\"BlackholeCoin\",\"Infinity Economics\",\"Pura\",\"Innova\",\"Ellaism\",\"GoByte\",\"Magnet\",\"Lamden Tau\",\"Electra\",\"Bitcoin Diamond\",\"SHIELD\",\"Cash & Back Coin\",\"UltraNote\",\"BitCoal\",\"DaxxCoin\",\"Bulwark\",\"Kalkulus\",\"AC3\",\"Lethean\",\"GermanCoin\",\"LiteCoin Ultra\",\"PopularCoin\",\"PhantomX\",\"Photon\",\"Sucre\",\"SparksPay\",\"Digiwage\",\"GunCoin\",\"IrishCoin\",\"Trollcoin\",\"Litecoin Plus\",\"Monkey Project\",\"Pioneer Coin\",\"UnitedBitcoin\",\"Interzone\",\"TokenPay\",\"1717 Masonic Commemorative Token\",\"My Big Coin\",\"TurtleCoin\",\"MUNcoin\",\"Unified Society USDEX\",\"Niobio Cash\",\"ShareChain\",\"Travelflex\",\"KREDS\",\"Tokyo Coin\",\"BiblePay\",\"LitecoinCash\",\"BitFlip\",\"LottoCoin\",\"Crypto Improvement Fund\",\"Stipend\",\"Poa Network\",\"Pushi\",\"Ellerium\",\"Velox\",\"Ontology\",\"Callisto Network\",\"BitTube\",\"Poseidon\",\"Aidos Kuneen\",\"Bitspace\",\"Briacoin\",\"Ignition\",\"Bitrolium\",\"MedicCoin\",\"Alpenschillling\",\"Bitcoin Green\",\"Deviant Coin\",\"Abjcoin\",\"Semux\",\"FuturoCoin\",\"Carebit\",\"Zealium\",\"Monero Classic\",\"Proton\",\"iDealCash\",\"Jumpcoin\",\"Infinex\",\"Bitcoin Incognito\",\"KEYCO\",\"HollyWoodCoin\",\"GINcoin\",\"PlatinCoin\",\"Loki\",\"Newton Coin\",\"Swisscoin\",\"Xt3ch\",\"MassGrid\",\"TheVig\",\"PluraCoin\",\"EmaratCoin\",\"Dekado\",\"Lynx\",\"Poseidon Quark\",\"BitcoinWSpectrum\",\"Muse\",\"Motion\",\"PlusOneCoin\",\"Axe\",\"Trivechain\",\"Dystem\",\"Giant\",\"Peony Coin\",\"Absolute Coin\",\"Vitae\",\"HexCoin\",\"TPCash\",\"Webchain\",\"Ryo\",\"Urals Coin\",\"Qwertycoin\",\"ARENON\",\"EUNO\",\"MMOCoin\",\"Ketan\",\"Project Pai\",\"XDNA\",\"PAXEX\",\"Azart\",\"ThunderStake\",\"Kcash\",\"Xchange\",\"Acute Angle Cloud\",\"CrypticCoin\",\"Bettex coin\",\"Actinium\",\"Bitcoin SV\",\"BitMoney\",\"Junson Ming Chan Coin\",\"FREDEnergy\",\"HerbCoin\",\"Universal Molecule\",\"Lithium\",\"PirateCash\",\"Exosis\",\"Block-Logic\",\"Oduwa\",\"Beam\",\"Galilel\",\"Bithereum\",\"Crypto Sports\",\"Credit\",\"SLICE\",\"Dash Platinum\",\"Nasdacoin\",\"Beetle Coin\",\"Titan Coin\",\"Award\",\"BLAST\",\"Bitcoin Rhodium\",\"GlobalToken\",\"Insane Coin\",\"ALAX\",\"LiteDoge\",\"SolarCoin\",\"TruckCoin\",\"UFO Coin\",\"OrangeCoin\",\"BlakeCoin\",\"BitstarCoin\",\"NeosCoin\",\"HyperCoin\",\"PinkCoin\",\"Crypto Escudo\",\"AudioCoin\",\"IncaKoin\",\"Piggy Coin\",\"Crown Coin\",\"Genstake\",\"SmileyCoin\",\"XiaoMiCoin\",\"Groestlcoin\",\"CapriCoin\",\" ClubCoin\",\"Radium\",\"Bata\",\"Pakcoin\",\"Creditbit \",\"OKCash\",\"Lisk\",\"HiCoin\",\"WhiteCoin\",\"FriendshipCoin\",\"JoinCoin\",\"Triangles Coin\",\"Vollar\",\"EOS\",\"Reality Clash\",\"Oxycoin\",\"TigerCash\",\"Waves\",\"Particl\",\"BitTorrent\",\"Nxt\",\"ZEPHYR\",\"Gapcoin\",\"Beldex\",\"Horizen\",\"BitcoinPlus\"],\"ProofType\":[\"PoW/PoS\",\"PoW/PoS\",\"PoW/PoS\",\"PoW\",\"PoW\",\"PoW\",\"PoW/PoS\",\"PoW\",\"PoW\",\"PoW\",\"PoS\",\"PoW\",\"PoW/PoS\",\"PoS\",\"PoW\",\"PoW/PoS\",\"PoW\",\"PoW\",\"PoW/PoS\",\"PoW/PoS\",\"PoW\",\"PoW\",\"PoW\",\"PoW\",\"PoW\",\"PoW/PoS\",\"PoW\",\"PoW\",\"PoW\",\"PoW/PoS\",\"PoW\",\"PoW/PoS\",\"PoW\",\"PoW\",\"PoC\",\"PoW/PoS\",\"PoW\",\"PoW\",\"PoW\",\"PoW\",\"PoW\",\"PoW\",\"PoS\",\"PoS/PoW/PoT\",\"PoW\",\"PoW\",\"PoW\",\"PoW\",\"PoW\",\"PoW/PoS\",\"PoS\",\"PoW\",\"PoW/PoS\",\"PoW\",\"PoW\",\"PoW\",\"PoW\",\"PoW/PoS\",\"PoW\",\"PoW\",\"PoS\",\"PoW\",\"PoW/PoS\",\"PoS\",\"PoW/PoS\",\"PoW\",\"PoW\",\"PoW\",\"PoW/PoS\",\"PoW/PoS\",\"PoW/PoS\",\"PoW/PoS\",\"PoW/PoS\",\"PoW\",\"PoW\",\"PoW\",\"PoS\",\"PoW/PoS\",\"PoW\",\"PoS\",\"PoW\",\"PoS\",\"PoW/PoS\",\"PoW\",\"PoW\",\"PoW\",\"PoW\",\"PoW/PoS\",\"PoW/PoS\",\"PoW\",\"PoST\",\"PoW\",\"PoW\",\"PoW/PoS\",\"PoS\",\"PoW\",\"PoW/PoS\",\"PoW/PoS\",\"PoW\",\"PoW\",\"PoC\",\"PoS\",\"PoW\",\"PoW/PoS\",\"PoW/PoS\",\"PoW\",\"PoS\",\"PoW\",\"PoW/PoS\",\"PoW\",\"PoS\",\"PoW\",\"PoW/PoS\",\"PoW/PoS\",\"PoW\",\"PoW\",\"PoS\",\"PoW\",\"PoW\",\"PoW\",\"PoW/PoS\",\"PoW\",\"PoW\",\"PoW\",\"PoW\",\"PoW\",\"PoW/PoS\",\"PoW/nPoS\",\"PoW\",\"PoW\",\"PoW\",\"PoW/PoS\",\"PoW\",\"PoS/PoW\",\"PoW\",\"PoW\",\"PoS\",\"PoW\",\"PoW/PoS\",\"PoW\",\"PoW/PoS\",\"PoW/PoS\",\"PoW\",\"PoW\",\"PoW/PoS\",\"PoW\",\"PoW\",\"PoW/PoS\",\"PoW/PoS\",\"PoW\",\"PoW/PoS\",\"PoW\",\"PoW/PoS\",\"PoW/PoS\",\"PoS\",\"PoW\",\"PoW\",\"PoW\",\"PoW\",\"PoW/PoS\",\"PoS\",\"PoW/PoS\",\"PoC\",\"PoS\",\"PoW\",\"PoW\",\"PoW/PoS\",\"PoW/PoS\",\"PoW/PoS\",\"PoW/PoS\",\"PoW/PoS\",\"PoW\",\"PoS\",\"PoW/PoS\",\"PoW/PoS\",\"PoW/PoS\",\"PoS\",\"PoW\",\"PoS\",\"dPoW/PoW\",\"PoW/PoS\",\"PoW/PoS\",\"PoW\",\"PoW/PoS\",\"PoW\",\"PoW/PoS\",\"PoW/PoS\",\"PoW\",\"PoW/PoS\",\"PoW\",\"PoS\",\"PoW\",\"PoW/PoW\",\"PoW\",\"PoW/PoS\",\"PoS\",\"PoW/PoS\",\"PoW/PoS\",\"PoW\",\"PoS\",\"PoS\",\"PoW/PoS\",\"PoS\",\"PoW/PoS\",\"PoW\",\"PoW\",\"DPoS\",\"PoW/PoS\",\"PoW\",\"PoW\",\"PoW/PoS\",\"PoW/PoS\",\"PoS\",\"PoW/PoS\",\"PoW/PoS\",\"PoW\",\"PoS\",\"PoW/PoS\",\"PoW/PoS\",\"PoW/PoS\",\"TPoS\",\"PoW/PoS\",\"PoW/PoS\",\"PoW/PoS\",\"PoW\",\"PoW/PoS\",\"PoS\",\"PoW/PoS\",\"PoW/PoS\",\"PoS\",\"PoW/PoS\",\"PoW\",\"PoW\",\"PoW\",\"PoW/PoS\",\"PoW/PoS\",\"PoW/PoS\",\"PoW/PoS\",\"PoW\",\"PoW/PoS\",\"PoW\",\"PoS\",\"PoW/PoS \",\"PoW\",\"PoS\",\"PoW\",\"PoW\",\"PoW/PoS\",\"PoW\",\"PoW\",\"PoS\",\"PoW\",\"PoW/PoS\",\"PoW/PoS\",\"PoW/PoS\",\"PoW\",\"PoS\",\"PoW/PoS\",\"PoW\",\"PoS\",\"PoW/PoS\",\"PoW/PoS\",\"PoW/PoS\",\"PoW/PoS\",\"PoS\",\"PoW/PoS\",\"PoW\",\"PoS\",\"PoW\",\"PoS\",\"PoW/PoS\",\"PoW/PoS\",\"PoS\",\"PoW\",\"PoS\",\"PoW\",\"PoW/PoS\",\"PoW\",\"PoW\",\"PoW\",\"PoW\",\"PoW/PoS\",\"PoW\",\"PoW/PoS\",\"PoW/PoS\",\"PoW\",\"PoW/PoS\",\"PoW\",\"PoW\",\"PoW\",\"PoW/PoS\",\"PoW\",\"PoW/PoS\",\"PoW\",\"PoW\",\"PoW\",\"PoS\",\"PoW\",\"PoW/PoS\",\"PoW\",\"PoW/PoS\",\"PoS\",\"Proof of Authority\",\"PoW\",\"PoS\",\"PoW\",\"PoW\",\"PoW\",\"PoW\",\"PoW\",\"PoW/PoS\",\"PoW/PoS\",\"PoW\",\"PoS\",\"PoS\",\"PoW/PoS\",\"PoW\",\"PoW/PoS\",\"PoW\",\"PoW/PoS\",\"PoW\",\"PoS\",\"PoW\",\"PoW/PoS\",\"PoW/PoS\",\"PoW/PoS\",\"PoW/PoS\",\"PoW\",\"PoW/PoS\",\"PoW/PoS\",\"PoW\",\"PoS\",\"PoW/PoS\",\"PoS\",\"PoW\",\"PoW\",\"PoW\",\"PoW\",\"PoW/PoS\",\"DPoS\",\"PoW/PoS\",\"PoW/PoS\",\"PoW\",\"PoW/PoS\",\"PoW\",\"PoW\",\"PoW\",\"PoS\",\"PoS\",\"PoW\",\"PoW\",\"PoW/PoS\",\"PoW/PoS\",\"PoW\",\"PoW/PoS\",\"PoW\",\"PoW\",\"PoW\",\"PoS\",\"PoW\",\"PoW\",\"PoW/PoS\",\"PoW/PoS\",\"PoS\",\"PoW\",\"PoW\",\"PoW\",\"PoS\",\"PoS\",\"PoW and PoS\",\"PoW\",\"PoW\",\"PoW/PoS\",\"PoW\",\"PoW\",\"PoW\",\"PoW\",\"PoS\",\"POBh\",\"PoW + Hive\",\"PoW\",\"PoW\",\"PoW\",\"PoW/PoS\",\"PoA\",\"PoW/PoS\",\"PoW/PoS\",\"PoS\",\"PoS\",\"PoW\",\"PoW\",\"PoW\",\"PoW\",\"PoW/PoS\",\"PoW/PoS\",\"PoW/PoS\",\"PoW\",\"PoS\",\"PoW\",\"PoS\",\"PoS\",\"PoW/PoS\",\"DPoS\",\"PoW\",\"PoW/PoS\",\"PoS\",\"PoW\",\"PoS\",\"PoW/PoS\",\"PoW\",\"PoW\",\"PoS/PoW\",\"PoW\",\"PoS\",\"PoW\",\"PoW\",\"PoW\",\"PoW\",\"PoW/PoS\",\"PoS\",\"PoW\",\"PoW/PoS\",\"PoW\",\"PoW/PoS\",\"PoS\",\"HPoW\",\"PoS\",\"PoS\",\"PoS\",\"PoW\",\"PoW\",\"PoW\",\"PoW/PoS\",\"PoS\",\"PoW/PoS\",\"PoS\",\"PoW/PoS\",\"PoS\",\"PoW\",\"PoW/PoS\",\"PoW\",\"PoW\",\"PoW\",\"PoW\",\"PoS\",\"PoW/PoS\",\"PoS\",\"PoS\",\"PoW\",\"PoW/PoS\",\"PoS\",\"PoW\",\"PoW/PoS\",\"Zero-Knowledge Proof\",\"PoW\",\"DPOS\",\"PoW\",\"PoS\",\"PoW\",\"PoW\",\"Pos\",\"PoS\",\"PoW\",\"PoW/PoS\",\"PoW\",\"PoW\",\"PoS\",\"PoW\",\"PoW\",\"PoW/PoS\",\"PoW\",\"PoW/PoS\",\"PoW\",\"PoS\",\"PoW/PoS\",\"PoW\",\"PoS\",\"PoW/PoS\",\"PoW/PoS\",\"PoW/PoS\",\"PoW/PoS\",\"PoW\",\"PoW\",\"PoW\",\"PoW/PoS\",\"DPoS\",\"PoW/PoS\",\"PoW\",\"PoW/PoS\",\"PoW\",\"PoW/PoS\",\"PoW\",\"PoW/PoS\",\"PoS\",\"PoW/PoS\",\"PoW/PoS\",\"PoW\",\"PoW/PoS\",\"PoW/PoS\",\"PoW/PoS\",\"PoW\",\"PoW/PoS\",\"PoW\",\"PoW/PoS\",\"PoW\",\"PoW/PoS\",\"PoW/PoS\",\"PoS\",\"PoW\",\"PoW\",\"Proof of Trust\",\"PoW/PoS\",\"DPoS\",\"PoS\",\"PoW/PoS\",\"PoW/PoS\",\"PoW\",\"PoW/PoS\",\"PoW\",\"DPoS\",\"PoW\",\"DPoS\",\"PoS\",\"LPoS\",\"PoS\",\"DPoS\",\"PoS/LPoS\",\"DPoS\",\"PoW/PoS\",\"PoW\",\"PoW\",\"PoS\"],\"TotalCoinSupply\":[\"42\",\"532000000\",\"314159265359\",\"21000000\",\"0\",\"84000000\",\"22000000\",\"0\",\"210000000\",\"21000000\",\"3600570502\",\"21000000000\",\"22000000\",\"12500000\",\"21000000\",\"350000000\",\"20000000\",\"64000000\",\"16768584\",\"0\",\"2000000000\",\"384000000000\",\"169795588\",\"250000000\",\"100000000\",\"0\",\"247000000\",\"84000000\",\"48166000\",\"500000\",\"21000000 \",\"1000000\",\"13140000\",\"18000000\",\"40000000000\",\"4380000\",\"16555000000\",\"21000000000\",\"13500000000\",\"21000000 \",\"299792458\",\"32000000\",\"0\",\"0\",\"11235813\",\"336000000\",\"1420609614\",\"70000000\",\"72245700\",\"120000000\",\"0\",\"90600000000\",\"22000000\",\"21000000\",\"265420800\",\"20000000\",\"1350000\",\"100000000\",\"42000000\",\"200000000\",\"0\",\"10000000\",\"2419200000\",\"16180000\",\"0\",\"15000000000\",\"21000000\",\"337000000\",\"0\",\"3770000\",\"420000000\",\"98000000\",\"0\",\"21000000\",\"250000000\",\"51200000\",\"0\",\"1000\",\"888000000\",\"100000000\",\"47011968\",\"2300000000\",\"10000000\",\"42000000\",\"80000000\",\"250000\",\"0\",\"1600000000\",\"100000000\",\"23000000\",\"0\",\"84000000\",\"265420800\",\"5500000\",\"0\",\"45000000\",\"0\",\"1000000000\",\"184467440735\",\"10000000000\",\"2158812800\",\"500000000\",\"105120000\",\"68000000\",\"0\",\"1680000000\",\"0\",\"166386000\",\"12000000\",\"2628000\",\"500000000\",\"160000000\",\"0\",\"10000000\",\"1000000000\",\"1000000000\",\"20000000\",\"0\",\"0\",\"3371337\",\"20000000\",\"10000000000\",\"1840000000\",\"619478\",\"21000000\",\"92000000000\",\"0\",\"78000000\",\"33000000\",\"65789100\",\"53760000\",\"5060000\",\"21000000\",\"0\",\"210240000\",\"250000000\",\"100000000\",\"16906397\",\"50000000\",\"0\",\"1000000000\",\"26298000\",\"16000000\",\"21000000\",\"21000000\",\"210000000\",\"81962100\",\"22000000\",\"26550000000\",\"84000000\",\"10500000\",\"21626280000 \",\"0\",\"42000000\",\"221052632\",\"84000000\",\"30000000\",\"168351300\",\"24000000\",\"384000000\",\" 99000000000\",\"40000000\",\"2147483647\",\"20000000\",\"20000000\",\"25000000\",\"75000000\",\"222725000\",\"525000000\",\"90000000\",\"139000000\",\"616448\",\"33500000\",\"2000000000\",\"44333333\",\"100000000\",\"200000000\",\"25000000\",\"657000000\",\"200000000\",\"50000000\",\"90000000\",\"10000000\",\"21000000\",\"9736000\",\"3000000\",\"21000000\",\"1200000000\",\"0\",\"200000000\",\"0\",\"10638298\",\"3100000000\",\"30000000\",\"20000000000\",\"74000000\",\"0\",\"1500000000\",\"21400000\",\"39999898\",\"2500124\",\"100000000\",\"301000000\",\"7506000000\",\"26205539\",\"21000000\",\"125000000\",\"30000000\",\"10000000000\",\"500000000\",\"850000000\",\"3853326.77707314\",\"50000000\",\"38540000 \",\"42000000\",\"228000000\",\"20000000\",\"60000000\",\"20000000\",\"33000000\",\"76500000\",\"28000000\",\"650659833\",\"5000000\",\"21000000\",\"144000000\",\"32514916898\",\"13000000\",\"3315789\",\"15000000\",\"78835200\",\"2714286\",\"25000000\",\"9999999\",\"500000000\",\"21000000\",\"9354000\",\"20000000\",\"100000000000\",\"21933333\",\"185000000\",\"55000000\",\"110000000\",\"3360000\",\"14524851.4827\",\"1000000000\",\"17000000\",\"1000000000\",\"100000000 \",\"21000000\",\"34426423\",\"2232901\",\"100000000\",\"36900000\",\"110000000\",\"4000000000\",\"110290030\",\"100000000\",\"48252000\",\"400000000\",\"500000000\",\"21212121\",\"28600000\",\"1000000000\",\"75000000000\",\"40000000\",\"35520400\",\"2000000000\",\"2500000000\",\"30000000\",\"105000000\",\"90000000000\",\"200084200\",\"72000000\",\"100000000\",\"105000000\",\"50000000000\",\"0\",\"340282367\",\"30000000\",\"2000000000\",\"10000000\",\"100000000\",\"120000000\",\"100000000\",\"19276800\",\"30000000\",\" 75000000\",\"60000000\",\"18900000\",\"50000000000\",\"54000000\",\"18898187.6216583\",\"21000000\",\"200000000000\",\"5000000000\",\"137500000\",\"1100000000\",\"100000000\",\"21000000\",\"9507271\",\"17405891.19707116\",\"86712634466\",\"10500000000\",\"61599965\",\"0\",\"20000000\",\"84000000\",\"100000000\",\"100000000\",\"48252000\",\"4200000\",\"88888888\",\"91388946\",\"45000000000\",\"27000000\",\"21000000000\",\"400000000\",\"1800000000\",\"15733333\",\"27000000\",\"24000000\",\"21000000\",\"25000000000\",\"100000000\",\"1200000000\",\"60000000\",\"156306732.71\",\"21000000\",\"200000000\",\"100000000\",\"21000000\",\"14788275.991\",\"9000000000\",\"350000000\",\"45000000\",\"280000000\",\"31800000\",\"144000000\",\"500000000\",\"30000000000\",\"210000000\",\"660000000\",\"210000000\",\"85000000000\",\"12500000\",\"10000000000\",\"27716121\",\"20000000\",\"550000000\",\"999481516\",\"50000000000\",\"150000000\",\"4999999999\",\"50000000\",\" 90000000000\",\"19800000\",\"21000000\",\"120000000\",\"500000000\",\"64000000\",\"900000000\",\"4000000\",\"21000000\",\"23000000\",\"20166000\",\"23000000\",\"25000000\",\"1618033\",\"30000000\",\"1000000000000\",\"16600000\",\"232000000\",\"336000000\",\"10000000000\",\"100000000\",\"1100000000\",\"800000000\",\"5200000000\",\"840000000\",\"40000000\",\"18406979840\",\"500000000\",\"19340594\",\"252460800\",\"25000000\",\"60000000\",\"124000000\",\"1000000000\",\"6500000000\",\"1000000000\",\"21000000\",\"25000000\",\"50000000\",\"3000000\",\"5000000\",\"70000000\",\"500000000\",\"300000000\",\"21000000\",\"88000000\",\"30000000\",\"100000000\",\"100000000\",\"200000000\",\"80000000\",\"18400000\",\"45000000\",\"5121951220\",\"21000000\",\"26280000\",\"21000000\",\"18000000\",\"26000000\",\"10500000\",\"600000518\",\"150000000\",\"184000000000\",\"10200000000\",\"44000000\",\"168000000\",\"100000000\",\"1000000000\",\"84000000\",\"90000000\",\"92000000000\",\"650000000 \",\"100262205\",\"18081806 \",\"22075700\",\"21000000\",\"21000000\",\"82546564\",\"21000000\",\"5151000\",\"16880000000\",\"52500000\",\"100000000\",\"22105263\",\"1000000000\",\"1750000000\",\"88188888\",\"210000000\",\"184470000000\",\"55000000\",\"50000000\",\"260000000\",\"210000000\",\"2100000000\",\"366000000\",\"100000000\",\"25000000\",\"18000000000\",\"1000000000\",\"100000000\",\"1000000000\",\"7600000000\",\"50000000\",\"84000000\",\"21000000\",\"70000000000\",\"0\",\"8080000000\",\"54000000\",\"105120001.44\",\"25228800\",\"105000000\",\"21000000\",\"120000000\",\"21000000\",\"262800000\",\"19035999\",\"30886000\",\"13370000\",\"74800000000\",\"100000000\",\"19700000\",\"84000000\",\"500000000\",\"5000000000\",\"420000000\",\"64000000\",\"2100000\",\"168000000\",\"30000000\",\"1000000000\",\"35000000000\",\"98100000000\",\"0\",\"4000000000\",\"200000000\",\"7000000000\",\"54256119\",\"21000000\",\"0\",\"500000000\",\"1000000000\",\"10500000000\",\"190000000\",\"1000000000\",\"42000000\",\"15000000\",\"50000000000\",\"400000000\",\"105000000\",\"208000000\",\"160000000\",\"9000000\",\"5000000\",\"182000000\",\"16504333\",\"105000000\",\"159918400\",\"10008835635\",\"300000000\",\"60168145\",\"2800000\",\"120000\",\"2100000000\",\"0\",\"24487944\",\"0\",\"1000000000\",\"100000000\",\"8634140\",\"990000000000\",\"1000000000\",\"2000000000\",\"250000000\",\"1400222610\",\"21000000\",\"1000000\"],\"TotalCoinsMined\":{\"__ndarray__\":\"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\",\"dtype\":\"float64\",\"order\":\"little\",\"shape\":[532]}},\"selected\":{\"id\":\"1536\"},\"selection_policy\":{\"id\":\"1570\"}},\"id\":\"1535\",\"type\":\"ColumnDataSource\"},{\"attributes\":{},\"id\":\"1570\",\"type\":\"UnionRenderers\"},{\"attributes\":{},\"id\":\"1563\",\"type\":\"IntEditor\"},{\"attributes\":{\"children\":[{\"id\":\"1534\"},{\"id\":\"1567\"},{\"id\":\"1574\"}],\"margin\":[0,0,0,0],\"name\":\"Row03103\",\"tags\":[\"embedded\"]},\"id\":\"1533\",\"type\":\"Row\"},{\"attributes\":{\"editor\":{\"id\":\"1548\"},\"field\":\"ProofType\",\"formatter\":{\"id\":\"1547\"},\"title\":\"ProofType\"},\"id\":\"1549\",\"type\":\"TableColumn\"},{\"attributes\":{},\"id\":\"1553\",\"type\":\"StringEditor\"},{\"attributes\":{\"editor\":{\"id\":\"1558\"},\"field\":\"TotalCoinsMined\",\"formatter\":{\"id\":\"1557\"},\"title\":\"TotalCoinsMined\"},\"id\":\"1559\",\"type\":\"TableColumn\"},{\"attributes\":{\"editor\":{\"id\":\"1553\"},\"field\":\"TotalCoinSupply\",\"formatter\":{\"id\":\"1552\"},\"title\":\"TotalCoinSupply\"},\"id\":\"1554\",\"type\":\"TableColumn\"},{\"attributes\":{},\"id\":\"1536\",\"type\":\"Selection\"},{\"attributes\":{},\"id\":\"1558\",\"type\":\"NumberEditor\"},{\"attributes\":{},\"id\":\"1537\",\"type\":\"StringFormatter\"},{\"attributes\":{},\"id\":\"1562\",\"type\":\"NumberFormatter\"},{\"attributes\":{\"margin\":[5,5,5,5],\"name\":\"HSpacer03107\",\"sizing_mode\":\"stretch_width\"},\"id\":\"1534\",\"type\":\"Spacer\"},{\"attributes\":{\"editor\":{\"id\":\"1563\"},\"field\":\"Class\",\"formatter\":{\"id\":\"1562\"},\"title\":\"Class\"},\"id\":\"1564\",\"type\":\"TableColumn\"},{\"attributes\":{},\"id\":\"1543\",\"type\":\"StringEditor\"}],\"root_ids\":[\"1533\"]},\"title\":\"Bokeh Application\",\"version\":\"2.4.2\"}};\n",
       "    var render_items = [{\"docid\":\"45ac2bf7-f0c9-4d6b-bd27-ced62b55c1fc\",\"root_ids\":[\"1533\"],\"roots\":{\"1533\":\"00950784-f8a2-48a5-8819-cf49f89bfd41\"}}];\n",
       "    root.Bokeh.embed.embed_items_notebook(docs_json, render_items);\n",
       "  }\n",
       "  if (root.Bokeh !== undefined && root.Bokeh.Panel !== undefined) {\n",
       "    embed_document(root);\n",
       "  } else {\n",
       "    var attempts = 0;\n",
       "    var timer = setInterval(function(root) {\n",
       "      if (root.Bokeh !== undefined && root.Bokeh.Panel !== undefined) {\n",
       "        clearInterval(timer);\n",
       "        embed_document(root);\n",
       "      } else if (document.readyState == \"complete\") {\n",
       "        attempts++;\n",
       "        if (attempts > 200) {\n",
       "          clearInterval(timer);\n",
       "          console.log(\"Bokeh: ERROR: Unable to run BokehJS code because BokehJS library is missing\");\n",
       "        }\n",
       "      }\n",
       "    }, 25, root)\n",
       "  }\n",
       "})(window);</script>"
      ],
      "text/plain": [
       ":Table   [CoinName,Algorithm,ProofType,TotalCoinSupply,TotalCoinsMined,Class]"
      ]
     },
     "execution_count": 62,
     "metadata": {
      "application/vnd.holoviews_exec.v0+json": {
       "id": "1533"
      }
     },
     "output_type": "execute_result"
    }
   ],
   "source": [
    "# Create a table with tradable cryptocurrencies\n",
    "\n",
    "clustered_df.hvplot.table([\"CoinName\", \"Algorithm\", \"ProofType\", \"TotalCoinSupply\", \"TotalCoinsMined\", \"Class\"],sortable=True, selectable = True)"
   ]
  },
  {
   "cell_type": "code",
   "execution_count": 63,
   "metadata": {},
   "outputs": [
    {
     "name": "stdout",
     "output_type": "stream",
     "text": [
      "There are 532 tradable cryptocurrencies\n"
     ]
    }
   ],
   "source": [
    "# Print the total number of tradable cryptocurrencies.\n",
    "total = clustered_df.index\n",
    "len(total)\n",
    "print(\"There are \" + str(len(total)) + \" tradable cryptocurrencies\")"
   ]
  },
  {
   "cell_type": "code",
   "execution_count": 64,
   "metadata": {},
   "outputs": [],
   "source": [
    "# Scaling data to create the scatter plot with tradable cryptocurrencies.\n",
    "scaler = clustered_df[[\"TotalCoinsMined\", \"TotalCoinSupply\"]]\n",
    "scaled_clustered_df = MinMaxScaler().fit_transform(scaler)"
   ]
  },
  {
   "cell_type": "code",
   "execution_count": 65,
   "metadata": {},
   "outputs": [
    {
     "data": {
      "text/html": [
       "<div>\n",
       "<style scoped>\n",
       "    .dataframe tbody tr th:only-of-type {\n",
       "        vertical-align: middle;\n",
       "    }\n",
       "\n",
       "    .dataframe tbody tr th {\n",
       "        vertical-align: top;\n",
       "    }\n",
       "\n",
       "    .dataframe thead th {\n",
       "        text-align: right;\n",
       "    }\n",
       "</style>\n",
       "<table border=\"1\" class=\"dataframe\">\n",
       "  <thead>\n",
       "    <tr style=\"text-align: right;\">\n",
       "      <th></th>\n",
       "      <th>TotalCoinsMined</th>\n",
       "      <th>TotalCoinSupply</th>\n",
       "      <th>CoinName</th>\n",
       "      <th>Class</th>\n",
       "    </tr>\n",
       "  </thead>\n",
       "  <tbody>\n",
       "    <tr>\n",
       "      <th>42</th>\n",
       "      <td>0.000000</td>\n",
       "      <td>4.200000e-11</td>\n",
       "      <td>42 Coin</td>\n",
       "      <td>0</td>\n",
       "    </tr>\n",
       "    <tr>\n",
       "      <th>404</th>\n",
       "      <td>0.001066</td>\n",
       "      <td>5.320000e-04</td>\n",
       "      <td>404Coin</td>\n",
       "      <td>0</td>\n",
       "    </tr>\n",
       "    <tr>\n",
       "      <th>1337</th>\n",
       "      <td>0.029576</td>\n",
       "      <td>3.141593e-01</td>\n",
       "      <td>EliteCoin</td>\n",
       "      <td>0</td>\n",
       "    </tr>\n",
       "    <tr>\n",
       "      <th>BTC</th>\n",
       "      <td>0.000018</td>\n",
       "      <td>2.100000e-05</td>\n",
       "      <td>Bitcoin</td>\n",
       "      <td>3</td>\n",
       "    </tr>\n",
       "    <tr>\n",
       "      <th>ETH</th>\n",
       "      <td>0.000109</td>\n",
       "      <td>0.000000e+00</td>\n",
       "      <td>Ethereum</td>\n",
       "      <td>3</td>\n",
       "    </tr>\n",
       "    <tr>\n",
       "      <th>LTC</th>\n",
       "      <td>0.000064</td>\n",
       "      <td>8.400000e-05</td>\n",
       "      <td>Litecoin</td>\n",
       "      <td>3</td>\n",
       "    </tr>\n",
       "    <tr>\n",
       "      <th>DASH</th>\n",
       "      <td>0.000009</td>\n",
       "      <td>2.200000e-05</td>\n",
       "      <td>Dash</td>\n",
       "      <td>0</td>\n",
       "    </tr>\n",
       "    <tr>\n",
       "      <th>XMR</th>\n",
       "      <td>0.000017</td>\n",
       "      <td>0.000000e+00</td>\n",
       "      <td>Monero</td>\n",
       "      <td>3</td>\n",
       "    </tr>\n",
       "    <tr>\n",
       "      <th>ETC</th>\n",
       "      <td>0.000115</td>\n",
       "      <td>2.100000e-04</td>\n",
       "      <td>Ethereum Classic</td>\n",
       "      <td>3</td>\n",
       "    </tr>\n",
       "    <tr>\n",
       "      <th>ZEC</th>\n",
       "      <td>0.000007</td>\n",
       "      <td>2.100000e-05</td>\n",
       "      <td>ZCash</td>\n",
       "      <td>3</td>\n",
       "    </tr>\n",
       "  </tbody>\n",
       "</table>\n",
       "</div>"
      ],
      "text/plain": [
       "      TotalCoinsMined  TotalCoinSupply          CoinName  Class\n",
       "42           0.000000     4.200000e-11           42 Coin      0\n",
       "404          0.001066     5.320000e-04           404Coin      0\n",
       "1337         0.029576     3.141593e-01         EliteCoin      0\n",
       "BTC          0.000018     2.100000e-05           Bitcoin      3\n",
       "ETH          0.000109     0.000000e+00          Ethereum      3\n",
       "LTC          0.000064     8.400000e-05          Litecoin      3\n",
       "DASH         0.000009     2.200000e-05              Dash      0\n",
       "XMR          0.000017     0.000000e+00            Monero      3\n",
       "ETC          0.000115     2.100000e-04  Ethereum Classic      3\n",
       "ZEC          0.000007     2.100000e-05             ZCash      3"
      ]
     },
     "execution_count": 65,
     "metadata": {},
     "output_type": "execute_result"
    }
   ],
   "source": [
    "# Create a new DataFrame that has the scaled data with the clustered_df DataFrame index.\n",
    "plot_df = pd.DataFrame(data=scaled_clustered_df,columns=[\"TotalCoinsMined\", \"TotalCoinSupply\"], index=clustered_df.index)\n",
    "plot_df.head()\n",
    "\n",
    "# Add the \"CoinName\" column from the clustered_df DataFrame to the new DataFrame.\n",
    "plot_df[\"CoinName\"] = clustered_df[\"CoinName\"] \n",
    "\n",
    "# Add the \"Class\" column from the clustered_df DataFrame to the new DataFrame. \n",
    "plot_df[\"Class\"] = clustered_df[\"Class\"] \n",
    "\n",
    "plot_df.head(10)"
   ]
  },
  {
   "cell_type": "code",
   "execution_count": 66,
   "metadata": {},
   "outputs": [
    {
     "data": {},
     "metadata": {},
     "output_type": "display_data"
    },
    {
     "data": {
      "application/vnd.holoviews_exec.v0+json": "",
      "text/html": [
       "<div id='1586'>\n",
       "\n",
       "\n",
       "\n",
       "\n",
       "\n",
       "  <div class=\"bk-root\" id=\"9d67941c-01ce-49cc-ba30-c43fe4cb3fbc\" data-root-id=\"1586\"></div>\n",
       "</div>\n",
       "<script type=\"application/javascript\">(function(root) {\n",
       "  function embed_document(root) {\n",
       "    var docs_json = {\"deb7282f-e77d-46f1-b024-e85c243cc2a2\":{\"defs\":[{\"extends\":null,\"module\":null,\"name\":\"ReactiveHTML1\",\"overrides\":[],\"properties\":[]},{\"extends\":null,\"module\":null,\"name\":\"FlexBox1\",\"overrides\":[],\"properties\":[{\"default\":\"flex-start\",\"kind\":null,\"name\":\"align_content\"},{\"default\":\"flex-start\",\"kind\":null,\"name\":\"align_items\"},{\"default\":\"row\",\"kind\":null,\"name\":\"flex_direction\"},{\"default\":\"wrap\",\"kind\":null,\"name\":\"flex_wrap\"},{\"default\":\"flex-start\",\"kind\":null,\"name\":\"justify_content\"}]},{\"extends\":null,\"module\":null,\"name\":\"GridStack1\",\"overrides\":[],\"properties\":[{\"default\":\"warn\",\"kind\":null,\"name\":\"mode\"},{\"default\":null,\"kind\":null,\"name\":\"ncols\"},{\"default\":null,\"kind\":null,\"name\":\"nrows\"},{\"default\":true,\"kind\":null,\"name\":\"allow_resize\"},{\"default\":true,\"kind\":null,\"name\":\"allow_drag\"},{\"default\":[],\"kind\":null,\"name\":\"state\"}]},{\"extends\":null,\"module\":null,\"name\":\"click1\",\"overrides\":[],\"properties\":[{\"default\":\"\",\"kind\":null,\"name\":\"terminal_output\"},{\"default\":\"\",\"kind\":null,\"name\":\"debug_name\"},{\"default\":0,\"kind\":null,\"name\":\"clears\"}]},{\"extends\":null,\"module\":null,\"name\":\"TemplateActions1\",\"overrides\":[],\"properties\":[{\"default\":0,\"kind\":null,\"name\":\"open_modal\"},{\"default\":0,\"kind\":null,\"name\":\"close_modal\"}]},{\"extends\":null,\"module\":null,\"name\":\"MaterialTemplateActions1\",\"overrides\":[],\"properties\":[{\"default\":0,\"kind\":null,\"name\":\"open_modal\"},{\"default\":0,\"kind\":null,\"name\":\"close_modal\"}]}],\"roots\":{\"references\":[{\"attributes\":{\"coordinates\":null,\"group\":null,\"text_color\":\"black\",\"text_font_size\":\"12pt\"},\"id\":\"1595\",\"type\":\"Title\"},{\"attributes\":{},\"id\":\"1601\",\"type\":\"LinearScale\"},{\"attributes\":{\"axis_label\":\"TotalCoinsMined\",\"coordinates\":null,\"formatter\":{\"id\":\"1625\"},\"group\":null,\"major_label_policy\":{\"id\":\"1626\"},\"ticker\":{\"id\":\"1604\"}},\"id\":\"1603\",\"type\":\"LinearAxis\"},{\"attributes\":{},\"id\":\"1604\",\"type\":\"BasicTicker\"},{\"attributes\":{},\"id\":\"1692\",\"type\":\"UnionRenderers\"},{\"attributes\":{\"fill_alpha\":{\"value\":0.2},\"fill_color\":{\"value\":\"#fc4f30\"},\"hatch_alpha\":{\"value\":0.2},\"hatch_color\":{\"value\":\"#fc4f30\"},\"line_alpha\":{\"value\":0.2},\"line_color\":{\"value\":\"#fc4f30\"},\"size\":{\"value\":5.477225575051661},\"x\":{\"field\":\"TotalCoinsMined\"},\"y\":{\"field\":\"TotalCoinSupply\"}},\"id\":\"1656\",\"type\":\"Scatter\"},{\"attributes\":{},\"id\":\"1626\",\"type\":\"AllLabels\"},{\"attributes\":{\"axis\":{\"id\":\"1603\"},\"coordinates\":null,\"grid_line_color\":null,\"group\":null,\"ticker\":null},\"id\":\"1606\",\"type\":\"Grid\"},{\"attributes\":{},\"id\":\"1612\",\"type\":\"PanTool\"},{\"attributes\":{\"data\":{\"Class\":[3,3,3,3,3,3,3,3,3,3,3,3,3,3,3,3,3,3,3,3,3,3,3,3,3,3,3,3,3,3,3,3,3,3,3,3,3,3,3,3,3,3,3,3,3,3,3,3,3,3,3,3,3,3,3,3,3,3,3,3,3,3,3,3,3,3,3,3,3,3,3,3,3,3,3,3,3,3,3,3,3,3,3,3,3,3,3,3,3,3,3,3,3,3,3,3,3,3,3,3,3,3,3,3,3,3,3,3,3,3,3,3,3,3,3,3,3,3,3,3,3,3,3,3,3,3,3,3,3,3,3,3,3,3,3,3,3,3,3,3,3,3,3,3,3,3,3,3,3,3,3,3,3,3,3,3,3,3,3,3,3,3,3,3,3,3,3,3,3,3,3,3,3,3,3,3,3,3,3,3,3,3,3,3,3,3,3,3,3,3,3,3,3,3,3,3,3,3,3,3,3,3,3,3,3,3,3,3,3,3,3,3,3,3,3,3,3,3,3,3,3,3,3,3,3,3,3,3,3,3,3,3,3,3,3,3,3,3],\"CoinName\":[\"Bitcoin\",\"Ethereum\",\"Litecoin\",\"Monero\",\"Ethereum Classic\",\"ZCash\",\"DigiByte\",\"ProsperCoin\",\"Spreadcoin\",\"Argentum\",\"MyriadCoin\",\"MoonCoin\",\"ZetaCoin\",\"SexCoin\",\"Quatloo\",\"QuarkCoin\",\"Riecoin\",\"Digitalcoin \",\"Catcoin\",\"CannaCoin\",\"CryptCoin\",\"Verge\",\"DevCoin\",\"EarthCoin\",\"E-Gulden\",\"Einsteinium\",\"Emerald\",\"Franko\",\"FeatherCoin\",\"GrandCoin\",\"GlobalCoin\",\"GoldCoin\",\"Infinite Coin\",\"IXcoin\",\"KrugerCoin\",\"LuckyCoin\",\"Litebar \",\"MegaCoin\",\"MediterraneanCoin\",\"MinCoin\",\"NobleCoin\",\"Namecoin\",\"NyanCoin\",\"RonPaulCoin\",\"StableCoin\",\"SmartCoin\",\"SysCoin\",\"TigerCoin\",\"TerraCoin\",\"UnbreakableCoin\",\"Unobtanium\",\"UroCoin\",\"ViaCoin\",\"Vertcoin\",\"WorldCoin\",\"JouleCoin\",\"ByteCoin\",\"DigitalNote \",\"MonaCoin\",\"Gulden\",\"PesetaCoin\",\"Wild Beast Coin\",\"Flo\",\"ArtByte\",\"Folding Coin\",\"Unitus\",\"CypherPunkCoin\",\"OmniCron\",\"GreenCoin\",\"Cryptonite\",\"MasterCoin\",\"SoonCoin\",\"1Credit\",\"MarsCoin \",\"Crypto\",\"Anarchists Prime\",\"BowsCoin\",\"Song Coin\",\"BitZeny\",\"Expanse\",\"Siacoin\",\"MindCoin\",\"I0coin\",\"Revolution VR\",\"HOdlcoin\",\"Gamecredits\",\"CarpeDiemCoin\",\"Adzcoin\",\"SoilCoin\",\"YoCoin\",\"SibCoin\",\"Francs\",\"BolivarCoin\",\"Omni\",\"PizzaCoin\",\"Komodo\",\"Karbo\",\"ZayedCoin\",\"Circuits of Value\",\"DopeCoin\",\"DollarCoin\",\"Shilling\",\"ZCoin\",\"Elementrem\",\"ZClassic\",\"KiloCoin\",\"ArtexCoin\",\"Kurrent\",\"Cannabis Industry Coin\",\"OsmiumCoin\",\"Bikercoins\",\"HexxCoin\",\"PacCoin\",\"Citadel\",\"BeaverCoin\",\"VaultCoin\",\"Zero\",\"Canada eCoin\",\"Zoin\",\"DubaiCoin\",\"EB3coin\",\"Coinonat\",\"BenjiRolls\",\"ILCoin\",\"EquiTrader\",\"Quantum Resistant Ledger\",\"Dynamic\",\"Nano\",\"ChanCoin\",\"Dinastycoin\",\"DigitalPrice\",\"Unify\",\"SocialCoin\",\"ArcticCoin\",\"DAS\",\"LeviarCoin\",\"Bitcore\",\"gCn Coin\",\"SmartCash\",\"Onix\",\"Bitcoin Cash\",\"Sojourn Coin\",\"NewYorkCoin\",\"FrazCoin\",\"Kronecoin\",\"AdCoin\",\"Linx\",\"Sumokoin\",\"BitcoinZ\",\"Elements\",\"VIVO Coin\",\"Bitcoin Gold\",\"Pirl\",\"eBoost\",\"Pura\",\"Innova\",\"Ellaism\",\"GoByte\",\"SHIELD\",\"UltraNote\",\"BitCoal\",\"DaxxCoin\",\"AC3\",\"Lethean\",\"PopularCoin\",\"Photon\",\"Sucre\",\"SparksPay\",\"GunCoin\",\"IrishCoin\",\"Pioneer Coin\",\"UnitedBitcoin\",\"Interzone\",\"TurtleCoin\",\"MUNcoin\",\"Niobio Cash\",\"ShareChain\",\"Travelflex\",\"KREDS\",\"BitFlip\",\"LottoCoin\",\"Crypto Improvement Fund\",\"Callisto Network\",\"BitTube\",\"Poseidon\",\"Aidos Kuneen\",\"Bitrolium\",\"Alpenschillling\",\"FuturoCoin\",\"Monero Classic\",\"Jumpcoin\",\"Infinex\",\"KEYCO\",\"GINcoin\",\"PlatinCoin\",\"Loki\",\"Newton Coin\",\"MassGrid\",\"PluraCoin\",\"Motion\",\"PlusOneCoin\",\"Axe\",\"HexCoin\",\"Webchain\",\"Ryo\",\"Urals Coin\",\"Qwertycoin\",\"Project Pai\",\"Azart\",\"Xchange\",\"CrypticCoin\",\"Actinium\",\"Bitcoin SV\",\"FREDEnergy\",\"Universal Molecule\",\"Lithium\",\"Exosis\",\"Block-Logic\",\"Beam\",\"Bithereum\",\"SLICE\",\"BLAST\",\"Bitcoin Rhodium\",\"GlobalToken\",\"SolarCoin\",\"UFO Coin\",\"BlakeCoin\",\"Crypto Escudo\",\"Crown Coin\",\"SmileyCoin\",\"Groestlcoin\",\"Bata\",\"Pakcoin\",\"JoinCoin\",\"Vollar\",\"Reality Clash\",\"Beldex\",\"Horizen\"],\"TotalCoinSupply\":{\"__ndarray__\":\"ycfuAiUF9j4AAAAAAAAAAMnH7gIlBRY/AAAAAAAAAAC8eapDboYrP8nH7gIlBfY+Gy/dJAaBlT/Jx+4CJQX2PvBo44i1+PQ+je21oPfGED/8qfHSTWJgP/p+arx0k9g/ib6z/mRBJj/8qfHSTWIwPyxDHOviNho/M4gP7PgvMD/Jx+4CJQUWP7L2gSi7QAk/ycfuAiUF9j7wSz/Ze47rPj+rzJTW3/I+pFNXPsvzkD8bL90kBoGVP9nO91PjpYs/ycfuAiUF9j6QlH3NrqUzP43ttaD3xgA/VwJQYS6Q5z7Jx+4CJQU2P2DlR/V3Rlc/0vvG155ZEj+5x9OsU/ASP2+BBMWPMbc/ycfuAiUF9j4QhtqnBWUxP/Bo44i1+PQ+5TOPsjSmtj7Jx+4CJQUGPyxDHOviNio/8GjjiLX45D64HoXrUbiOP8nH7gIlBfY+t32P+usVNj/Jx+4CJQX2Pvyp8dJNYjA/SK+8mvLXCj8BiLt6FRlNP3lgr+vWpQg/ycfuAiUFBj/waOOItfgUP43ttaD3xpA+AAAAAAAAAAB7hQX3Ax74PsnH7gIlBRY/EIbapwVlMT8O1v85zJcHPzgbkQyhnMc/exSuR+F6hD/wSz/Ze44bP7x5qkNuhls/W/Vl2/zOJT9a1mVHlgvGPvBo44i1+CQ//Knx0k1iUD/8qfHSTWJQPwAAAAAAAAAAAAAAAAAAAADehccd5EfMPnsUrkfheoQ/2ubG9IQlXj/k2j6HRsmkPsnH7gIlBfY+WmQ730+Ntz/6nLtdL00BP5RCuSEIPxE/DLjfiIsvDD/Jx+4CJQX2PvBLP9l7jis//Knx0k1iMD+vYF3BRrrxPgAAAAAAAAAAje21oPfG8D7Jx+4CJQX2Prx5qkNuhis/NqDyJ2J8FT/Jx+4CJQUWP4EoVhUzJZY/ycfuAiUFFj9pHVVNEHX/PtZqzafuECY/VOQQcXMq+T7waOOItfj0PixDHOviNvo+NvzifD+vpD4sQxzr4jb6PixDHOviNio/8GjjiLX45D6GKKim+WrkPmEyVTAqqVM/LEMc6+I2Kj8FUDmLZE/mPmkdVU0Qdf8+hrpZzYRw9j5ocXvtfnr7PsnH7gIlBfY+exSuR+F6hD/8qfHSTWJAPyMPRBZp4i0/ycfuAiUF9j5nalGC4sTGPixDHOviNvo+7jW0ZbX45D6ZmZmZmZm5P1bxRuaRPyg/DLjfiIsvzD78qfHSTWJQP2ZMwRpn0/E+LEMc6+I2Gj/Jx+4CJQX2PhFxfE4eu8I+/Knx0k1icD/K8IEYRkwJP4YGlqZ3nwI/exSuR+F6ZD8/q8yU1t8SP7x5qkNuhhs/AAAAAAAAAAA1Xz6j/Uw2P2kdVU0Qdf8+/Knx0k1iYD8sQxzr4jYaP0Tl8JuTNvQ+YTJVMCqpEz9pHVVNEHUPP2hNPRxu0fM+3gAz38FPDD/Jx+4CJQX2PpmZmZmZmck/exSuR+F6dD8vbqMBvAVSP8nH7gIlBfY+Gy/dJAaBhT8AAAAAAAAAAPBo44i1+PQ+ycfuAiUFFj8sQxzr4jYaPyxDHOviNho/YIu+dztNFz8bL90kBoGVP5LLf0i/fV0/3gAz38FP/D7Jx+4CJQX2Pi+IOpzIfCQ/LEMc6+I2Gj/HuriNBvA2Pw7W/znMlwc/0vvG155ZMj/eMBuuH6wAPziEKjV7oEU/wvUoXI/CtT8sQxzr4jbqPnsUrkfheoQ/L26jAbwFQj8ytSUbIWBQP+F8nEfhenQ/CtejcD0Ktz+S762jBcP0PsnH7gIlBfY+/Knx0k1iQD+N7bWg98YQP3uFBfcDHvg+rY3F90Ql9T57hQX3Ax74PgAAAAAAAPA/qVlWUAdo8T7Jx+4CJQU2P3sUrkfheoQ/LEMc6+I2Gj8vbqMBvAVSP/Bo44i1+AQ/D0a5gUfZkj/8qfHSTWJAPzm0yHa+n3o//Knx0k1iUD/Jx+4CJQX2PixDHOviNvo+0vvG155ZEj9hMlUwKqkzPyxDHOviNho//J03XzZL8z7Jx+4CJQX2PvBLP9l7jvs+P6vMlNbf8j7Jx+4CJQXmPjw3G00rqUM/YTJVMCqpIz9aZDvfT43HP8nH7gIlBSY//Knx0k1iUD9f8XWN5iX3PsnH7gIlBfY+ycfuAiUF9j4QukEb1i33PnnpJjEIrFw/LcEvj0EeFz+8eapDboYrP1vri4S2nMc/FYxK6gQ0YT8sQxzr4jb6PixDHOviNho/xY8xdy0hfz/Jx+4CJQUWP8nH7gIlBfY+znADPj+MgD+ul5Tfe44bPzgBR+9NdPo+ycfuAiUF9j5pHVVNEHUfP3aPx2cNOTE/insV4XIxAD8sQxzr4jYaP43ttaD3xhA/B9OLNbedwT7Jx+4CJQUmP1rTvOMUHbk//Knx0k1icD956SYxCKx8P/yp8dJNYlA/ycfuAiUFBj+ZmZmZmZmpP7x5qkNuhhs/8GjjiLX41D7FrYIY6NonP18ZZUf0fMc+FYxK6gQ0YT82eLGybq35PvneSpT18FY/ycfuAiUF9j4=\",\"dtype\":\"float64\",\"order\":\"little\",\"shape\":[238]},\"TotalCoinsMined\":{\"__ndarray__\":\"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\",\"dtype\":\"float64\",\"order\":\"little\",\"shape\":[238]}},\"selected\":{\"id\":\"1698\"},\"selection_policy\":{\"id\":\"1718\"}},\"id\":\"1697\",\"type\":\"ColumnDataSource\"},{\"attributes\":{\"axis_label\":\"TotalCoinSupply\",\"coordinates\":null,\"formatter\":{\"id\":\"1628\"},\"group\":null,\"major_label_policy\":{\"id\":\"1629\"},\"ticker\":{\"id\":\"1608\"}},\"id\":\"1607\",\"type\":\"LinearAxis\"},{\"attributes\":{\"axis\":{\"id\":\"1607\"},\"coordinates\":null,\"dimension\":1,\"grid_line_color\":null,\"group\":null,\"ticker\":null},\"id\":\"1610\",\"type\":\"Grid\"},{\"attributes\":{\"coordinates\":null,\"data_source\":{\"id\":\"1651\"},\"glyph\":{\"id\":\"1654\"},\"group\":null,\"hover_glyph\":null,\"muted_glyph\":{\"id\":\"1656\"},\"nonselection_glyph\":{\"id\":\"1655\"},\"selection_glyph\":{\"id\":\"1672\"},\"view\":{\"id\":\"1658\"}},\"id\":\"1657\",\"type\":\"GlyphRenderer\"},{\"attributes\":{},\"id\":\"1608\",\"type\":\"BasicTicker\"},{\"attributes\":{\"fill_color\":{\"value\":\"#6d904f\"},\"hatch_color\":{\"value\":\"#6d904f\"},\"line_color\":{\"value\":\"#6d904f\"},\"size\":{\"value\":5.477225575051661},\"x\":{\"field\":\"TotalCoinsMined\"},\"y\":{\"field\":\"TotalCoinSupply\"}},\"id\":\"1700\",\"type\":\"Scatter\"},{\"attributes\":{},\"id\":\"1613\",\"type\":\"WheelZoomTool\"},{\"attributes\":{},\"id\":\"1698\",\"type\":\"Selection\"},{\"attributes\":{\"margin\":[5,5,5,5],\"name\":\"HSpacer03298\",\"sizing_mode\":\"stretch_width\"},\"id\":\"1587\",\"type\":\"Spacer\"},{\"attributes\":{},\"id\":\"1611\",\"type\":\"SaveTool\"},{\"attributes\":{\"coordinates\":null,\"data_source\":{\"id\":\"1630\"},\"glyph\":{\"id\":\"1633\"},\"group\":null,\"hover_glyph\":null,\"muted_glyph\":{\"id\":\"1635\"},\"nonselection_glyph\":{\"id\":\"1634\"},\"selection_glyph\":{\"id\":\"1650\"},\"view\":{\"id\":\"1637\"}},\"id\":\"1636\",\"type\":\"GlyphRenderer\"},{\"attributes\":{\"label\":{\"value\":\"1\"},\"renderers\":[{\"id\":\"1657\"}]},\"id\":\"1671\",\"type\":\"LegendItem\"},{\"attributes\":{\"overlay\":{\"id\":\"1616\"}},\"id\":\"1614\",\"type\":\"BoxZoomTool\"},{\"attributes\":{},\"id\":\"1668\",\"type\":\"UnionRenderers\"},{\"attributes\":{},\"id\":\"1615\",\"type\":\"ResetTool\"},{\"attributes\":{},\"id\":\"1645\",\"type\":\"UnionRenderers\"},{\"attributes\":{\"angle\":{\"value\":0.0},\"fill_alpha\":{\"value\":1.0},\"fill_color\":{\"value\":\"#6d904f\"},\"hatch_alpha\":{\"value\":1.0},\"hatch_color\":{\"value\":\"#6d904f\"},\"hatch_scale\":{\"value\":12.0},\"hatch_weight\":{\"value\":1.0},\"line_alpha\":{\"value\":1.0},\"line_cap\":{\"value\":\"butt\"},\"line_color\":{\"value\":\"#6d904f\"},\"line_dash\":{\"value\":[]},\"line_dash_offset\":{\"value\":0},\"line_join\":{\"value\":\"bevel\"},\"line_width\":{\"value\":1},\"marker\":{\"value\":\"circle\"},\"size\":{\"value\":5.477225575051661},\"x\":{\"field\":\"TotalCoinsMined\"},\"y\":{\"field\":\"TotalCoinSupply\"}},\"id\":\"1722\",\"type\":\"Scatter\"},{\"attributes\":{\"children\":[{\"id\":\"1587\"},{\"id\":\"1594\"},{\"id\":\"1867\"}],\"margin\":[0,0,0,0],\"name\":\"Row03294\",\"tags\":[\"embedded\"]},\"id\":\"1586\",\"type\":\"Row\"},{\"attributes\":{\"bottom_units\":\"screen\",\"coordinates\":null,\"fill_alpha\":0.5,\"fill_color\":\"lightgrey\",\"group\":null,\"left_units\":\"screen\",\"level\":\"overlay\",\"line_alpha\":1.0,\"line_color\":\"black\",\"line_dash\":[4,4],\"line_width\":2,\"right_units\":\"screen\",\"syncable\":false,\"top_units\":\"screen\"},\"id\":\"1616\",\"type\":\"BoxAnnotation\"},{\"attributes\":{\"fill_color\":{\"value\":\"#fc4f30\"},\"hatch_color\":{\"value\":\"#fc4f30\"},\"line_color\":{\"value\":\"#fc4f30\"},\"size\":{\"value\":5.477225575051661},\"x\":{\"field\":\"TotalCoinsMined\"},\"y\":{\"field\":\"TotalCoinSupply\"}},\"id\":\"1654\",\"type\":\"Scatter\"},{\"attributes\":{\"source\":{\"id\":\"1651\"}},\"id\":\"1658\",\"type\":\"CDSView\"},{\"attributes\":{\"fill_alpha\":{\"value\":0.1},\"fill_color\":{\"value\":\"#fc4f30\"},\"hatch_alpha\":{\"value\":0.1},\"hatch_color\":{\"value\":\"#fc4f30\"},\"line_alpha\":{\"value\":0.1},\"line_color\":{\"value\":\"#fc4f30\"},\"size\":{\"value\":5.477225575051661},\"x\":{\"field\":\"TotalCoinsMined\"},\"y\":{\"field\":\"TotalCoinSupply\"}},\"id\":\"1655\",\"type\":\"Scatter\"},{\"attributes\":{\"fill_alpha\":{\"value\":0.2},\"fill_color\":{\"value\":\"#30a2da\"},\"hatch_alpha\":{\"value\":0.2},\"hatch_color\":{\"value\":\"#30a2da\"},\"line_alpha\":{\"value\":0.2},\"line_color\":{\"value\":\"#30a2da\"},\"size\":{\"value\":5.477225575051661},\"x\":{\"field\":\"TotalCoinsMined\"},\"y\":{\"field\":\"TotalCoinSupply\"}},\"id\":\"1635\",\"type\":\"Scatter\"},{\"attributes\":{\"end\":1.1,\"reset_end\":1.1,\"reset_start\":-0.1,\"start\":-0.1,\"tags\":[[[\"TotalCoinSupply\",\"TotalCoinSupply\",null]]]},\"id\":\"1589\",\"type\":\"Range1d\"},{\"attributes\":{\"angle\":{\"value\":0.0},\"fill_alpha\":{\"value\":1.0},\"fill_color\":{\"value\":\"#e5ae38\"},\"hatch_alpha\":{\"value\":1.0},\"hatch_color\":{\"value\":\"#e5ae38\"},\"hatch_scale\":{\"value\":12.0},\"hatch_weight\":{\"value\":1.0},\"line_alpha\":{\"value\":1.0},\"line_cap\":{\"value\":\"butt\"},\"line_color\":{\"value\":\"#e5ae38\"},\"line_dash\":{\"value\":[]},\"line_dash_offset\":{\"value\":0},\"line_join\":{\"value\":\"bevel\"},\"line_width\":{\"value\":1},\"marker\":{\"value\":\"circle\"},\"size\":{\"value\":5.477225575051661},\"x\":{\"field\":\"TotalCoinsMined\"},\"y\":{\"field\":\"TotalCoinSupply\"}},\"id\":\"1696\",\"type\":\"Scatter\"},{\"attributes\":{\"tools\":[{\"id\":\"1590\"},{\"id\":\"1611\"},{\"id\":\"1612\"},{\"id\":\"1613\"},{\"id\":\"1614\"},{\"id\":\"1615\"}]},\"id\":\"1617\",\"type\":\"Toolbar\"},{\"attributes\":{\"below\":[{\"id\":\"1603\"}],\"center\":[{\"id\":\"1606\"},{\"id\":\"1610\"}],\"height\":300,\"left\":[{\"id\":\"1607\"}],\"margin\":[5,5,5,5],\"min_border_bottom\":10,\"min_border_left\":10,\"min_border_right\":10,\"min_border_top\":10,\"renderers\":[{\"id\":\"1636\"},{\"id\":\"1657\"},{\"id\":\"1679\"},{\"id\":\"1703\"}],\"right\":[{\"id\":\"1648\"}],\"sizing_mode\":\"fixed\",\"title\":{\"id\":\"1595\"},\"toolbar\":{\"id\":\"1617\"},\"width\":700,\"x_range\":{\"id\":\"1588\"},\"x_scale\":{\"id\":\"1599\"},\"y_range\":{\"id\":\"1589\"},\"y_scale\":{\"id\":\"1601\"}},\"id\":\"1594\",\"subtype\":\"Figure\",\"type\":\"Plot\"},{\"attributes\":{\"click_policy\":\"mute\",\"coordinates\":null,\"group\":null,\"items\":[{\"id\":\"1649\"},{\"id\":\"1671\"},{\"id\":\"1695\"},{\"id\":\"1721\"}],\"location\":[0,0],\"title\":\"Class\"},\"id\":\"1648\",\"type\":\"Legend\"},{\"attributes\":{\"source\":{\"id\":\"1630\"}},\"id\":\"1637\",\"type\":\"CDSView\"},{\"attributes\":{\"fill_color\":{\"value\":\"#30a2da\"},\"hatch_color\":{\"value\":\"#30a2da\"},\"line_color\":{\"value\":\"#30a2da\"},\"size\":{\"value\":5.477225575051661},\"x\":{\"field\":\"TotalCoinsMined\"},\"y\":{\"field\":\"TotalCoinSupply\"}},\"id\":\"1633\",\"type\":\"Scatter\"},{\"attributes\":{\"margin\":[5,5,5,5],\"name\":\"HSpacer03299\",\"sizing_mode\":\"stretch_width\"},\"id\":\"1867\",\"type\":\"Spacer\"},{\"attributes\":{\"data\":{\"Class\":[0,0,0,0,0,0,0,0,0,0,0,0,0,0,0,0,0,0,0,0,0,0,0,0,0,0,0,0,0,0,0,0,0,0,0,0,0,0,0,0,0,0,0,0,0,0,0,0,0,0,0,0,0,0,0,0,0,0,0,0,0,0,0,0,0,0,0,0,0,0,0,0,0,0,0,0,0,0,0,0,0,0,0,0,0,0,0,0,0,0,0,0,0,0,0,0,0,0,0,0,0,0,0,0,0,0,0,0,0,0,0,0,0,0,0,0,0,0,0,0,0,0,0,0,0,0,0,0,0,0,0,0,0,0,0,0,0,0,0,0,0,0,0,0,0,0,0,0,0,0,0,0,0,0,0,0,0,0,0,0,0,0,0,0,0,0,0,0,0,0,0,0,0,0,0,0,0,0,0,0,0,0,0,0,0,0,0,0,0,0,0,0,0,0,0,0,0,0,0,0,0,0,0,0,0,0,0,0,0,0,0,0,0,0,0,0,0,0,0,0,0,0,0,0,0,0,0,0,0,0,0,0,0,0,0,0,0,0,0,0,0,0,0,0,0,0,0,0,0,0,0,0,0,0,0,0,0,0,0,0,0,0,0,0,0,0,0,0,0,0,0,0,0,0,0,0,0,0,0,0,0,0,0,0,0,0,0,0,0],\"CoinName\":[\"42 Coin\",\"404Coin\",\"EliteCoin\",\"Dash\",\"Bitshares\",\"BitcoinDark\",\"PayCoin\",\"KoboCoin\",\"Aurora Coin\",\"BlueCoin\",\"EnergyCoin\",\"BitBar\",\"CryptoBullion\",\"CasinoCoin\",\"Diamond\",\"Exclusive Coin\",\"FlutterCoin\",\"HoboNickels\",\"HyperStake\",\"IOCoin\",\"MaxCoin\",\"MintCoin\",\"MazaCoin\",\"Nautilus Coin\",\"NavCoin\",\"OpalCoin\",\"Orbitcoin\",\"PotCoin\",\"PhoenixCoin\",\"Reddcoin\",\"SuperCoin\",\"SyncCoin\",\"TeslaCoin\",\"TittieCoin\",\"TorCoin\",\"UnitaryStatus Dollar\",\"UltraCoin\",\"VeriCoin\",\"X11 Coin\",\"Crypti\",\"StealthCoin\",\"ZCC Coin\",\"BurstCoin\",\"StorjCoin\",\"Neutron\",\"FairCoin\",\"RubyCoin\",\"Kore\",\"Dnotes\",\"8BIT Coin\",\"Sativa Coin\",\"Ucoin\",\"Vtorrent\",\"IslaCoin\",\"Nexus\",\"Droidz\",\"Squall Coin\",\"Diggits\",\"Paycon\",\"Emercoin\",\"EverGreenCoin\",\"Decred\",\"EDRCoin\",\"Hitcoin\",\"DubaiCoin\",\"PWR Coin\",\"BillaryCoin\",\"GPU Coin\",\"EuropeCoin\",\"ZeitCoin\",\"SwingCoin\",\"SafeExchangeCoin\",\"Nebuchadnezzar\",\"Ratecoin\",\"Revenu\",\"Clockcoin\",\"VIP Tokens\",\"BitSend\",\"Let it Ride\",\"PutinCoin\",\"iBankCoin\",\"Frankywillcoin\",\"MudraCoin\",\"Lutetium Coin\",\"GoldBlocks\",\"CarterCoin\",\"BitTokens\",\"MustangCoin\",\"ZoneCoin\",\"RootCoin\",\"BitCurrency\",\"Swiscoin\",\"BuzzCoin\",\"Opair\",\"PesoBit\",\"Halloween Coin\",\"CoffeeCoin\",\"RoyalCoin\",\"GanjaCoin V2\",\"TeamUP\",\"LanaCoin\",\"ARK\",\"InsaneCoin\",\"EmberCoin\",\"XenixCoin\",\"FreeCoin\",\"PLNCoin\",\"AquariusCoin\",\"Creatio\",\"Eternity\",\"Eurocoin\",\"BitcoinFast\",\"Stakenet\",\"BitConnect Coin\",\"MoneyCoin\",\"Enigma\",\"Russiacoin\",\"PandaCoin\",\"GameUnits\",\"GAKHcoin\",\"Allsafe\",\"LiteCreed\",\"Klingon Empire Darsek\",\"Internet of People\",\"KushCoin\",\"Printerium\",\"Impeach\",\"Zilbercoin\",\"FirstCoin\",\"FindCoin\",\"OpenChat\",\"RenosCoin\",\"VirtacoinPlus\",\"TajCoin\",\"Impact\",\"Atmos\",\"HappyCoin\",\"MacronCoin\",\"Condensate\",\"Independent Money System\",\"ArgusCoin\",\"LomoCoin\",\"ProCurrency\",\"GoldReserve\",\"GrowthCoin\",\"Phreak\",\"Degas Coin\",\"HTML5 Coin\",\"Ultimate Secure Cash\",\"QTUM\",\"Espers\",\"Denarius\",\"Virta Unique Coin\",\"Bitcoin Planet\",\"BritCoin\",\"Linda\",\"DeepOnion\",\"Signatum\",\"Cream\",\"Monoeci\",\"Draftcoin\",\"Vechain\",\"Stakecoin\",\"CoinonatX\",\"Ethereum Dark\",\"Obsidian\",\"Cardano\",\"Regalcoin\",\"TrezarCoin\",\"TerraNovaCoin\",\"Rupee\",\"WomenCoin\",\"Theresa May Coin\",\"NamoCoin\",\"LUXCoin\",\"Xios\",\"Bitcloud 2.0\",\"KekCoin\",\"BlackholeCoin\",\"Infinity Economics\",\"Magnet\",\"Lamden Tau\",\"Electra\",\"Bitcoin Diamond\",\"Cash & Back Coin\",\"Bulwark\",\"Kalkulus\",\"GermanCoin\",\"LiteCoin Ultra\",\"PhantomX\",\"Digiwage\",\"Trollcoin\",\"Litecoin Plus\",\"Monkey Project\",\"TokenPay\",\"1717 Masonic Commemorative Token\",\"My Big Coin\",\"Unified Society USDEX\",\"Tokyo Coin\",\"Stipend\",\"Poa Network\",\"Pushi\",\"Ellerium\",\"Velox\",\"Ontology\",\"Bitspace\",\"Briacoin\",\"Ignition\",\"MedicCoin\",\"Bitcoin Green\",\"Deviant Coin\",\"Abjcoin\",\"Semux\",\"Carebit\",\"Zealium\",\"Proton\",\"iDealCash\",\"Bitcoin Incognito\",\"HollyWoodCoin\",\"Swisscoin\",\"Xt3ch\",\"TheVig\",\"EmaratCoin\",\"Dekado\",\"Lynx\",\"Poseidon Quark\",\"BitcoinWSpectrum\",\"Muse\",\"Trivechain\",\"Dystem\",\"Giant\",\"Peony Coin\",\"Absolute Coin\",\"Vitae\",\"TPCash\",\"ARENON\",\"EUNO\",\"MMOCoin\",\"Ketan\",\"XDNA\",\"PAXEX\",\"ThunderStake\",\"Kcash\",\"Bettex coin\",\"BitMoney\",\"Junson Ming Chan Coin\",\"HerbCoin\",\"PirateCash\",\"Oduwa\",\"Galilel\",\"Crypto Sports\",\"Credit\",\"Dash Platinum\",\"Nasdacoin\",\"Beetle Coin\",\"Titan Coin\",\"Award\",\"Insane Coin\",\"ALAX\",\"LiteDoge\",\"TruckCoin\",\"OrangeCoin\",\"BitstarCoin\",\"NeosCoin\",\"HyperCoin\",\"PinkCoin\",\"AudioCoin\",\"IncaKoin\",\"Piggy Coin\",\"Genstake\",\"XiaoMiCoin\",\"CapriCoin\",\" ClubCoin\",\"Radium\",\"Creditbit \",\"OKCash\",\"Lisk\",\"HiCoin\",\"WhiteCoin\",\"FriendshipCoin\",\"Triangles Coin\",\"EOS\",\"Oxycoin\",\"TigerCash\",\"Particl\",\"Nxt\",\"ZEPHYR\",\"Gapcoin\",\"BitcoinPlus\"],\"TotalCoinSupply\":{\"__ndarray__\":\"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\",\"dtype\":\"float64\",\"order\":\"little\",\"shape\":[289]},\"TotalCoinsMined\":{\"__ndarray__\":\"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\",\"dtype\":\"float64\",\"order\":\"little\",\"shape\":[289]}},\"selected\":{\"id\":\"1631\"},\"selection_policy\":{\"id\":\"1645\"}},\"id\":\"1630\",\"type\":\"ColumnDataSource\"},{\"attributes\":{\"angle\":{\"value\":0.0},\"fill_alpha\":{\"value\":1.0},\"fill_color\":{\"value\":\"#fc4f30\"},\"hatch_alpha\":{\"value\":1.0},\"hatch_color\":{\"value\":\"#fc4f30\"},\"hatch_scale\":{\"value\":12.0},\"hatch_weight\":{\"value\":1.0},\"line_alpha\":{\"value\":1.0},\"line_cap\":{\"value\":\"butt\"},\"line_color\":{\"value\":\"#fc4f30\"},\"line_dash\":{\"value\":[]},\"line_dash_offset\":{\"value\":0},\"line_join\":{\"value\":\"bevel\"},\"line_width\":{\"value\":1},\"marker\":{\"value\":\"circle\"},\"size\":{\"value\":5.477225575051661},\"x\":{\"field\":\"TotalCoinsMined\"},\"y\":{\"field\":\"TotalCoinSupply\"}},\"id\":\"1672\",\"type\":\"Scatter\"},{\"attributes\":{\"data\":{\"Class\":[1,1,1,1],\"CoinName\":[\"BiblePay\",\"LitecoinCash\",\"Acute Angle Cloud\",\"Waves\"],\"TotalCoinSupply\":{\"__ndarray__\":\"lPYGX5hMdT+8eapDboZLP/yp8dJNYlA/LEMc6+I2Gj8=\",\"dtype\":\"float64\",\"order\":\"little\",\"shape\":[4]},\"TotalCoinsMined\":{\"__ndarray__\":\"j1gNkdpTXT+QpMXySiFFP3pDQwW4jFA/+0V+YL96Gj8=\",\"dtype\":\"float64\",\"order\":\"little\",\"shape\":[4]}},\"selected\":{\"id\":\"1652\"},\"selection_policy\":{\"id\":\"1668\"}},\"id\":\"1651\",\"type\":\"ColumnDataSource\"},{\"attributes\":{},\"id\":\"1599\",\"type\":\"LinearScale\"},{\"attributes\":{\"fill_alpha\":{\"value\":0.1},\"fill_color\":{\"value\":\"#e5ae38\"},\"hatch_alpha\":{\"value\":0.1},\"hatch_color\":{\"value\":\"#e5ae38\"},\"line_alpha\":{\"value\":0.1},\"line_color\":{\"value\":\"#e5ae38\"},\"size\":{\"value\":5.477225575051661},\"x\":{\"field\":\"TotalCoinsMined\"},\"y\":{\"field\":\"TotalCoinSupply\"}},\"id\":\"1677\",\"type\":\"Scatter\"},{\"attributes\":{\"source\":{\"id\":\"1673\"}},\"id\":\"1680\",\"type\":\"CDSView\"},{\"attributes\":{\"fill_alpha\":{\"value\":0.2},\"fill_color\":{\"value\":\"#e5ae38\"},\"hatch_alpha\":{\"value\":0.2},\"hatch_color\":{\"value\":\"#e5ae38\"},\"line_alpha\":{\"value\":0.2},\"line_color\":{\"value\":\"#e5ae38\"},\"size\":{\"value\":5.477225575051661},\"x\":{\"field\":\"TotalCoinsMined\"},\"y\":{\"field\":\"TotalCoinSupply\"}},\"id\":\"1678\",\"type\":\"Scatter\"},{\"attributes\":{\"end\":1.042857142857143,\"reset_end\":1.042857142857143,\"reset_start\":-0.04285714285714286,\"start\":-0.04285714285714286,\"tags\":[[[\"TotalCoinsMined\",\"TotalCoinsMined\",null]]]},\"id\":\"1588\",\"type\":\"Range1d\"},{\"attributes\":{\"fill_alpha\":{\"value\":0.1},\"fill_color\":{\"value\":\"#30a2da\"},\"hatch_alpha\":{\"value\":0.1},\"hatch_color\":{\"value\":\"#30a2da\"},\"line_alpha\":{\"value\":0.1},\"line_color\":{\"value\":\"#30a2da\"},\"size\":{\"value\":5.477225575051661},\"x\":{\"field\":\"TotalCoinsMined\"},\"y\":{\"field\":\"TotalCoinSupply\"}},\"id\":\"1634\",\"type\":\"Scatter\"},{\"attributes\":{\"fill_alpha\":{\"value\":0.2},\"fill_color\":{\"value\":\"#6d904f\"},\"hatch_alpha\":{\"value\":0.2},\"hatch_color\":{\"value\":\"#6d904f\"},\"line_alpha\":{\"value\":0.2},\"line_color\":{\"value\":\"#6d904f\"},\"size\":{\"value\":5.477225575051661},\"x\":{\"field\":\"TotalCoinsMined\"},\"y\":{\"field\":\"TotalCoinSupply\"}},\"id\":\"1702\",\"type\":\"Scatter\"},{\"attributes\":{\"coordinates\":null,\"data_source\":{\"id\":\"1697\"},\"glyph\":{\"id\":\"1700\"},\"group\":null,\"hover_glyph\":null,\"muted_glyph\":{\"id\":\"1702\"},\"nonselection_glyph\":{\"id\":\"1701\"},\"selection_glyph\":{\"id\":\"1722\"},\"view\":{\"id\":\"1704\"}},\"id\":\"1703\",\"type\":\"GlyphRenderer\"},{\"attributes\":{\"callback\":null,\"renderers\":[{\"id\":\"1636\"},{\"id\":\"1657\"},{\"id\":\"1679\"},{\"id\":\"1703\"}],\"tags\":[\"hv_created\"],\"tooltips\":[[\"Class\",\"@{Class}\"],[\"TotalCoinsMined\",\"@{TotalCoinsMined}\"],[\"TotalCoinSupply\",\"@{TotalCoinSupply}\"],[\"CoinName\",\"@{CoinName}\"]]},\"id\":\"1590\",\"type\":\"HoverTool\"},{\"attributes\":{},\"id\":\"1629\",\"type\":\"AllLabels\"},{\"attributes\":{\"fill_alpha\":{\"value\":0.1},\"fill_color\":{\"value\":\"#6d904f\"},\"hatch_alpha\":{\"value\":0.1},\"hatch_color\":{\"value\":\"#6d904f\"},\"line_alpha\":{\"value\":0.1},\"line_color\":{\"value\":\"#6d904f\"},\"size\":{\"value\":5.477225575051661},\"x\":{\"field\":\"TotalCoinsMined\"},\"y\":{\"field\":\"TotalCoinSupply\"}},\"id\":\"1701\",\"type\":\"Scatter\"},{\"attributes\":{\"angle\":{\"value\":0.0},\"fill_alpha\":{\"value\":1.0},\"fill_color\":{\"value\":\"#30a2da\"},\"hatch_alpha\":{\"value\":1.0},\"hatch_color\":{\"value\":\"#30a2da\"},\"hatch_scale\":{\"value\":12.0},\"hatch_weight\":{\"value\":1.0},\"line_alpha\":{\"value\":1.0},\"line_cap\":{\"value\":\"butt\"},\"line_color\":{\"value\":\"#30a2da\"},\"line_dash\":{\"value\":[]},\"line_dash_offset\":{\"value\":0},\"line_join\":{\"value\":\"bevel\"},\"line_width\":{\"value\":1},\"marker\":{\"value\":\"circle\"},\"size\":{\"value\":5.477225575051661},\"x\":{\"field\":\"TotalCoinsMined\"},\"y\":{\"field\":\"TotalCoinSupply\"}},\"id\":\"1650\",\"type\":\"Scatter\"},{\"attributes\":{\"label\":{\"value\":\"3\"},\"renderers\":[{\"id\":\"1703\"}]},\"id\":\"1721\",\"type\":\"LegendItem\"},{\"attributes\":{\"source\":{\"id\":\"1697\"}},\"id\":\"1704\",\"type\":\"CDSView\"},{\"attributes\":{},\"id\":\"1628\",\"type\":\"BasicTickFormatter\"},{\"attributes\":{\"label\":{\"value\":\"0\"},\"renderers\":[{\"id\":\"1636\"}]},\"id\":\"1649\",\"type\":\"LegendItem\"},{\"attributes\":{},\"id\":\"1631\",\"type\":\"Selection\"},{\"attributes\":{\"data\":{\"Class\":[2],\"CoinName\":[\"BitTorrent\"],\"TotalCoinSupply\":{\"__ndarray__\":\"rkfhehSu7z8=\",\"dtype\":\"float64\",\"order\":\"little\",\"shape\":[1]},\"TotalCoinsMined\":{\"__ndarray__\":\"AAAAAAAA8D8=\",\"dtype\":\"float64\",\"order\":\"little\",\"shape\":[1]}},\"selected\":{\"id\":\"1674\"},\"selection_policy\":{\"id\":\"1692\"}},\"id\":\"1673\",\"type\":\"ColumnDataSource\"},{\"attributes\":{},\"id\":\"1652\",\"type\":\"Selection\"},{\"attributes\":{\"fill_color\":{\"value\":\"#e5ae38\"},\"hatch_color\":{\"value\":\"#e5ae38\"},\"line_color\":{\"value\":\"#e5ae38\"},\"size\":{\"value\":5.477225575051661},\"x\":{\"field\":\"TotalCoinsMined\"},\"y\":{\"field\":\"TotalCoinSupply\"}},\"id\":\"1676\",\"type\":\"Scatter\"},{\"attributes\":{},\"id\":\"1625\",\"type\":\"BasicTickFormatter\"},{\"attributes\":{},\"id\":\"1718\",\"type\":\"UnionRenderers\"},{\"attributes\":{\"label\":{\"value\":\"2\"},\"renderers\":[{\"id\":\"1679\"}]},\"id\":\"1695\",\"type\":\"LegendItem\"},{\"attributes\":{},\"id\":\"1674\",\"type\":\"Selection\"},{\"attributes\":{\"coordinates\":null,\"data_source\":{\"id\":\"1673\"},\"glyph\":{\"id\":\"1676\"},\"group\":null,\"hover_glyph\":null,\"muted_glyph\":{\"id\":\"1678\"},\"nonselection_glyph\":{\"id\":\"1677\"},\"selection_glyph\":{\"id\":\"1696\"},\"view\":{\"id\":\"1680\"}},\"id\":\"1679\",\"type\":\"GlyphRenderer\"}],\"root_ids\":[\"1586\"]},\"title\":\"Bokeh Application\",\"version\":\"2.4.2\"}};\n",
       "    var render_items = [{\"docid\":\"deb7282f-e77d-46f1-b024-e85c243cc2a2\",\"root_ids\":[\"1586\"],\"roots\":{\"1586\":\"9d67941c-01ce-49cc-ba30-c43fe4cb3fbc\"}}];\n",
       "    root.Bokeh.embed.embed_items_notebook(docs_json, render_items);\n",
       "  }\n",
       "  if (root.Bokeh !== undefined && root.Bokeh.Panel !== undefined) {\n",
       "    embed_document(root);\n",
       "  } else {\n",
       "    var attempts = 0;\n",
       "    var timer = setInterval(function(root) {\n",
       "      if (root.Bokeh !== undefined && root.Bokeh.Panel !== undefined) {\n",
       "        clearInterval(timer);\n",
       "        embed_document(root);\n",
       "      } else if (document.readyState == \"complete\") {\n",
       "        attempts++;\n",
       "        if (attempts > 200) {\n",
       "          clearInterval(timer);\n",
       "          console.log(\"Bokeh: ERROR: Unable to run BokehJS code because BokehJS library is missing\");\n",
       "        }\n",
       "      }\n",
       "    }, 25, root)\n",
       "  }\n",
       "})(window);</script>"
      ],
      "text/plain": [
       ":NdOverlay   [Class]\n",
       "   :Scatter   [TotalCoinsMined]   (TotalCoinSupply,CoinName)"
      ]
     },
     "execution_count": 66,
     "metadata": {
      "application/vnd.holoviews_exec.v0+json": {
       "id": "1586"
      }
     },
     "output_type": "execute_result"
    }
   ],
   "source": [
    "# Create a hvplot.scatter plot using x=\"TotalCoinsMined\" and y=\"TotalCoinSupply\".\n",
    "plot_df.hvplot.scatter(x=\"TotalCoinsMined\", y=\"TotalCoinSupply\", by=\"Class\", hover_cols=[\"CoinName\"])"
   ]
  },
  {
   "cell_type": "code",
   "execution_count": null,
   "metadata": {},
   "outputs": [],
   "source": []
  }
 ],
 "metadata": {
  "file_extension": ".py",
  "kernelspec": {
   "display_name": "PythonData",
   "language": "python",
   "name": "pythondata"
  },
  "language_info": {
   "codemirror_mode": {
    "name": "ipython",
    "version": 3
   },
   "file_extension": ".py",
   "mimetype": "text/x-python",
   "name": "python",
   "nbconvert_exporter": "python",
   "pygments_lexer": "ipython3",
   "version": "3.9.12"
  },
  "latex_envs": {
   "LaTeX_envs_menu_present": true,
   "autoclose": false,
   "autocomplete": true,
   "bibliofile": "biblio.bib",
   "cite_by": "apalike",
   "current_citInitial": 1,
   "eqLabelWithNumbers": true,
   "eqNumInitial": 1,
   "hotkeys": {
    "equation": "Ctrl-E",
    "itemize": "Ctrl-I"
   },
   "labels_anchors": false,
   "latex_user_defs": false,
   "report_style_numbering": false,
   "user_envs_cfg": false
  },
  "mimetype": "text/x-python",
  "name": "python",
  "npconvert_exporter": "python",
  "pygments_lexer": "ipython3",
  "version": 3
 },
 "nbformat": 4,
 "nbformat_minor": 2
}
